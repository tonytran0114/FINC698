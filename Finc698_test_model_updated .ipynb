{
 "cells": [
  {
   "cell_type": "code",
   "execution_count": 1,
   "id": "decc48d4-a98d-4c28-b0c0-a99985a9bb37",
   "metadata": {},
   "outputs": [],
   "source": [
    "import pandas as pd\n",
    "import numpy as np\n",
    "import matplotlib.pyplot as plt\n",
    "import seaborn as sns"
   ]
  },
  {
   "cell_type": "code",
   "execution_count": 2,
   "id": "7505b833-d96b-47b0-b21d-1c63ce2fc6c0",
   "metadata": {},
   "outputs": [],
   "source": [
    "df = pd.read_csv(\"reduced_loan.csv\")\n",
    "\n",
    "# Leave clean cols\n",
    "for base, alt in [\n",
    "    ('verification_status', 'verification_status.1'),\n",
    "    ('application_type', 'application_type.1'),\n",
    "    ('initial_list_status', 'initial_list_status.1'),\n",
    "    ('purpose', 'purpose.1'),\n",
    "]:\n",
    "      if base in df.columns and alt in df.columns:\n",
    "        df[base] = df[base].fillna(df[alt])\n",
    "        df = df.drop(columns=[alt])"
   ]
  },
  {
   "cell_type": "code",
   "execution_count": 3,
   "id": "66afc5e0-fa45-43a2-bdd3-1500addd2f35",
   "metadata": {
    "scrolled": true
   },
   "outputs": [
    {
     "data": {
      "text/html": [
       "<div>\n",
       "<style scoped>\n",
       "    .dataframe tbody tr th:only-of-type {\n",
       "        vertical-align: middle;\n",
       "    }\n",
       "\n",
       "    .dataframe tbody tr th {\n",
       "        vertical-align: top;\n",
       "    }\n",
       "\n",
       "    .dataframe thead th {\n",
       "        text-align: right;\n",
       "    }\n",
       "</style>\n",
       "<table border=\"1\" class=\"dataframe\">\n",
       "  <thead>\n",
       "    <tr style=\"text-align: right;\">\n",
       "      <th></th>\n",
       "      <th>loan_amnt</th>\n",
       "      <th>term</th>\n",
       "      <th>int_rate</th>\n",
       "      <th>installment</th>\n",
       "      <th>grade</th>\n",
       "      <th>sub_grade</th>\n",
       "      <th>emp_title</th>\n",
       "      <th>emp_length</th>\n",
       "      <th>home_ownership</th>\n",
       "      <th>annual_inc</th>\n",
       "      <th>...</th>\n",
       "      <th>earliest_cr_line</th>\n",
       "      <th>open_acc</th>\n",
       "      <th>pub_rec</th>\n",
       "      <th>revol_bal</th>\n",
       "      <th>revol_util</th>\n",
       "      <th>total_acc</th>\n",
       "      <th>initial_list_status</th>\n",
       "      <th>application_type</th>\n",
       "      <th>mort_acc</th>\n",
       "      <th>pub_rec_bankruptcies</th>\n",
       "    </tr>\n",
       "  </thead>\n",
       "  <tbody>\n",
       "    <tr>\n",
       "      <th>0</th>\n",
       "      <td>35000</td>\n",
       "      <td>36 months</td>\n",
       "      <td>12.12</td>\n",
       "      <td>1164.51</td>\n",
       "      <td>B</td>\n",
       "      <td>B3</td>\n",
       "      <td>Legacy Physicians Group</td>\n",
       "      <td>&lt; 1 year</td>\n",
       "      <td>RENT</td>\n",
       "      <td>90000.0</td>\n",
       "      <td>...</td>\n",
       "      <td>Nov-1997</td>\n",
       "      <td>14.0</td>\n",
       "      <td>0.0</td>\n",
       "      <td>1347</td>\n",
       "      <td>8.1</td>\n",
       "      <td>22.0</td>\n",
       "      <td>w</td>\n",
       "      <td>Individual</td>\n",
       "      <td>1.0</td>\n",
       "      <td>0.0</td>\n",
       "    </tr>\n",
       "    <tr>\n",
       "      <th>1</th>\n",
       "      <td>30000</td>\n",
       "      <td>60 months</td>\n",
       "      <td>10.75</td>\n",
       "      <td>648.54</td>\n",
       "      <td>B</td>\n",
       "      <td>B4</td>\n",
       "      <td>Director of nursing</td>\n",
       "      <td>2 years</td>\n",
       "      <td>RENT</td>\n",
       "      <td>100000.0</td>\n",
       "      <td>...</td>\n",
       "      <td>Jun-2011</td>\n",
       "      <td>17.0</td>\n",
       "      <td>0.0</td>\n",
       "      <td>29780</td>\n",
       "      <td>52.7</td>\n",
       "      <td>25.0</td>\n",
       "      <td>f</td>\n",
       "      <td>Individual</td>\n",
       "      <td>0.0</td>\n",
       "      <td>0.0</td>\n",
       "    </tr>\n",
       "    <tr>\n",
       "      <th>2</th>\n",
       "      <td>15000</td>\n",
       "      <td>36 months</td>\n",
       "      <td>7.49</td>\n",
       "      <td>466.53</td>\n",
       "      <td>A</td>\n",
       "      <td>A4</td>\n",
       "      <td>Partner</td>\n",
       "      <td>5 years</td>\n",
       "      <td>OWN</td>\n",
       "      <td>100000.0</td>\n",
       "      <td>...</td>\n",
       "      <td>Apr-1996</td>\n",
       "      <td>16.0</td>\n",
       "      <td>0.0</td>\n",
       "      <td>7425</td>\n",
       "      <td>10.3</td>\n",
       "      <td>25.0</td>\n",
       "      <td>w</td>\n",
       "      <td>Individual</td>\n",
       "      <td>1.0</td>\n",
       "      <td>0.0</td>\n",
       "    </tr>\n",
       "    <tr>\n",
       "      <th>3</th>\n",
       "      <td>24000</td>\n",
       "      <td>60 months</td>\n",
       "      <td>21.15</td>\n",
       "      <td>651.31</td>\n",
       "      <td>E</td>\n",
       "      <td>E2</td>\n",
       "      <td>Einstein Bros. Bagels</td>\n",
       "      <td>5 years</td>\n",
       "      <td>RENT</td>\n",
       "      <td>58000.0</td>\n",
       "      <td>...</td>\n",
       "      <td>Aug-1998</td>\n",
       "      <td>10.0</td>\n",
       "      <td>0.0</td>\n",
       "      <td>24123</td>\n",
       "      <td>72.2</td>\n",
       "      <td>15.0</td>\n",
       "      <td>f</td>\n",
       "      <td>Individual</td>\n",
       "      <td>0.0</td>\n",
       "      <td>0.0</td>\n",
       "    </tr>\n",
       "    <tr>\n",
       "      <th>4</th>\n",
       "      <td>14400</td>\n",
       "      <td>36 months</td>\n",
       "      <td>8.59</td>\n",
       "      <td>455.18</td>\n",
       "      <td>A</td>\n",
       "      <td>A5</td>\n",
       "      <td>Nurse practitioner</td>\n",
       "      <td>3 years</td>\n",
       "      <td>MORTGAGE</td>\n",
       "      <td>90000.0</td>\n",
       "      <td>...</td>\n",
       "      <td>Dec-2003</td>\n",
       "      <td>19.0</td>\n",
       "      <td>0.0</td>\n",
       "      <td>16615</td>\n",
       "      <td>49.9</td>\n",
       "      <td>48.0</td>\n",
       "      <td>w</td>\n",
       "      <td>Individual</td>\n",
       "      <td>1.0</td>\n",
       "      <td>0.0</td>\n",
       "    </tr>\n",
       "  </tbody>\n",
       "</table>\n",
       "<p>5 rows × 28 columns</p>\n",
       "</div>"
      ],
      "text/plain": [
       "   loan_amnt        term  int_rate  installment grade sub_grade  \\\n",
       "0      35000   36 months     12.12      1164.51     B        B3   \n",
       "1      30000   60 months     10.75       648.54     B        B4   \n",
       "2      15000   36 months      7.49       466.53     A        A4   \n",
       "3      24000   60 months     21.15       651.31     E        E2   \n",
       "4      14400   36 months      8.59       455.18     A        A5   \n",
       "\n",
       "                 emp_title emp_length home_ownership  annual_inc  ...  \\\n",
       "0  Legacy Physicians Group   < 1 year           RENT     90000.0  ...   \n",
       "1      Director of nursing    2 years           RENT    100000.0  ...   \n",
       "2                  Partner    5 years            OWN    100000.0  ...   \n",
       "3    Einstein Bros. Bagels    5 years           RENT     58000.0  ...   \n",
       "4       Nurse practitioner    3 years       MORTGAGE     90000.0  ...   \n",
       "\n",
       "  earliest_cr_line open_acc pub_rec revol_bal revol_util total_acc  \\\n",
       "0         Nov-1997     14.0     0.0      1347        8.1      22.0   \n",
       "1         Jun-2011     17.0     0.0     29780       52.7      25.0   \n",
       "2         Apr-1996     16.0     0.0      7425       10.3      25.0   \n",
       "3         Aug-1998     10.0     0.0     24123       72.2      15.0   \n",
       "4         Dec-2003     19.0     0.0     16615       49.9      48.0   \n",
       "\n",
       "  initial_list_status  application_type mort_acc  pub_rec_bankruptcies  \n",
       "0                   w        Individual      1.0                   0.0  \n",
       "1                   f        Individual      0.0                   0.0  \n",
       "2                   w        Individual      1.0                   0.0  \n",
       "3                   f        Individual      0.0                   0.0  \n",
       "4                   w        Individual      1.0                   0.0  \n",
       "\n",
       "[5 rows x 28 columns]"
      ]
     },
     "execution_count": 3,
     "metadata": {},
     "output_type": "execute_result"
    }
   ],
   "source": [
    "df.head()"
   ]
  },
  {
   "cell_type": "code",
   "execution_count": 4,
   "id": "407e06cd-2eb1-475b-b80f-8f094b77bd97",
   "metadata": {},
   "outputs": [
    {
     "name": "stdout",
     "output_type": "stream",
     "text": [
      "<class 'pandas.core.frame.DataFrame'>\n",
      "RangeIndex: 202540 entries, 0 to 202539\n",
      "Data columns (total 28 columns):\n",
      " #   Column                Non-Null Count   Dtype  \n",
      "---  ------                --------------   -----  \n",
      " 0   loan_amnt             202540 non-null  int64  \n",
      " 1   term                  202540 non-null  object \n",
      " 2   int_rate              202540 non-null  float64\n",
      " 3   installment           202540 non-null  float64\n",
      " 4   grade                 202540 non-null  object \n",
      " 5   sub_grade             202540 non-null  object \n",
      " 6   emp_title             202540 non-null  object \n",
      " 7   emp_length            202540 non-null  object \n",
      " 8   home_ownership        202540 non-null  object \n",
      " 9   annual_inc            202540 non-null  float64\n",
      " 10  verification_status   202540 non-null  object \n",
      " 11  issue_d               202540 non-null  object \n",
      " 12  loan_status           202540 non-null  object \n",
      " 13  purpose               202540 non-null  object \n",
      " 14  title                 202540 non-null  object \n",
      " 15  zip_code              202540 non-null  object \n",
      " 16  addr_state            202540 non-null  object \n",
      " 17  dti                   202540 non-null  float64\n",
      " 18  earliest_cr_line      202540 non-null  object \n",
      " 19  open_acc              202540 non-null  float64\n",
      " 20  pub_rec               202540 non-null  float64\n",
      " 21  revol_bal             202540 non-null  int64  \n",
      " 22  revol_util            202540 non-null  float64\n",
      " 23  total_acc             202540 non-null  float64\n",
      " 24  initial_list_status   202540 non-null  object \n",
      " 25  application_type      202540 non-null  object \n",
      " 26  mort_acc              202540 non-null  float64\n",
      " 27  pub_rec_bankruptcies  202540 non-null  float64\n",
      "dtypes: float64(10), int64(2), object(16)\n",
      "memory usage: 43.3+ MB\n"
     ]
    }
   ],
   "source": [
    "df.info()"
   ]
  },
  {
   "cell_type": "markdown",
   "id": "bfea7e62-9029-4ac2-8fd4-12c66e13d43b",
   "metadata": {},
   "source": [
    "### 1. Exploratory Data Analysis"
   ]
  },
  {
   "cell_type": "markdown",
   "id": "f9836843-b64b-48e1-811b-0c4798d0f46e",
   "metadata": {},
   "source": [
    "To select which variables are important to test the model and visualization"
   ]
  },
  {
   "cell_type": "markdown",
   "id": "2d14b442-b085-46e2-a288-6a772289b624",
   "metadata": {},
   "source": [
    "keep only the rows where loan_status is either \"Fully Paid\" or \"Charged Off\""
   ]
  },
  {
   "cell_type": "code",
   "execution_count": 5,
   "id": "a0aedb17-acd1-4a23-b921-fbcbbbcefb58",
   "metadata": {},
   "outputs": [],
   "source": [
    "df = df[df['loan_status'].isin(['Fully Paid', 'Charged Off'])]"
   ]
  },
  {
   "cell_type": "code",
   "execution_count": 6,
   "id": "e8cce242-717a-4f65-829d-57fc9b18fe2c",
   "metadata": {},
   "outputs": [
    {
     "data": {
      "image/png": "[encoded data removed]",
      "text/plain": [
       "<Figure size 1200x600 with 1 Axes>"
      ]
     },
     "metadata": {},
     "output_type": "display_data"
    }
   ],
   "source": [
    "plt.figure(figsize=(12,6))\n",
    "sns.countplot(x='loan_status', data=df)\n",
    "\n",
    "plt.title('Distribution of Loan Status')\n",
    "plt.xlabel('Loan Status')\n",
    "plt.ylabel('Count')\n",
    "\n",
    "plt.tight_layout() \n",
    "plt.show()\n"
   ]
  },
  {
   "cell_type": "code",
   "execution_count": 7,
   "id": "337d35ef-c72a-4c8b-947b-6662ed1cec32",
   "metadata": {},
   "outputs": [
    {
     "data": {
      "image/png": "[encoded data removed]",
      "text/plain": [
       "<Figure size 1200x400 with 1 Axes>"
      ]
     },
     "metadata": {},
     "output_type": "display_data"
    }
   ],
   "source": [
    "# Creating a histogram of the loan_amnt column.\n",
    "plt.figure(figsize=(12,4))\n",
    "sns.histplot(df['loan_amnt'], kde=False, bins=40)\n",
    "plt.xlim(0, 45000)\n",
    "plt.title(\"Distribution of Loan Amount\")\n",
    "plt.show()\n"
   ]
  },
  {
   "cell_type": "markdown",
   "id": "2a0b0843-48e5-49c7-a298-1a23b2e6b633",
   "metadata": {},
   "source": [
    "Find the correlation between the feature variables and calculation"
   ]
  },
  {
   "cell_type": "code",
   "execution_count": 8,
   "id": "0ae0eac8-a0cb-47b5-a560-80a28faadf99",
   "metadata": {},
   "outputs": [
    {
     "data": {
      "text/html": [
       "<div>\n",
       "<style scoped>\n",
       "    .dataframe tbody tr th:only-of-type {\n",
       "        vertical-align: middle;\n",
       "    }\n",
       "\n",
       "    .dataframe tbody tr th {\n",
       "        vertical-align: top;\n",
       "    }\n",
       "\n",
       "    .dataframe thead th {\n",
       "        text-align: right;\n",
       "    }\n",
       "</style>\n",
       "<table border=\"1\" class=\"dataframe\">\n",
       "  <thead>\n",
       "    <tr style=\"text-align: right;\">\n",
       "      <th></th>\n",
       "      <th>loan_amnt</th>\n",
       "      <th>int_rate</th>\n",
       "      <th>installment</th>\n",
       "      <th>annual_inc</th>\n",
       "      <th>dti</th>\n",
       "      <th>open_acc</th>\n",
       "      <th>pub_rec</th>\n",
       "      <th>revol_bal</th>\n",
       "      <th>revol_util</th>\n",
       "      <th>total_acc</th>\n",
       "      <th>mort_acc</th>\n",
       "      <th>pub_rec_bankruptcies</th>\n",
       "    </tr>\n",
       "  </thead>\n",
       "  <tbody>\n",
       "    <tr>\n",
       "      <th>loan_amnt</th>\n",
       "      <td>1.000000</td>\n",
       "      <td>0.142038</td>\n",
       "      <td>0.953373</td>\n",
       "      <td>0.283304</td>\n",
       "      <td>0.028524</td>\n",
       "      <td>0.173490</td>\n",
       "      <td>-0.065951</td>\n",
       "      <td>0.305995</td>\n",
       "      <td>0.106559</td>\n",
       "      <td>0.200843</td>\n",
       "      <td>0.227682</td>\n",
       "      <td>-0.097505</td>\n",
       "    </tr>\n",
       "    <tr>\n",
       "      <th>int_rate</th>\n",
       "      <td>0.142038</td>\n",
       "      <td>1.000000</td>\n",
       "      <td>0.152697</td>\n",
       "      <td>-0.070209</td>\n",
       "      <td>0.172709</td>\n",
       "      <td>-0.004916</td>\n",
       "      <td>0.053302</td>\n",
       "      <td>-0.028147</td>\n",
       "      <td>0.232809</td>\n",
       "      <td>-0.040755</td>\n",
       "      <td>-0.083000</td>\n",
       "      <td>0.059891</td>\n",
       "    </tr>\n",
       "    <tr>\n",
       "      <th>installment</th>\n",
       "      <td>0.953373</td>\n",
       "      <td>0.152697</td>\n",
       "      <td>1.000000</td>\n",
       "      <td>0.274317</td>\n",
       "      <td>0.031592</td>\n",
       "      <td>0.163835</td>\n",
       "      <td>-0.054593</td>\n",
       "      <td>0.294432</td>\n",
       "      <td>0.122868</td>\n",
       "      <td>0.178827</td>\n",
       "      <td>0.193105</td>\n",
       "      <td>-0.089643</td>\n",
       "    </tr>\n",
       "    <tr>\n",
       "      <th>annual_inc</th>\n",
       "      <td>0.283304</td>\n",
       "      <td>-0.070209</td>\n",
       "      <td>0.274317</td>\n",
       "      <td>1.000000</td>\n",
       "      <td>-0.166833</td>\n",
       "      <td>0.110146</td>\n",
       "      <td>-0.003773</td>\n",
       "      <td>0.245256</td>\n",
       "      <td>0.022608</td>\n",
       "      <td>0.151455</td>\n",
       "      <td>0.201249</td>\n",
       "      <td>-0.041389</td>\n",
       "    </tr>\n",
       "    <tr>\n",
       "      <th>dti</th>\n",
       "      <td>0.028524</td>\n",
       "      <td>0.172709</td>\n",
       "      <td>0.031592</td>\n",
       "      <td>-0.166833</td>\n",
       "      <td>1.000000</td>\n",
       "      <td>0.284230</td>\n",
       "      <td>-0.049591</td>\n",
       "      <td>0.127990</td>\n",
       "      <td>0.174228</td>\n",
       "      <td>0.218099</td>\n",
       "      <td>-0.043327</td>\n",
       "      <td>-0.032036</td>\n",
       "    </tr>\n",
       "    <tr>\n",
       "      <th>open_acc</th>\n",
       "      <td>0.173490</td>\n",
       "      <td>-0.004916</td>\n",
       "      <td>0.163835</td>\n",
       "      <td>0.110146</td>\n",
       "      <td>0.284230</td>\n",
       "      <td>1.000000</td>\n",
       "      <td>-0.022798</td>\n",
       "      <td>0.205630</td>\n",
       "      <td>-0.146439</td>\n",
       "      <td>0.701312</td>\n",
       "      <td>0.115894</td>\n",
       "      <td>-0.027410</td>\n",
       "    </tr>\n",
       "    <tr>\n",
       "      <th>pub_rec</th>\n",
       "      <td>-0.065951</td>\n",
       "      <td>0.053302</td>\n",
       "      <td>-0.054593</td>\n",
       "      <td>-0.003773</td>\n",
       "      <td>-0.049591</td>\n",
       "      <td>-0.022798</td>\n",
       "      <td>1.000000</td>\n",
       "      <td>-0.091325</td>\n",
       "      <td>-0.069040</td>\n",
       "      <td>0.001100</td>\n",
       "      <td>-0.004736</td>\n",
       "      <td>0.659550</td>\n",
       "    </tr>\n",
       "    <tr>\n",
       "      <th>revol_bal</th>\n",
       "      <td>0.305995</td>\n",
       "      <td>-0.028147</td>\n",
       "      <td>0.294432</td>\n",
       "      <td>0.245256</td>\n",
       "      <td>0.127990</td>\n",
       "      <td>0.205630</td>\n",
       "      <td>-0.091325</td>\n",
       "      <td>1.000000</td>\n",
       "      <td>0.221369</td>\n",
       "      <td>0.174664</td>\n",
       "      <td>0.199205</td>\n",
       "      <td>-0.113192</td>\n",
       "    </tr>\n",
       "    <tr>\n",
       "      <th>revol_util</th>\n",
       "      <td>0.106559</td>\n",
       "      <td>0.232809</td>\n",
       "      <td>0.122868</td>\n",
       "      <td>0.022608</td>\n",
       "      <td>0.174228</td>\n",
       "      <td>-0.146439</td>\n",
       "      <td>-0.069040</td>\n",
       "      <td>0.221369</td>\n",
       "      <td>1.000000</td>\n",
       "      <td>-0.109893</td>\n",
       "      <td>0.028239</td>\n",
       "      <td>-0.084484</td>\n",
       "    </tr>\n",
       "    <tr>\n",
       "      <th>total_acc</th>\n",
       "      <td>0.200843</td>\n",
       "      <td>-0.040755</td>\n",
       "      <td>0.178827</td>\n",
       "      <td>0.151455</td>\n",
       "      <td>0.218099</td>\n",
       "      <td>0.701312</td>\n",
       "      <td>0.001100</td>\n",
       "      <td>0.174664</td>\n",
       "      <td>-0.109893</td>\n",
       "      <td>1.000000</td>\n",
       "      <td>0.359945</td>\n",
       "      <td>0.029213</td>\n",
       "    </tr>\n",
       "    <tr>\n",
       "      <th>mort_acc</th>\n",
       "      <td>0.227682</td>\n",
       "      <td>-0.083000</td>\n",
       "      <td>0.193105</td>\n",
       "      <td>0.201249</td>\n",
       "      <td>-0.043327</td>\n",
       "      <td>0.115894</td>\n",
       "      <td>-0.004736</td>\n",
       "      <td>0.199205</td>\n",
       "      <td>0.028239</td>\n",
       "      <td>0.359945</td>\n",
       "      <td>1.000000</td>\n",
       "      <td>0.009219</td>\n",
       "    </tr>\n",
       "    <tr>\n",
       "      <th>pub_rec_bankruptcies</th>\n",
       "      <td>-0.097505</td>\n",
       "      <td>0.059891</td>\n",
       "      <td>-0.089643</td>\n",
       "      <td>-0.041389</td>\n",
       "      <td>-0.032036</td>\n",
       "      <td>-0.027410</td>\n",
       "      <td>0.659550</td>\n",
       "      <td>-0.113192</td>\n",
       "      <td>-0.084484</td>\n",
       "      <td>0.029213</td>\n",
       "      <td>0.009219</td>\n",
       "      <td>1.000000</td>\n",
       "    </tr>\n",
       "  </tbody>\n",
       "</table>\n",
       "</div>"
      ],
      "text/plain": [
       "                      loan_amnt  int_rate  installment  annual_inc       dti  \\\n",
       "loan_amnt              1.000000  0.142038     0.953373    0.283304  0.028524   \n",
       "int_rate               0.142038  1.000000     0.152697   -0.070209  0.172709   \n",
       "installment            0.953373  0.152697     1.000000    0.274317  0.031592   \n",
       "annual_inc             0.283304 -0.070209     0.274317    1.000000 -0.166833   \n",
       "dti                    0.028524  0.172709     0.031592   -0.166833  1.000000   \n",
       "open_acc               0.173490 -0.004916     0.163835    0.110146  0.284230   \n",
       "pub_rec               -0.065951  0.053302    -0.054593   -0.003773 -0.049591   \n",
       "revol_bal              0.305995 -0.028147     0.294432    0.245256  0.127990   \n",
       "revol_util             0.106559  0.232809     0.122868    0.022608  0.174228   \n",
       "total_acc              0.200843 -0.040755     0.178827    0.151455  0.218099   \n",
       "mort_acc               0.227682 -0.083000     0.193105    0.201249 -0.043327   \n",
       "pub_rec_bankruptcies  -0.097505  0.059891    -0.089643   -0.041389 -0.032036   \n",
       "\n",
       "                      open_acc   pub_rec  revol_bal  revol_util  total_acc  \\\n",
       "loan_amnt             0.173490 -0.065951   0.305995    0.106559   0.200843   \n",
       "int_rate             -0.004916  0.053302  -0.028147    0.232809  -0.040755   \n",
       "installment           0.163835 -0.054593   0.294432    0.122868   0.178827   \n",
       "annual_inc            0.110146 -0.003773   0.245256    0.022608   0.151455   \n",
       "dti                   0.284230 -0.049591   0.127990    0.174228   0.218099   \n",
       "open_acc              1.000000 -0.022798   0.205630   -0.146439   0.701312   \n",
       "pub_rec              -0.022798  1.000000  -0.091325   -0.069040   0.001100   \n",
       "revol_bal             0.205630 -0.091325   1.000000    0.221369   0.174664   \n",
       "revol_util           -0.146439 -0.069040   0.221369    1.000000  -0.109893   \n",
       "total_acc             0.701312  0.001100   0.174664   -0.109893   1.000000   \n",
       "mort_acc              0.115894 -0.004736   0.199205    0.028239   0.359945   \n",
       "pub_rec_bankruptcies -0.027410  0.659550  -0.113192   -0.084484   0.029213   \n",
       "\n",
       "                      mort_acc  pub_rec_bankruptcies  \n",
       "loan_amnt             0.227682             -0.097505  \n",
       "int_rate             -0.083000              0.059891  \n",
       "installment           0.193105             -0.089643  \n",
       "annual_inc            0.201249             -0.041389  \n",
       "dti                  -0.043327             -0.032036  \n",
       "open_acc              0.115894             -0.027410  \n",
       "pub_rec              -0.004736              0.659550  \n",
       "revol_bal             0.199205             -0.113192  \n",
       "revol_util            0.028239             -0.084484  \n",
       "total_acc             0.359945              0.029213  \n",
       "mort_acc              1.000000              0.009219  \n",
       "pub_rec_bankruptcies  0.009219              1.000000  "
      ]
     },
     "execution_count": 8,
     "metadata": {},
     "output_type": "execute_result"
    }
   ],
   "source": [
    "df.corr(numeric_only=True)"
   ]
  },
  {
   "cell_type": "markdown",
   "id": "004b12b5-7e6c-4a8b-b5d5-1cb4a4ccedce",
   "metadata": {},
   "source": [
    "Using heatmap to visualise the correlation"
   ]
  },
  {
   "cell_type": "code",
   "execution_count": 9,
   "id": "7779dad7-c53e-46ca-8f38-b53e5c2cb55d",
   "metadata": {},
   "outputs": [
    {
     "data": {
      "text/plain": [
       "(10.0, 0.0)"
      ]
     },
     "execution_count": 9,
     "metadata": {},
     "output_type": "execute_result"
    },
    {
     "data": {
      "image/png": "[encoded data removed]",
      "text/plain": [
       "<Figure size 1200x700 with 2 Axes>"
      ]
     },
     "metadata": {},
     "output_type": "display_data"
    }
   ],
   "source": [
    "plt.figure(figsize=(12,7))\n",
    "sns.heatmap(df.corr(numeric_only=True),annot=True,cmap='viridis')\n",
    "plt.ylim(10, 0)\n"
   ]
  },
  {
   "cell_type": "markdown",
   "id": "002a3523-6a84-44f9-9a7f-a6166ca301dd",
   "metadata": {},
   "source": [
    "the above heatmap shows the correlation of various variables and they are hard to define. "
   ]
  },
  {
   "cell_type": "markdown",
   "id": "cb9ef477-963f-4534-8f1c-49e4dae7d0c8",
   "metadata": {},
   "source": [
    "Create the scatter plot to visualize the relationship between monthly installment and total loan amount by the borrower"
   ]
  },
  {
   "cell_type": "code",
   "execution_count": 10,
   "id": "6d77e5f3-0132-4a17-84dd-16ed092b23b7",
   "metadata": {},
   "outputs": [
    {
     "data": {
      "text/plain": [
       "<Axes: xlabel='installment', ylabel='loan_amnt'>"
      ]
     },
     "execution_count": 10,
     "metadata": {},
     "output_type": "execute_result"
    },
    {
     "data": {
      "image/png": "[encoded data removed]",
      "text/plain": [
       "<Figure size 1200x800 with 1 Axes>"
      ]
     },
     "metadata": {},
     "output_type": "display_data"
    }
   ],
   "source": [
    "plt.figure(figsize=(12,8))\n",
    "sns.scatterplot(x='installment', y='loan_amnt', data=df)\n"
   ]
  },
  {
   "cell_type": "markdown",
   "id": "a9da3dc3-43e2-4323-b685-e1694d58f2ea",
   "metadata": {},
   "source": [
    "Create a boxplot showing the relationship between the loan_status and the Loan Amount"
   ]
  },
  {
   "cell_type": "code",
   "execution_count": 11,
   "id": "0b53b2b4-6e2a-492c-aa0f-257e5918c360",
   "metadata": {},
   "outputs": [
    {
     "data": {
      "text/plain": [
       "([0, 1], [Text(0, 0, 'Fully Paid'), Text(1, 0, 'Charged Off')])"
      ]
     },
     "execution_count": 11,
     "metadata": {},
     "output_type": "execute_result"
    },
    {
     "data": {
      "image/png": "[encoded data removed]",
      "text/plain": [
       "<Figure size 640x480 with 1 Axes>"
      ]
     },
     "metadata": {},
     "output_type": "display_data"
    }
   ],
   "source": [
    "sns.boxplot(x='loan_status',y='loan_amnt',data=df)\n",
    "plt.xticks(rotation=30, ha='right')\n"
   ]
  },
  {
   "cell_type": "markdown",
   "id": "0474f639-aad2-4a8c-9d39-258ad09a4b76",
   "metadata": {},
   "source": [
    "Summarize statistics for the loan amount, grouped by the loan_status"
   ]
  },
  {
   "cell_type": "code",
   "execution_count": 12,
   "id": "0ac4b92f-ecea-4870-a1ad-42ee50187edf",
   "metadata": {},
   "outputs": [
    {
     "data": {
      "text/html": [
       "<div>\n",
       "<style scoped>\n",
       "    .dataframe tbody tr th:only-of-type {\n",
       "        vertical-align: middle;\n",
       "    }\n",
       "\n",
       "    .dataframe tbody tr th {\n",
       "        vertical-align: top;\n",
       "    }\n",
       "\n",
       "    .dataframe thead th {\n",
       "        text-align: right;\n",
       "    }\n",
       "</style>\n",
       "<table border=\"1\" class=\"dataframe\">\n",
       "  <thead>\n",
       "    <tr style=\"text-align: right;\">\n",
       "      <th></th>\n",
       "      <th>count</th>\n",
       "      <th>mean</th>\n",
       "      <th>std</th>\n",
       "      <th>min</th>\n",
       "      <th>25%</th>\n",
       "      <th>50%</th>\n",
       "      <th>75%</th>\n",
       "      <th>max</th>\n",
       "    </tr>\n",
       "    <tr>\n",
       "      <th>loan_status</th>\n",
       "      <th></th>\n",
       "      <th></th>\n",
       "      <th></th>\n",
       "      <th></th>\n",
       "      <th></th>\n",
       "      <th></th>\n",
       "      <th></th>\n",
       "      <th></th>\n",
       "    </tr>\n",
       "  </thead>\n",
       "  <tbody>\n",
       "    <tr>\n",
       "      <th>Charged Off</th>\n",
       "      <td>22842.0</td>\n",
       "      <td>15939.867350</td>\n",
       "      <td>8792.473412</td>\n",
       "      <td>1000.0</td>\n",
       "      <td>9600.0</td>\n",
       "      <td>15000.0</td>\n",
       "      <td>21000.0</td>\n",
       "      <td>40000.0</td>\n",
       "    </tr>\n",
       "    <tr>\n",
       "      <th>Fully Paid</th>\n",
       "      <td>93421.0</td>\n",
       "      <td>14385.231104</td>\n",
       "      <td>8722.968039</td>\n",
       "      <td>1000.0</td>\n",
       "      <td>7925.0</td>\n",
       "      <td>12000.0</td>\n",
       "      <td>20000.0</td>\n",
       "      <td>40000.0</td>\n",
       "    </tr>\n",
       "  </tbody>\n",
       "</table>\n",
       "</div>"
      ],
      "text/plain": [
       "               count          mean          std     min     25%      50%  \\\n",
       "loan_status                                                                \n",
       "Charged Off  22842.0  15939.867350  8792.473412  1000.0  9600.0  15000.0   \n",
       "Fully Paid   93421.0  14385.231104  8722.968039  1000.0  7925.0  12000.0   \n",
       "\n",
       "                 75%      max  \n",
       "loan_status                    \n",
       "Charged Off  21000.0  40000.0  \n",
       "Fully Paid   20000.0  40000.0  "
      ]
     },
     "execution_count": 12,
     "metadata": {},
     "output_type": "execute_result"
    }
   ],
   "source": [
    "df.groupby('loan_status')['loan_amnt'].describe()"
   ]
  },
  {
   "cell_type": "markdown",
   "id": "8eafc43f-64c0-42f3-aa66-0a4a9c6d203a",
   "metadata": {},
   "source": [
    "Explaination:\n",
    "\n",
    "For Charged Off:\n",
    "- Higher average loan amount.\n",
    "- These are borrowers who defaulted and failed to fully repay their loans.\n",
    "- Median also higher than Fully Paid → consistently larger loans.\n",
    "\n",
    "For Fully Paid:\n",
    "- Slightly lower average loan amount.\n",
    "- Borrowers successfully repaid in full.\n",
    "- Median loan amount → suggests more borrowers took smaller loans.\n",
    "- Standard Deviation (Both Groups) indicating wide variation in loan amounts for both categories. Similar spread shows diversity in loan sizes regardless of repayment status.\n",
    "- Minimum and Maximum: Range is consistent showing the loan program's limits are the same across categories.\n",
    "\n",
    "Insights: \n",
    "- Borrowers who defaulted (Charged Off) tend to take out bigger loans on average than those who fully repaid.\n",
    "- The distribution is right-skewed, as the mean is higher than the median in both categories — indicating some high-value outlier loans.\n",
    "- Larger loans are riskier: higher average and median in defaulted group suggests a correlation between loan size and repayment difficulty.\n",
    "- Loan repayment behavior varies with amount: borrowers with smaller loans may find it easier to repay fully.\n",
    "- Consistent variability in both groups’ loan amounts may imply other risk factors are involved beyond just loan size (e.g., credit history, income)."
   ]
  },
  {
   "cell_type": "markdown",
   "id": "61aee101-e77b-4e87-a368-de4ed6756b74",
   "metadata": {},
   "source": [
    "Look at Grade and SubGrade columns to attribute to the loans."
   ]
  },
  {
   "cell_type": "code",
   "execution_count": 13,
   "id": "89a62958-7f43-4027-8798-dd03ac6f868a",
   "metadata": {},
   "outputs": [
    {
     "data": {
      "text/plain": [
       "['A', 'B', 'C', 'D', 'E', 'F', 'G']"
      ]
     },
     "execution_count": 13,
     "metadata": {},
     "output_type": "execute_result"
    }
   ],
   "source": [
    "sorted(df['grade'].unique())"
   ]
  },
  {
   "cell_type": "code",
   "execution_count": 14,
   "id": "c84ced18-56d1-4caa-929b-1270b1e2ef27",
   "metadata": {},
   "outputs": [
    {
     "data": {
      "text/plain": [
       "['A1',\n",
       " 'A2',\n",
       " 'A3',\n",
       " 'A4',\n",
       " 'A5',\n",
       " 'B1',\n",
       " 'B2',\n",
       " 'B3',\n",
       " 'B4',\n",
       " 'B5',\n",
       " 'C1',\n",
       " 'C2',\n",
       " 'C3',\n",
       " 'C4',\n",
       " 'C5',\n",
       " 'D1',\n",
       " 'D2',\n",
       " 'D3',\n",
       " 'D4',\n",
       " 'D5',\n",
       " 'E1',\n",
       " 'E2',\n",
       " 'E3',\n",
       " 'E4',\n",
       " 'E5',\n",
       " 'F1',\n",
       " 'F2',\n",
       " 'F3',\n",
       " 'F4',\n",
       " 'F5',\n",
       " 'G1',\n",
       " 'G2',\n",
       " 'G3',\n",
       " 'G4',\n",
       " 'G5']"
      ]
     },
     "execution_count": 14,
     "metadata": {},
     "output_type": "execute_result"
    }
   ],
   "source": [
    "sorted(df['sub_grade'].unique())"
   ]
  },
  {
   "cell_type": "markdown",
   "id": "0c395054-fcad-4d57-9590-94129e430ae1",
   "metadata": {},
   "source": [
    "Create a countplot per grade and set loan_status label"
   ]
  },
  {
   "cell_type": "code",
   "execution_count": 15,
   "id": "4d309311-39d5-4e1d-b88a-648c53f728df",
   "metadata": {},
   "outputs": [
    {
     "data": {
      "text/plain": [
       "<Axes: xlabel='grade', ylabel='count'>"
      ]
     },
     "execution_count": 15,
     "metadata": {},
     "output_type": "execute_result"
    },
    {
     "data": {
      "image/png": "[encoded data removed]",
      "text/plain": [
       "<Figure size 1200x700 with 1 Axes>"
      ]
     },
     "metadata": {},
     "output_type": "display_data"
    }
   ],
   "source": [
    "plt.figure(figsize=(12,7))\n",
    "sns.countplot(x='grade',data=df,hue='loan_status')"
   ]
  },
  {
   "cell_type": "markdown",
   "id": "5496cc9d-8bda-48e0-b2d9-bcb2e8a348a6",
   "metadata": {},
   "source": [
    "plotting a count plot per subgrade"
   ]
  },
  {
   "cell_type": "code",
   "execution_count": 16,
   "id": "50f8ad2d-6527-420c-afe5-175301d7464b",
   "metadata": {},
   "outputs": [
    {
     "name": "stderr",
     "output_type": "stream",
     "text": [
      "/var/folders/89/428dj6614wz4tc9szjgshvdm0000gn/T/ipykernel_56878/3676733108.py:3: FutureWarning: \n",
      "\n",
      "Passing `palette` without assigning `hue` is deprecated and will be removed in v0.14.0. Assign the `x` variable to `hue` and set `legend=False` for the same effect.\n",
      "\n",
      "  sns.countplot(x='sub_grade',data=df,order = subgrade_order,palette='coolwarm' )\n"
     ]
    },
    {
     "data": {
      "text/plain": [
       "<Axes: xlabel='sub_grade', ylabel='count'>"
      ]
     },
     "execution_count": 16,
     "metadata": {},
     "output_type": "execute_result"
    },
    {
     "data": {
      "image/png": "[encoded data removed]",
      "text/plain": [
       "<Figure size 1200x400 with 1 Axes>"
      ]
     },
     "metadata": {},
     "output_type": "display_data"
    }
   ],
   "source": [
    "plt.figure(figsize=(12,4))\n",
    "subgrade_order = sorted(df['sub_grade'].unique())\n",
    "sns.countplot(x='sub_grade',data=df,order = subgrade_order,palette='coolwarm' )"
   ]
  },
  {
   "cell_type": "markdown",
   "id": "00c92c19-d913-4fdf-92cd-9892310571ff",
   "metadata": {},
   "source": [
    "loan status sub grade wise"
   ]
  },
  {
   "cell_type": "code",
   "execution_count": 17,
   "id": "f64ac4a3-13e0-4378-b443-5a4770e42dde",
   "metadata": {},
   "outputs": [
    {
     "data": {
      "text/plain": [
       "<Axes: xlabel='sub_grade', ylabel='count'>"
      ]
     },
     "execution_count": 17,
     "metadata": {},
     "output_type": "execute_result"
    },
    {
     "data": {
      "image/png": "[encoded data removed]",
      "text/plain": [
       "<Figure size 1200x400 with 1 Axes>"
      ]
     },
     "metadata": {},
     "output_type": "display_data"
    }
   ],
   "source": [
    "plt.figure(figsize=(12,4))\n",
    "subgrade_order = sorted(df['sub_grade'].unique())\n",
    "sns.countplot(x='sub_grade',data=df,order = subgrade_order,palette='coolwarm' ,hue='loan_status')"
   ]
  },
  {
   "cell_type": "markdown",
   "id": "17f2078c-f4a4-4abf-9774-63815385fa99",
   "metadata": {},
   "source": [
    "Create a new column called 'load_repaid' which will contain a 1 if the loan status was \"Fully Paid\" and a 0 if it was \"Charged Off\"."
   ]
  },
  {
   "cell_type": "code",
   "execution_count": 18,
   "id": "342cb8f0-6734-4cf6-a0e9-416859df79c4",
   "metadata": {},
   "outputs": [
    {
     "data": {
      "text/plain": [
       "array(['Fully Paid', 'Charged Off'], dtype=object)"
      ]
     },
     "execution_count": 18,
     "metadata": {},
     "output_type": "execute_result"
    }
   ],
   "source": [
    "df['loan_status'].unique()"
   ]
  },
  {
   "cell_type": "code",
   "execution_count": 19,
   "id": "2a5c74d7-568d-4d3e-ac0a-250dc7397cda",
   "metadata": {},
   "outputs": [
    {
     "data": {
      "text/html": [
       "<div>\n",
       "<style scoped>\n",
       "    .dataframe tbody tr th:only-of-type {\n",
       "        vertical-align: middle;\n",
       "    }\n",
       "\n",
       "    .dataframe tbody tr th {\n",
       "        vertical-align: top;\n",
       "    }\n",
       "\n",
       "    .dataframe thead th {\n",
       "        text-align: right;\n",
       "    }\n",
       "</style>\n",
       "<table border=\"1\" class=\"dataframe\">\n",
       "  <thead>\n",
       "    <tr style=\"text-align: right;\">\n",
       "      <th></th>\n",
       "      <th>loan_status</th>\n",
       "      <th>loan_repaid</th>\n",
       "    </tr>\n",
       "  </thead>\n",
       "  <tbody>\n",
       "    <tr>\n",
       "      <th>0</th>\n",
       "      <td>Fully Paid</td>\n",
       "      <td>1</td>\n",
       "    </tr>\n",
       "    <tr>\n",
       "      <th>2</th>\n",
       "      <td>Fully Paid</td>\n",
       "      <td>1</td>\n",
       "    </tr>\n",
       "    <tr>\n",
       "      <th>3</th>\n",
       "      <td>Fully Paid</td>\n",
       "      <td>1</td>\n",
       "    </tr>\n",
       "    <tr>\n",
       "      <th>5</th>\n",
       "      <td>Fully Paid</td>\n",
       "      <td>1</td>\n",
       "    </tr>\n",
       "    <tr>\n",
       "      <th>7</th>\n",
       "      <td>Fully Paid</td>\n",
       "      <td>1</td>\n",
       "    </tr>\n",
       "  </tbody>\n",
       "</table>\n",
       "</div>"
      ],
      "text/plain": [
       "  loan_status  loan_repaid\n",
       "0  Fully Paid            1\n",
       "2  Fully Paid            1\n",
       "3  Fully Paid            1\n",
       "5  Fully Paid            1\n",
       "7  Fully Paid            1"
      ]
     },
     "execution_count": 19,
     "metadata": {},
     "output_type": "execute_result"
    }
   ],
   "source": [
    "df['loan_repaid'] = df['loan_status'].map({'Fully Paid': 1, 'Charged Off': 0})\n",
    "\n",
    "df[['loan_status', 'loan_repaid']].head()\n"
   ]
  },
  {
   "cell_type": "markdown",
   "id": "8a1a5bab-a8d6-4b27-b312-c2c765e15480",
   "metadata": {},
   "source": [
    "Creating a bar plot showing the correlation of the numeric features to the new loan_repaid column"
   ]
  },
  {
   "cell_type": "code",
   "execution_count": 20,
   "id": "e10f30e3-5ab5-4e1a-a719-299e27ce3f23",
   "metadata": {},
   "outputs": [
    {
     "data": {
      "text/plain": [
       "<Figure size 1200x700 with 0 Axes>"
      ]
     },
     "metadata": {},
     "output_type": "display_data"
    },
    {
     "data": {
      "image/png": "[encoded data removed]",
      "text/plain": [
       "<Figure size 1400x600 with 1 Axes>"
      ]
     },
     "metadata": {},
     "output_type": "display_data"
    }
   ],
   "source": [
    "plt.figure(figsize=(12, 7))\n",
    "numeric_df = df.select_dtypes(include=['number'])\n",
    "corr_values = numeric_df.corr()['loan_repaid'].drop('loan_repaid')\n",
    "\n",
    "filtered_corr = corr_values[abs(corr_values) > 0.05].sort_values()\n",
    "plt.figure(figsize=(14, 6))\n",
    "filtered_corr.plot(kind='bar')\n",
    "plt.title(\"Correlation with loan_repaid\", fontsize=14)\n",
    "plt.xticks(rotation=45, ha='right')\n",
    "plt.grid(axis='y')\n",
    "plt.tight_layout()\n",
    "plt.show()\n"
   ]
  },
  {
   "cell_type": "markdown",
   "id": "1e8bea98-da3e-4f41-9839-9d4b2e58c045",
   "metadata": {},
   "source": [
    "### 2. Data Pre Processing"
   ]
  },
  {
   "cell_type": "markdown",
   "id": "b6c77824-1772-451f-963d-8c3919e47c12",
   "metadata": {},
   "source": [
    "Remove or fill any missing data. Remove unnecessary or repetitive features. Convert categorical string features to dummy variables."
   ]
  },
  {
   "cell_type": "code",
   "execution_count": 21,
   "id": "b4279c2d-b77a-4a1c-87e3-46bb7da05b99",
   "metadata": {},
   "outputs": [
    {
     "data": {
      "text/html": [
       "<div>\n",
       "<style scoped>\n",
       "    .dataframe tbody tr th:only-of-type {\n",
       "        vertical-align: middle;\n",
       "    }\n",
       "\n",
       "    .dataframe tbody tr th {\n",
       "        vertical-align: top;\n",
       "    }\n",
       "\n",
       "    .dataframe thead th {\n",
       "        text-align: right;\n",
       "    }\n",
       "</style>\n",
       "<table border=\"1\" class=\"dataframe\">\n",
       "  <thead>\n",
       "    <tr style=\"text-align: right;\">\n",
       "      <th></th>\n",
       "      <th>loan_amnt</th>\n",
       "      <th>term</th>\n",
       "      <th>int_rate</th>\n",
       "      <th>installment</th>\n",
       "      <th>grade</th>\n",
       "      <th>sub_grade</th>\n",
       "      <th>emp_title</th>\n",
       "      <th>emp_length</th>\n",
       "      <th>home_ownership</th>\n",
       "      <th>annual_inc</th>\n",
       "      <th>...</th>\n",
       "      <th>open_acc</th>\n",
       "      <th>pub_rec</th>\n",
       "      <th>revol_bal</th>\n",
       "      <th>revol_util</th>\n",
       "      <th>total_acc</th>\n",
       "      <th>initial_list_status</th>\n",
       "      <th>application_type</th>\n",
       "      <th>mort_acc</th>\n",
       "      <th>pub_rec_bankruptcies</th>\n",
       "      <th>loan_repaid</th>\n",
       "    </tr>\n",
       "  </thead>\n",
       "  <tbody>\n",
       "    <tr>\n",
       "      <th>0</th>\n",
       "      <td>35000</td>\n",
       "      <td>36 months</td>\n",
       "      <td>12.12</td>\n",
       "      <td>1164.51</td>\n",
       "      <td>B</td>\n",
       "      <td>B3</td>\n",
       "      <td>Legacy Physicians Group</td>\n",
       "      <td>&lt; 1 year</td>\n",
       "      <td>RENT</td>\n",
       "      <td>90000.0</td>\n",
       "      <td>...</td>\n",
       "      <td>14.0</td>\n",
       "      <td>0.0</td>\n",
       "      <td>1347</td>\n",
       "      <td>8.1</td>\n",
       "      <td>22.0</td>\n",
       "      <td>w</td>\n",
       "      <td>Individual</td>\n",
       "      <td>1.0</td>\n",
       "      <td>0.0</td>\n",
       "      <td>1</td>\n",
       "    </tr>\n",
       "    <tr>\n",
       "      <th>2</th>\n",
       "      <td>15000</td>\n",
       "      <td>36 months</td>\n",
       "      <td>7.49</td>\n",
       "      <td>466.53</td>\n",
       "      <td>A</td>\n",
       "      <td>A4</td>\n",
       "      <td>Partner</td>\n",
       "      <td>5 years</td>\n",
       "      <td>OWN</td>\n",
       "      <td>100000.0</td>\n",
       "      <td>...</td>\n",
       "      <td>16.0</td>\n",
       "      <td>0.0</td>\n",
       "      <td>7425</td>\n",
       "      <td>10.3</td>\n",
       "      <td>25.0</td>\n",
       "      <td>w</td>\n",
       "      <td>Individual</td>\n",
       "      <td>1.0</td>\n",
       "      <td>0.0</td>\n",
       "      <td>1</td>\n",
       "    </tr>\n",
       "    <tr>\n",
       "      <th>3</th>\n",
       "      <td>24000</td>\n",
       "      <td>60 months</td>\n",
       "      <td>21.15</td>\n",
       "      <td>651.31</td>\n",
       "      <td>E</td>\n",
       "      <td>E2</td>\n",
       "      <td>Einstein Bros. Bagels</td>\n",
       "      <td>5 years</td>\n",
       "      <td>RENT</td>\n",
       "      <td>58000.0</td>\n",
       "      <td>...</td>\n",
       "      <td>10.0</td>\n",
       "      <td>0.0</td>\n",
       "      <td>24123</td>\n",
       "      <td>72.2</td>\n",
       "      <td>15.0</td>\n",
       "      <td>f</td>\n",
       "      <td>Individual</td>\n",
       "      <td>0.0</td>\n",
       "      <td>0.0</td>\n",
       "      <td>1</td>\n",
       "    </tr>\n",
       "    <tr>\n",
       "      <th>5</th>\n",
       "      <td>5000</td>\n",
       "      <td>36 months</td>\n",
       "      <td>9.93</td>\n",
       "      <td>161.18</td>\n",
       "      <td>B</td>\n",
       "      <td>B2</td>\n",
       "      <td>Accountant</td>\n",
       "      <td>&lt; 1 year</td>\n",
       "      <td>RENT</td>\n",
       "      <td>46750.0</td>\n",
       "      <td>...</td>\n",
       "      <td>8.0</td>\n",
       "      <td>0.0</td>\n",
       "      <td>5449</td>\n",
       "      <td>13.2</td>\n",
       "      <td>11.0</td>\n",
       "      <td>w</td>\n",
       "      <td>Individual</td>\n",
       "      <td>0.0</td>\n",
       "      <td>0.0</td>\n",
       "      <td>1</td>\n",
       "    </tr>\n",
       "    <tr>\n",
       "      <th>7</th>\n",
       "      <td>6550</td>\n",
       "      <td>36 months</td>\n",
       "      <td>24.74</td>\n",
       "      <td>259.53</td>\n",
       "      <td>E</td>\n",
       "      <td>E3</td>\n",
       "      <td>Over night stocker</td>\n",
       "      <td>9 years</td>\n",
       "      <td>MORTGAGE</td>\n",
       "      <td>42000.0</td>\n",
       "      <td>...</td>\n",
       "      <td>3.0</td>\n",
       "      <td>0.0</td>\n",
       "      <td>4751</td>\n",
       "      <td>60.9</td>\n",
       "      <td>8.0</td>\n",
       "      <td>f</td>\n",
       "      <td>Individual</td>\n",
       "      <td>1.0</td>\n",
       "      <td>0.0</td>\n",
       "      <td>1</td>\n",
       "    </tr>\n",
       "  </tbody>\n",
       "</table>\n",
       "<p>5 rows × 29 columns</p>\n",
       "</div>"
      ],
      "text/plain": [
       "   loan_amnt        term  int_rate  installment grade sub_grade  \\\n",
       "0      35000   36 months     12.12      1164.51     B        B3   \n",
       "2      15000   36 months      7.49       466.53     A        A4   \n",
       "3      24000   60 months     21.15       651.31     E        E2   \n",
       "5       5000   36 months      9.93       161.18     B        B2   \n",
       "7       6550   36 months     24.74       259.53     E        E3   \n",
       "\n",
       "                 emp_title emp_length home_ownership  annual_inc  ...  \\\n",
       "0  Legacy Physicians Group   < 1 year           RENT     90000.0  ...   \n",
       "2                  Partner    5 years            OWN    100000.0  ...   \n",
       "3    Einstein Bros. Bagels    5 years           RENT     58000.0  ...   \n",
       "5               Accountant   < 1 year           RENT     46750.0  ...   \n",
       "7       Over night stocker    9 years       MORTGAGE     42000.0  ...   \n",
       "\n",
       "  open_acc pub_rec revol_bal revol_util total_acc initial_list_status  \\\n",
       "0     14.0     0.0      1347        8.1      22.0                   w   \n",
       "2     16.0     0.0      7425       10.3      25.0                   w   \n",
       "3     10.0     0.0     24123       72.2      15.0                   f   \n",
       "5      8.0     0.0      5449       13.2      11.0                   w   \n",
       "7      3.0     0.0      4751       60.9       8.0                   f   \n",
       "\n",
       "  application_type  mort_acc pub_rec_bankruptcies  loan_repaid  \n",
       "0       Individual       1.0                  0.0            1  \n",
       "2       Individual       1.0                  0.0            1  \n",
       "3       Individual       0.0                  0.0            1  \n",
       "5       Individual       0.0                  0.0            1  \n",
       "7       Individual       1.0                  0.0            1  \n",
       "\n",
       "[5 rows x 29 columns]"
      ]
     },
     "execution_count": 21,
     "metadata": {},
     "output_type": "execute_result"
    }
   ],
   "source": [
    "df.head()"
   ]
  },
  {
   "cell_type": "markdown",
   "id": "415fcdf4-fd64-41ae-b453-a165010e9ab2",
   "metadata": {},
   "source": [
    "### 3.Missing Data"
   ]
  },
  {
   "cell_type": "markdown",
   "id": "35012516-2efa-4b8e-9be3-aef5a6cbac72",
   "metadata": {},
   "source": [
    "Use the factors to decide wherte the data columns would be useful in order to keep, discard or fill the missing data"
   ]
  },
  {
   "cell_type": "code",
   "execution_count": 22,
   "id": "203254aa-7008-4b52-aee9-cd1c1dcb1166",
   "metadata": {},
   "outputs": [
    {
     "data": {
      "text/plain": [
       "116263"
      ]
     },
     "execution_count": 22,
     "metadata": {},
     "output_type": "execute_result"
    }
   ],
   "source": [
    "len(df)"
   ]
  },
  {
   "cell_type": "markdown",
   "id": "29f7f9cd-bad7-4e7d-872a-22c4c718a762",
   "metadata": {},
   "source": [
    "Create a series that displays the total count of missing values per column"
   ]
  },
  {
   "cell_type": "code",
   "execution_count": 23,
   "id": "456b5706-9c31-4fd8-b141-3521e69372b7",
   "metadata": {},
   "outputs": [
    {
     "data": {
      "text/plain": [
       "loan_amnt               0\n",
       "term                    0\n",
       "int_rate                0\n",
       "installment             0\n",
       "grade                   0\n",
       "sub_grade               0\n",
       "emp_title               0\n",
       "emp_length              0\n",
       "home_ownership          0\n",
       "annual_inc              0\n",
       "verification_status     0\n",
       "issue_d                 0\n",
       "loan_status             0\n",
       "purpose                 0\n",
       "title                   0\n",
       "zip_code                0\n",
       "addr_state              0\n",
       "dti                     0\n",
       "earliest_cr_line        0\n",
       "open_acc                0\n",
       "pub_rec                 0\n",
       "revol_bal               0\n",
       "revol_util              0\n",
       "total_acc               0\n",
       "initial_list_status     0\n",
       "application_type        0\n",
       "mort_acc                0\n",
       "pub_rec_bankruptcies    0\n",
       "loan_repaid             0\n",
       "dtype: int64"
      ]
     },
     "execution_count": 23,
     "metadata": {},
     "output_type": "execute_result"
    }
   ],
   "source": [
    "df.isnull().sum()"
   ]
  },
  {
   "cell_type": "markdown",
   "id": "93a97e7f-03d1-467e-b27a-ecb000347346",
   "metadata": {},
   "source": [
    "Converting this Series to be in term of percentage of the total DataFrame"
   ]
  },
  {
   "cell_type": "code",
   "execution_count": 24,
   "id": "6411a8c2-3854-4344-82ec-8afe8c9dbb8f",
   "metadata": {},
   "outputs": [
    {
     "data": {
      "text/plain": [
       "loan_amnt               0.0\n",
       "term                    0.0\n",
       "int_rate                0.0\n",
       "installment             0.0\n",
       "grade                   0.0\n",
       "sub_grade               0.0\n",
       "emp_title               0.0\n",
       "emp_length              0.0\n",
       "home_ownership          0.0\n",
       "annual_inc              0.0\n",
       "verification_status     0.0\n",
       "issue_d                 0.0\n",
       "loan_status             0.0\n",
       "purpose                 0.0\n",
       "title                   0.0\n",
       "zip_code                0.0\n",
       "addr_state              0.0\n",
       "dti                     0.0\n",
       "earliest_cr_line        0.0\n",
       "open_acc                0.0\n",
       "pub_rec                 0.0\n",
       "revol_bal               0.0\n",
       "revol_util              0.0\n",
       "total_acc               0.0\n",
       "initial_list_status     0.0\n",
       "application_type        0.0\n",
       "mort_acc                0.0\n",
       "pub_rec_bankruptcies    0.0\n",
       "loan_repaid             0.0\n",
       "dtype: float64"
      ]
     },
     "execution_count": 24,
     "metadata": {},
     "output_type": "execute_result"
    }
   ],
   "source": [
    "100*df.isnull().sum()/len(df)\n"
   ]
  },
  {
   "cell_type": "markdown",
   "id": "8eb5b8da-2bdd-4e0f-9a12-b98a08e03011",
   "metadata": {},
   "source": [
    "examine emp_title and emp_length to see whether it will be okay to drop them."
   ]
  },
  {
   "cell_type": "code",
   "execution_count": 25,
   "id": "9c6c9c54-99dc-4675-aa7e-1a7858b92ec3",
   "metadata": {},
   "outputs": [
    {
     "name": "stdout",
     "output_type": "stream",
     "text": [
      "Index(['loan_amnt', 'term', 'int_rate', 'installment', 'grade', 'sub_grade',\n",
      "       'emp_title', 'emp_length', 'home_ownership', 'annual_inc',\n",
      "       'verification_status', 'issue_d', 'loan_status', 'purpose', 'title',\n",
      "       'zip_code', 'addr_state', 'dti', 'earliest_cr_line', 'open_acc',\n",
      "       'pub_rec', 'revol_bal', 'revol_util', 'total_acc',\n",
      "       'initial_list_status', 'application_type', 'mort_acc',\n",
      "       'pub_rec_bankruptcies', 'loan_repaid'],\n",
      "      dtype='object')\n"
     ]
    }
   ],
   "source": [
    "print(df.columns)\n"
   ]
  },
  {
   "cell_type": "code",
   "execution_count": 26,
   "id": "406f55fc-c611-4606-80c7-69ad71bb6841",
   "metadata": {},
   "outputs": [
    {
     "data": {
      "text/plain": [
       "51779"
      ]
     },
     "execution_count": 26,
     "metadata": {},
     "output_type": "execute_result"
    }
   ],
   "source": [
    "df['emp_title'].nunique()"
   ]
  },
  {
   "cell_type": "code",
   "execution_count": 27,
   "id": "cdb238b4-82f1-4fbe-808f-f8007fd7a431",
   "metadata": {},
   "outputs": [
    {
     "data": {
      "text/plain": [
       "emp_title\n",
       "Teacher                  1956\n",
       "Manager                  1814\n",
       "Owner                     944\n",
       "Registered Nurse          857\n",
       "RN                        855\n",
       "                         ... \n",
       "Network Systems Chief       1\n",
       "Sea Ranch                   1\n",
       "inventory associate         1\n",
       "Sr Accoutant                1\n",
       "Transition Coach            1\n",
       "Name: count, Length: 51779, dtype: int64"
      ]
     },
     "execution_count": 27,
     "metadata": {},
     "output_type": "execute_result"
    }
   ],
   "source": [
    "df['emp_title'].value_counts()"
   ]
  },
  {
   "cell_type": "markdown",
   "id": "eb3cfc4b-327e-410d-a3bc-00858e80a29a",
   "metadata": {},
   "source": [
    "Since there are too many job titles to try to convert this to a dummy variable feature. Let's remove that emp_title column."
   ]
  },
  {
   "cell_type": "code",
   "execution_count": 28,
   "id": "0f66e371-4faa-495a-9d01-dbbf466bcc46",
   "metadata": {},
   "outputs": [],
   "source": [
    "df = df.drop('emp_title',axis=1)"
   ]
  },
  {
   "cell_type": "markdown",
   "id": "df05aa82-50cb-4303-aedd-e0687bda8293",
   "metadata": {},
   "source": [
    "Create a count plot of the emp_length feature column."
   ]
  },
  {
   "cell_type": "code",
   "execution_count": 29,
   "id": "e13f555e-5aa6-4416-8413-ad5515aa2c32",
   "metadata": {},
   "outputs": [
    {
     "data": {
      "text/plain": [
       "['1 year',\n",
       " '10+ years',\n",
       " '2 years',\n",
       " '3 years',\n",
       " '4 years',\n",
       " '5 years',\n",
       " '6 years',\n",
       " '7 years',\n",
       " '8 years',\n",
       " '9 years',\n",
       " '< 1 year']"
      ]
     },
     "execution_count": 29,
     "metadata": {},
     "output_type": "execute_result"
    }
   ],
   "source": [
    "sorted(df['emp_length'].dropna().unique())"
   ]
  },
  {
   "cell_type": "code",
   "execution_count": 30,
   "id": "da9e8dae-a333-4706-9b01-30f1753f39cc",
   "metadata": {},
   "outputs": [],
   "source": [
    "emp_length_order = [ '< 1 year',\n",
    "                      '1 year',\n",
    "                     '2 years',\n",
    "                     '3 years',\n",
    "                     '4 years',\n",
    "                     '5 years',\n",
    "                     '6 years',\n",
    "                     '7 years',\n",
    "                     '8 years',\n",
    "                     '9 years',\n",
    "                     '10+ years']"
   ]
  },
  {
   "cell_type": "code",
   "execution_count": 31,
   "id": "56b37a4f-8c4a-4c27-8ef0-d4a5c22b7ac8",
   "metadata": {},
   "outputs": [
    {
     "data": {
      "text/plain": [
       "<Axes: xlabel='emp_length', ylabel='count'>"
      ]
     },
     "execution_count": 31,
     "metadata": {},
     "output_type": "execute_result"
    },
    {
     "data": {
      "image/png": "[encoded data removed]",
      "text/plain": [
       "<Figure size 1200x400 with 1 Axes>"
      ]
     },
     "metadata": {},
     "output_type": "display_data"
    }
   ],
   "source": [
    "plt.figure(figsize=(12,4))\n",
    "\n",
    "sns.countplot(x='emp_length',data=df,order=emp_length_order)"
   ]
  },
  {
   "cell_type": "markdown",
   "id": "e90f6cf5-9d1c-4226-b536-e84ccffe76c9",
   "metadata": {},
   "source": [
    "Plotting out the countplot with a hue separating Fully Paid vs Charged Off"
   ]
  },
  {
   "cell_type": "code",
   "execution_count": 32,
   "id": "b6ffc3f3-a3f3-4f32-b7e3-7cec6ab51433",
   "metadata": {},
   "outputs": [
    {
     "data": {
      "text/plain": [
       "<Axes: xlabel='emp_length', ylabel='count'>"
      ]
     },
     "execution_count": 32,
     "metadata": {},
     "output_type": "execute_result"
    },
    {
     "data": {
      "image/png": "[encoded data removed]",
      "text/plain": [
       "<Figure size 1200x400 with 1 Axes>"
      ]
     },
     "metadata": {},
     "output_type": "display_data"
    }
   ],
   "source": [
    "plt.figure(figsize=(12,4))\n",
    "sns.countplot(x='emp_length',data=df,order=emp_length_order,hue='loan_status')"
   ]
  },
  {
   "cell_type": "markdown",
   "id": "acfddbd8-361f-4922-a0e8-8bdb2b6290f3",
   "metadata": {},
   "source": [
    "the chart does not really confirm of the strong relationship between the length and being charged off, what we need is the percentage of charge offs per category, to confirm what percentage of borrowers per employment category didn't pay back the loan."
   ]
  },
  {
   "cell_type": "code",
   "execution_count": 33,
   "id": "f5f2e636-b317-46a3-a727-85390ad39b61",
   "metadata": {},
   "outputs": [],
   "source": [
    "emp_co = df[df['loan_status']==\"Charged Off\"].groupby(\"emp_length\").count()['loan_status']"
   ]
  },
  {
   "cell_type": "code",
   "execution_count": 34,
   "id": "fe807225-ce3d-4b94-bd73-09c56aef67cc",
   "metadata": {},
   "outputs": [],
   "source": [
    "emp_fp = df[df['loan_status']==\"Fully Paid\"].groupby(\"emp_length\").count()['loan_status']"
   ]
  },
  {
   "cell_type": "code",
   "execution_count": 35,
   "id": "bdf499b6-e219-4e3b-ab46-217bffa7d5e3",
   "metadata": {},
   "outputs": [],
   "source": [
    "emp_len = emp_co/emp_fp"
   ]
  },
  {
   "cell_type": "code",
   "execution_count": 36,
   "id": "f8d6c191-e8e7-46c6-a069-f55b4412a128",
   "metadata": {},
   "outputs": [
    {
     "data": {
      "text/plain": [
       "emp_length\n",
       "1 year       0.256664\n",
       "10+ years    0.230906\n",
       "2 years      0.251143\n",
       "3 years      0.251508\n",
       "4 years      0.252555\n",
       "5 years      0.243151\n",
       "6 years      0.233717\n",
       "7 years      0.242165\n",
       "8 years      0.247009\n",
       "9 years      0.257840\n",
       "< 1 year     0.272926\n",
       "Name: loan_status, dtype: float64"
      ]
     },
     "execution_count": 36,
     "metadata": {},
     "output_type": "execute_result"
    }
   ],
   "source": [
    "emp_len"
   ]
  },
  {
   "cell_type": "code",
   "execution_count": 37,
   "id": "5216ab74-7315-4f12-ab3a-94bdb07ce0f7",
   "metadata": {},
   "outputs": [
    {
     "data": {
      "text/plain": [
       "<Axes: xlabel='emp_length'>"
      ]
     },
     "execution_count": 37,
     "metadata": {},
     "output_type": "execute_result"
    },
    {
     "data": {
      "image/png": "[encoded data removed]",
      "text/plain": [
       "<Figure size 1200x400 with 1 Axes>"
      ]
     },
     "metadata": {},
     "output_type": "display_data"
    }
   ],
   "source": [
    "plt.figure(figsize=(12,4))\n",
    "emp_len.plot(kind='bar')"
   ]
  },
  {
   "cell_type": "markdown",
   "id": "2afbfb7b-2734-4535-a9ff-1f99e744e4d4",
   "metadata": {},
   "source": [
    "Thus, the charge off rates are similar across all employment lengths, the emp_length column will be dropped "
   ]
  },
  {
   "cell_type": "code",
   "execution_count": 38,
   "id": "4c3e1e33-9143-4cbb-b3ea-923567598588",
   "metadata": {},
   "outputs": [],
   "source": [
    "df = df.drop('emp_length',axis=1)"
   ]
  },
  {
   "cell_type": "code",
   "execution_count": 39,
   "id": "bbd59a32-105d-40e5-ba9e-b8ed34479b4a",
   "metadata": {},
   "outputs": [
    {
     "data": {
      "text/plain": [
       "loan_amnt               0\n",
       "term                    0\n",
       "int_rate                0\n",
       "installment             0\n",
       "grade                   0\n",
       "sub_grade               0\n",
       "home_ownership          0\n",
       "annual_inc              0\n",
       "verification_status     0\n",
       "issue_d                 0\n",
       "loan_status             0\n",
       "purpose                 0\n",
       "title                   0\n",
       "zip_code                0\n",
       "addr_state              0\n",
       "dti                     0\n",
       "earliest_cr_line        0\n",
       "open_acc                0\n",
       "pub_rec                 0\n",
       "revol_bal               0\n",
       "revol_util              0\n",
       "total_acc               0\n",
       "initial_list_status     0\n",
       "application_type        0\n",
       "mort_acc                0\n",
       "pub_rec_bankruptcies    0\n",
       "loan_repaid             0\n",
       "dtype: int64"
      ]
     },
     "execution_count": 39,
     "metadata": {},
     "output_type": "execute_result"
    }
   ],
   "source": [
    "#Revisit the DataFrame to see what feature columns still have missing data.\n",
    "df.isnull().sum()"
   ]
  },
  {
   "cell_type": "code",
   "execution_count": 41,
   "id": "ec027b78-b962-42c7-8d04-8bf05ee85775",
   "metadata": {},
   "outputs": [
    {
     "data": {
      "text/plain": [
       "0              Hospital Debt \n",
       "2                    Business\n",
       "3          Debt Consolidation\n",
       "5     Credit card refinancing\n",
       "7                       Other\n",
       "8          bill consolidation\n",
       "11         Debt consolidation\n",
       "12    Credit card refinancing\n",
       "14         Debt consolidation\n",
       "15         Debt consolidation\n",
       "18    Debt Consolidation Loan\n",
       "20             Major purchase\n",
       "21    Credit card refinancing\n",
       "22         Debt consolidation\n",
       "23    Credit card refinancing\n",
       "24         Debt consolidation\n",
       "25           Home improvement\n",
       "27         Debt consolidation\n",
       "29         Debt consolidation\n",
       "30                      Other\n",
       "Name: title, dtype: object"
      ]
     },
     "execution_count": 41,
     "metadata": {},
     "output_type": "execute_result"
    }
   ],
   "source": [
    "df['title'].head(20)"
   ]
  },
  {
   "cell_type": "markdown",
   "id": "e02202f5-d476-4097-97e7-d57604247600",
   "metadata": {},
   "source": [
    "The title column is simply a string subcategory/description of the purpose column. we can go ahead and drop the title column."
   ]
  },
  {
   "cell_type": "code",
   "execution_count": 42,
   "id": "675f0f57-6a41-4848-a621-186a5e158f30",
   "metadata": {},
   "outputs": [],
   "source": [
    "df=df.drop('title',axis=1)"
   ]
  },
  {
   "cell_type": "code",
   "execution_count": 43,
   "id": "26798f49-82b8-4790-8e5e-d7e70f8aaba7",
   "metadata": {},
   "outputs": [
    {
     "data": {
      "text/plain": [
       "loan_amnt               0\n",
       "term                    0\n",
       "int_rate                0\n",
       "installment             0\n",
       "grade                   0\n",
       "sub_grade               0\n",
       "home_ownership          0\n",
       "annual_inc              0\n",
       "verification_status     0\n",
       "issue_d                 0\n",
       "loan_status             0\n",
       "purpose                 0\n",
       "zip_code                0\n",
       "addr_state              0\n",
       "dti                     0\n",
       "earliest_cr_line        0\n",
       "open_acc                0\n",
       "pub_rec                 0\n",
       "revol_bal               0\n",
       "revol_util              0\n",
       "total_acc               0\n",
       "initial_list_status     0\n",
       "application_type        0\n",
       "mort_acc                0\n",
       "pub_rec_bankruptcies    0\n",
       "loan_repaid             0\n",
       "dtype: int64"
      ]
     },
     "execution_count": 43,
     "metadata": {},
     "output_type": "execute_result"
    }
   ],
   "source": [
    "#Revisit the DataFrame to see what feature columns still have missing data.\n",
    "df.isnull().sum()"
   ]
  },
  {
   "cell_type": "code",
   "execution_count": 44,
   "id": "413b28d1-99de-4fc5-9406-16b535f12631",
   "metadata": {},
   "outputs": [
    {
     "data": {
      "text/plain": [
       "mort_acc\n",
       "0.0     47016\n",
       "1.0     20421\n",
       "2.0     16863\n",
       "3.0     12374\n",
       "4.0      8498\n",
       "5.0      5086\n",
       "6.0      2902\n",
       "7.0      1545\n",
       "8.0       720\n",
       "9.0       387\n",
       "10.0      183\n",
       "11.0      114\n",
       "12.0       56\n",
       "13.0       31\n",
       "14.0       26\n",
       "15.0        9\n",
       "16.0        7\n",
       "18.0        6\n",
       "17.0        5\n",
       "19.0        5\n",
       "23.0        2\n",
       "20.0        2\n",
       "21.0        1\n",
       "25.0        1\n",
       "24.0        1\n",
       "22.0        1\n",
       "34.0        1\n",
       "Name: count, dtype: int64"
      ]
     },
     "execution_count": 44,
     "metadata": {},
     "output_type": "execute_result"
    }
   ],
   "source": [
    "df['mort_acc'].value_counts()"
   ]
  },
  {
   "cell_type": "markdown",
   "id": "d2f20aab-ab14-471e-b627-8937124e67c1",
   "metadata": {},
   "source": [
    "review the other columsn to see which most highly correlates to mort_acc"
   ]
  },
  {
   "cell_type": "code",
   "execution_count": 46,
   "id": "aa736fe4-2179-4bde-b0c3-660bf768cdec",
   "metadata": {},
   "outputs": [
    {
     "name": "stdout",
     "output_type": "stream",
     "text": [
      "Correlation with the mort_acc column\n"
     ]
    },
    {
     "data": {
      "text/plain": [
       "int_rate               -0.083000\n",
       "dti                    -0.043327\n",
       "pub_rec                -0.004736\n",
       "pub_rec_bankruptcies    0.009219\n",
       "revol_util              0.028239\n",
       "loan_repaid             0.075703\n",
       "term                    0.103386\n",
       "open_acc                0.115894\n",
       "installment             0.193105\n",
       "revol_bal               0.199205\n",
       "annual_inc              0.201249\n",
       "loan_amnt               0.227682\n",
       "total_acc               0.359945\n",
       "mort_acc                1.000000\n",
       "Name: mort_acc, dtype: float64"
      ]
     },
     "execution_count": 46,
     "metadata": {},
     "output_type": "execute_result"
    }
   ],
   "source": [
    "print(\"Correlation with the mort_acc column\")\n",
    "df.corr(numeric_only=True)['mort_acc'].sort_values()"
   ]
  },
  {
   "cell_type": "markdown",
   "id": "708d23bb-f57b-44db-893b-b2253dcfe019",
   "metadata": {},
   "source": [
    "it seems the total_acc feature correlates with the mort_acc ,now we try this fillna() approach. We will group the dataframe by the total_acc and calculate the mean value for the mort_acc per total_acc entry. To get the result below:"
   ]
  },
  {
   "cell_type": "code",
   "execution_count": 47,
   "id": "e9ca16b4-b6cb-4a6b-a3fa-0a49092d4638",
   "metadata": {},
   "outputs": [
    {
     "name": "stdout",
     "output_type": "stream",
     "text": [
      "Mean of mort_acc column per total_acc\n"
     ]
    },
    {
     "data": {
      "text/plain": [
       "total_acc\n",
       "2.0      0.000000\n",
       "3.0      0.025000\n",
       "4.0      0.080692\n",
       "5.0      0.133884\n",
       "6.0      0.168050\n",
       "           ...   \n",
       "116.0    2.000000\n",
       "120.0    0.000000\n",
       "124.0    1.000000\n",
       "130.0    3.000000\n",
       "133.0    3.000000\n",
       "Name: mort_acc, Length: 109, dtype: float64"
      ]
     },
     "execution_count": 47,
     "metadata": {},
     "output_type": "execute_result"
    }
   ],
   "source": [
    "print(\"Mean of mort_acc column per total_acc\")\n",
    "df.select_dtypes(include='number').groupby(df['total_acc']).mean()['mort_acc']"
   ]
  },
  {
   "cell_type": "markdown",
   "id": "c5ce7857-573a-4d93-a33f-4a8c4d7fe295",
   "metadata": {},
   "source": [
    "we fill in the missing mort_acc values based on their total_acc value. If the mort_acc is missing, then we will fill in that missing value with the mean value corresponding to its total_acc value from the Series we created above. This involves using an .apply() method with two columns."
   ]
  },
  {
   "cell_type": "code",
   "execution_count": 48,
   "id": "c13ab45a-32bb-4d46-a6cc-6afaad6b2a82",
   "metadata": {},
   "outputs": [],
   "source": [
    "total_acc_avg = df.groupby('total_acc')['mort_acc'].mean()"
   ]
  },
  {
   "cell_type": "code",
   "execution_count": 49,
   "id": "d6ff797f-248a-4aca-aad3-5aae871c9927",
   "metadata": {},
   "outputs": [
    {
     "data": {
      "text/plain": [
       "total_acc\n",
       "2.0      0.000000\n",
       "3.0      0.025000\n",
       "4.0      0.080692\n",
       "5.0      0.133884\n",
       "6.0      0.168050\n",
       "           ...   \n",
       "116.0    2.000000\n",
       "120.0    0.000000\n",
       "124.0    1.000000\n",
       "130.0    3.000000\n",
       "133.0    3.000000\n",
       "Name: mort_acc, Length: 109, dtype: float64"
      ]
     },
     "execution_count": 49,
     "metadata": {},
     "output_type": "execute_result"
    }
   ],
   "source": [
    "total_acc_avg"
   ]
  },
  {
   "cell_type": "code",
   "execution_count": 50,
   "id": "178c0d06-744d-40de-a036-25ab76005e65",
   "metadata": {},
   "outputs": [
    {
     "data": {
      "text/plain": [
       "0.0"
      ]
     },
     "execution_count": 50,
     "metadata": {},
     "output_type": "execute_result"
    }
   ],
   "source": [
    "total_acc_avg[2.0]"
   ]
  },
  {
   "cell_type": "code",
   "execution_count": null,
   "id": "6386dc72-1bb6-47a2-a7ed-4229a44c2ad6",
   "metadata": {},
   "outputs": [],
   "source": [
    "# the total_acc and mort_acc values are accepted for the row. If the mort_acc is NaN , it returns the avg mort_acc value for the corresponding total_acc value for that row. total_acc_avg here should be a Series or dictionary containing the mapping of the groupby averages of mort_acc per total_acc values.\n",
    "\n",
    "def fill_mort_acc(total_acc,mort_acc):\n",
    "\n",
    "    if np.isnan(mort_acc):\n",
    "        return total_acc_avg[total_acc]\n",
    "    else:\n",
    "        return mort_acc"
   ]
  },
  {
   "cell_type": "code",
   "execution_count": 52,
   "id": "c3d1cf17-7cd7-442e-9760-3304cce85dc3",
   "metadata": {},
   "outputs": [],
   "source": [
    "df['mort_acc'] = df['mort_acc'].fillna(df['total_acc'].map(total_acc_avg))"
   ]
  },
  {
   "cell_type": "code",
   "execution_count": 53,
   "id": "7bd373a1-0a1e-4596-9819-c6ede686ae54",
   "metadata": {},
   "outputs": [
    {
     "data": {
      "text/plain": [
       "loan_amnt               0\n",
       "term                    0\n",
       "int_rate                0\n",
       "installment             0\n",
       "grade                   0\n",
       "sub_grade               0\n",
       "home_ownership          0\n",
       "annual_inc              0\n",
       "verification_status     0\n",
       "issue_d                 0\n",
       "loan_status             0\n",
       "purpose                 0\n",
       "zip_code                0\n",
       "addr_state              0\n",
       "dti                     0\n",
       "earliest_cr_line        0\n",
       "open_acc                0\n",
       "pub_rec                 0\n",
       "revol_bal               0\n",
       "revol_util              0\n",
       "total_acc               0\n",
       "initial_list_status     0\n",
       "application_type        0\n",
       "mort_acc                0\n",
       "pub_rec_bankruptcies    0\n",
       "loan_repaid             0\n",
       "dtype: int64"
      ]
     },
     "execution_count": 53,
     "metadata": {},
     "output_type": "execute_result"
    }
   ],
   "source": [
    "df.isnull().sum()"
   ]
  },
  {
   "cell_type": "markdown",
   "id": "7fd7c8d8-8ab6-492f-bcd3-fea7b1e879fc",
   "metadata": {},
   "source": [
    "### 4. Categorical Variables and Dummy Variables"
   ]
  },
  {
   "cell_type": "markdown",
   "id": "039b26d1-1ce5-4e44-bacf-ac9159369c74",
   "metadata": {},
   "source": [
    " Now we need to deal with the string values due to the categorical columns."
   ]
  },
  {
   "cell_type": "code",
   "execution_count": 56,
   "id": "46e3917a-2bd9-4273-9657-de3a9d4b74b4",
   "metadata": {},
   "outputs": [
    {
     "data": {
      "text/plain": [
       "Index(['grade', 'sub_grade', 'home_ownership', 'verification_status',\n",
       "       'issue_d', 'loan_status', 'purpose', 'zip_code', 'addr_state',\n",
       "       'earliest_cr_line', 'initial_list_status', 'application_type'],\n",
       "      dtype='object')"
      ]
     },
     "execution_count": 56,
     "metadata": {},
     "output_type": "execute_result"
    }
   ],
   "source": [
    "df.select_dtypes(['object']).columns"
   ]
  },
  {
   "cell_type": "markdown",
   "id": "73d29bab-dbe0-4b51-a226-9d3de292e0b5",
   "metadata": {},
   "source": [
    "### term feature\n",
    "Convert the term feature into either a 36 or 60 integer numeric data type using .apply() or .map().**"
   ]
  },
  {
   "cell_type": "code",
   "execution_count": 57,
   "id": "460da70f-73a4-4895-89f0-5a26cc3ffe30",
   "metadata": {},
   "outputs": [
    {
     "data": {
      "text/plain": [
       "term\n",
       "36    87747\n",
       "60    28516\n",
       "Name: count, dtype: int64"
      ]
     },
     "execution_count": 57,
     "metadata": {},
     "output_type": "execute_result"
    }
   ],
   "source": [
    "df['term'].value_counts()"
   ]
  },
  {
   "cell_type": "code",
   "execution_count": 58,
   "id": "76a67dcb-b7ce-4060-a7a5-13f64a8f9980",
   "metadata": {},
   "outputs": [],
   "source": [
    "df['term'] = df['term'].astype(str).str.replace(' months', '').astype(int)"
   ]
  },
  {
   "cell_type": "markdown",
   "id": "384024d6-01b6-4063-9c93-1b2fb0876f50",
   "metadata": {},
   "source": [
    "### grade feature\n",
    "We already know grade is part of sub_grade, so just drop the grade feature."
   ]
  },
  {
   "cell_type": "code",
   "execution_count": 59,
   "id": "6015b541",
   "metadata": {},
   "outputs": [
    {
     "name": "stdout",
     "output_type": "stream",
     "text": [
      "Index(['loan_amnt', 'term', 'int_rate', 'installment', 'grade', 'sub_grade',\n",
      "       'home_ownership', 'annual_inc', 'verification_status', 'issue_d',\n",
      "       'loan_status', 'purpose', 'zip_code', 'addr_state', 'dti',\n",
      "       'earliest_cr_line', 'open_acc', 'pub_rec', 'revol_bal', 'revol_util',\n",
      "       'total_acc', 'initial_list_status', 'application_type', 'mort_acc',\n",
      "       'pub_rec_bankruptcies', 'loan_repaid'],\n",
      "      dtype='object')\n"
     ]
    }
   ],
   "source": [
    "print(df.columns)"
   ]
  },
  {
   "cell_type": "code",
   "execution_count": 60,
   "id": "85b06bc7-e4a3-4c1b-80e2-f8756f6ed8e1",
   "metadata": {},
   "outputs": [],
   "source": [
    "df = df.drop('grade', axis=1, errors='ignore')\n"
   ]
  },
  {
   "cell_type": "markdown",
   "id": "54c9088f-d3ba-439c-8802-524b6214ab3a",
   "metadata": {},
   "source": [
    "Convert the subgrade into dummy variables. Then concatenate these new columns to the original dataframe. drop the original subgrade column and to add drop_first=True to get_dummies call."
   ]
  },
  {
   "cell_type": "code",
   "execution_count": 61,
   "id": "eaa1e3f7-8f50-4fda-baf8-deeb03ed71fa",
   "metadata": {},
   "outputs": [],
   "source": [
    "df.columns = df.columns.str.strip()\n",
    "\n",
    "if 'sub_grade' in df.columns:\n",
    "    subgrade_dummies = pd.get_dummies(df['sub_grade'], prefix='sub_grade', drop_first=True)\n",
    "    df = pd.concat([df.drop(columns=['sub_grade']), subgrade_dummies], axis=1)"
   ]
  },
  {
   "cell_type": "code",
   "execution_count": 62,
   "id": "ed7e0950-2ab0-476f-8e4c-3005c10fea98",
   "metadata": {},
   "outputs": [
    {
     "data": {
      "text/plain": [
       "Index(['home_ownership', 'verification_status', 'issue_d', 'loan_status',\n",
       "       'purpose', 'zip_code', 'addr_state', 'earliest_cr_line',\n",
       "       'initial_list_status', 'application_type'],\n",
       "      dtype='object')"
      ]
     },
     "execution_count": 62,
     "metadata": {},
     "output_type": "execute_result"
    }
   ],
   "source": [
    "df.select_dtypes(['object']).columns"
   ]
  },
  {
   "cell_type": "markdown",
   "id": "50dcc31d-a50b-41b4-9125-e037d25161a4",
   "metadata": {},
   "source": [
    "### verification_status, application_type,initial_list_status,purpose\n",
    "Convert these columns: ['verification_status', 'application_type','initial_list_status','purpose'] into dummy variables and concatenate them with the original dataframe. set drop_first=True and to drop the original columns."
   ]
  },
  {
   "cell_type": "code",
   "execution_count": 63,
   "id": "3bff0f72-458a-4638-a5c6-b70c626aa1a4",
   "metadata": {},
   "outputs": [
    {
     "name": "stdout",
     "output_type": "stream",
     "text": [
      "Current columns in df: ['loan_amnt', 'term', 'int_rate', 'installment', 'home_ownership', 'annual_inc', 'verification_status', 'issue_d', 'loan_status', 'purpose', 'zip_code', 'addr_state', 'dti', 'earliest_cr_line', 'open_acc', 'pub_rec', 'revol_bal', 'revol_util', 'total_acc', 'initial_list_status', 'application_type', 'mort_acc', 'pub_rec_bankruptcies', 'loan_repaid', 'sub_grade_A2', 'sub_grade_A3', 'sub_grade_A4', 'sub_grade_A5', 'sub_grade_B1', 'sub_grade_B2', 'sub_grade_B3', 'sub_grade_B4', 'sub_grade_B5', 'sub_grade_C1', 'sub_grade_C2', 'sub_grade_C3', 'sub_grade_C4', 'sub_grade_C5', 'sub_grade_D1', 'sub_grade_D2', 'sub_grade_D3', 'sub_grade_D4', 'sub_grade_D5', 'sub_grade_E1', 'sub_grade_E2', 'sub_grade_E3', 'sub_grade_E4', 'sub_grade_E5', 'sub_grade_F1', 'sub_grade_F2', 'sub_grade_F3', 'sub_grade_F4', 'sub_grade_F5', 'sub_grade_G1', 'sub_grade_G2', 'sub_grade_G3', 'sub_grade_G4', 'sub_grade_G5']\n"
     ]
    }
   ],
   "source": [
    "print(\"Current columns in df:\", df.columns.tolist())"
   ]
  },
  {
   "cell_type": "code",
   "execution_count": 64,
   "id": "65688d04-7b1f-468b-9ae1-39eab7107711",
   "metadata": {},
   "outputs": [],
   "source": [
    "# Columns we want to encode\n",
    "base_cols = ['verification_status', 'application_type', 'initial_list_status', 'purpose']\n",
    "\n",
    "# Find which of these columns actually exist in df (including possible \".1\" versions)\n",
    "cols_to_encode = [c for c in df.columns if c in base_cols or c.replace('.1', '') in base_cols]\n",
    "\n",
    "# Only proceed if there are valid columns to encode\n",
    "if cols_to_encode:\n",
    "    # One-hot encode the selected columns\n",
    "    dummies = pd.get_dummies(df[cols_to_encode], drop_first=True)\n",
    "\n",
    "    # Drop the original categorical columns\n",
    "    df = df.drop(cols_to_encode, axis=1)\n",
    "\n",
    "    # Remove any duplicate columns from dummies (safety check)\n",
    "    dummies = dummies.loc[:, ~dummies.columns.duplicated()]\n",
    "\n",
    "    # Concatenate the encoded columns back to df\n",
    "    df = pd.concat([df, dummies], axis=1)\n"
   ]
  },
  {
   "cell_type": "code",
   "execution_count": 65,
   "id": "a7dc0e6f-3b19-4dfe-ab1b-40cd336c2a87",
   "metadata": {},
   "outputs": [
    {
     "name": "stdout",
     "output_type": "stream",
     "text": [
      "['loan_amnt', 'term', 'int_rate', 'installment', 'home_ownership', 'annual_inc', 'issue_d', 'loan_status', 'zip_code', 'addr_state', 'dti', 'earliest_cr_line', 'open_acc', 'pub_rec', 'revol_bal', 'revol_util', 'total_acc', 'mort_acc', 'pub_rec_bankruptcies', 'loan_repaid', 'sub_grade_A2', 'sub_grade_A3', 'sub_grade_A4', 'sub_grade_A5', 'sub_grade_B1', 'sub_grade_B2', 'sub_grade_B3', 'sub_grade_B4', 'sub_grade_B5', 'sub_grade_C1', 'sub_grade_C2', 'sub_grade_C3', 'sub_grade_C4', 'sub_grade_C5', 'sub_grade_D1', 'sub_grade_D2', 'sub_grade_D3', 'sub_grade_D4', 'sub_grade_D5', 'sub_grade_E1', 'sub_grade_E2', 'sub_grade_E3', 'sub_grade_E4', 'sub_grade_E5', 'sub_grade_F1', 'sub_grade_F2', 'sub_grade_F3', 'sub_grade_F4', 'sub_grade_F5', 'sub_grade_G1', 'sub_grade_G2', 'sub_grade_G3', 'sub_grade_G4', 'sub_grade_G5', 'verification_status_Source Verified', 'verification_status_Verified', 'purpose_credit_card', 'purpose_debt_consolidation', 'purpose_home_improvement', 'purpose_house', 'purpose_major_purchase', 'purpose_medical', 'purpose_moving', 'purpose_other', 'purpose_renewable_energy', 'purpose_small_business', 'purpose_vacation', 'purpose_wedding', 'initial_list_status_w', 'application_type_Joint App']\n"
     ]
    }
   ],
   "source": [
    "print(df.columns.tolist())\n"
   ]
  },
  {
   "cell_type": "markdown",
   "id": "2d53b7f6-4dfe-4505-ada8-b4c975f1c230",
   "metadata": {},
   "source": [
    "### home_ownership\n",
    "Review the value_counts for the home_ownership column."
   ]
  },
  {
   "cell_type": "code",
   "execution_count": 66,
   "id": "a3b6ec5e-560b-45bf-8e5c-e6be7df1a33a",
   "metadata": {},
   "outputs": [
    {
     "data": {
      "text/plain": [
       "home_ownership\n",
       "MORTGAGE    57826\n",
       "RENT        46474\n",
       "OWN         11934\n",
       "ANY            20\n",
       "OTHER           5\n",
       "NONE            4\n",
       "Name: count, dtype: int64"
      ]
     },
     "execution_count": 66,
     "metadata": {},
     "output_type": "execute_result"
    }
   ],
   "source": [
    "df['home_ownership'].value_counts()"
   ]
  },
  {
   "cell_type": "markdown",
   "id": "8c5955be-d36a-48a0-92e7-015c05325054",
   "metadata": {},
   "source": [
    "We need to convert these to dummy variables, but replace NONE and ANY with OTHER, so that we end up with just 4 categories, MORTGAGE, RENT, OWN, OTHER. Then concatenate them with the original dataframe. set drop_first=True and to drop the original columns."
   ]
  },
  {
   "cell_type": "code",
   "execution_count": 67,
   "id": "7fd2031e-641e-4168-81f0-2530b41bcaae",
   "metadata": {},
   "outputs": [
    {
     "name": "stdout",
     "output_type": "stream",
     "text": [
      "['loan_amnt', 'term', 'int_rate', 'installment', 'home_ownership', 'annual_inc', 'issue_d', 'loan_status', 'zip_code', 'addr_state', 'dti', 'earliest_cr_line', 'open_acc', 'pub_rec', 'revol_bal', 'revol_util', 'total_acc', 'mort_acc', 'pub_rec_bankruptcies', 'loan_repaid', 'sub_grade_A2', 'sub_grade_A3', 'sub_grade_A4', 'sub_grade_A5', 'sub_grade_B1', 'sub_grade_B2', 'sub_grade_B3', 'sub_grade_B4', 'sub_grade_B5', 'sub_grade_C1', 'sub_grade_C2', 'sub_grade_C3', 'sub_grade_C4', 'sub_grade_C5', 'sub_grade_D1', 'sub_grade_D2', 'sub_grade_D3', 'sub_grade_D4', 'sub_grade_D5', 'sub_grade_E1', 'sub_grade_E2', 'sub_grade_E3', 'sub_grade_E4', 'sub_grade_E5', 'sub_grade_F1', 'sub_grade_F2', 'sub_grade_F3', 'sub_grade_F4', 'sub_grade_F5', 'sub_grade_G1', 'sub_grade_G2', 'sub_grade_G3', 'sub_grade_G4', 'sub_grade_G5', 'verification_status_Source Verified', 'verification_status_Verified', 'purpose_credit_card', 'purpose_debt_consolidation', 'purpose_home_improvement', 'purpose_house', 'purpose_major_purchase', 'purpose_medical', 'purpose_moving', 'purpose_other', 'purpose_renewable_energy', 'purpose_small_business', 'purpose_vacation', 'purpose_wedding', 'initial_list_status_w', 'application_type_Joint App']\n"
     ]
    }
   ],
   "source": [
    "print(df.columns.tolist())\n"
   ]
  },
  {
   "cell_type": "code",
   "execution_count": 68,
   "id": "d3857e2b-c7a7-48ad-bf03-9ca9f388d59b",
   "metadata": {
    "scrolled": true
   },
   "outputs": [],
   "source": [
    "if 'home_ownership' in df.columns:  \n",
    "    df['home_ownership'] = df['home_ownership'].replace(['NONE', 'ANY'], 'OTHER')\n",
    "\n",
    "    dummies = pd.get_dummies(df['home_ownership'], prefix=\"home_ownership\", drop_first=True)\n",
    "\n",
    "    df = pd.concat([df.drop('home_ownership', axis=1), dummies], axis=1)\n",
    "else:\n",
    "    print(\"Column 'home_ownership' not found, maybe already dummy encoded.\")"
   ]
  },
  {
   "cell_type": "code",
   "execution_count": 69,
   "id": "06117fcd-594d-40e0-b15e-5092a832262f",
   "metadata": {},
   "outputs": [
    {
     "data": {
      "text/plain": [
       "Index(['loan_amnt', 'term', 'int_rate', 'installment', 'annual_inc', 'issue_d',\n",
       "       'loan_status', 'zip_code', 'addr_state', 'dti', 'earliest_cr_line',\n",
       "       'open_acc', 'pub_rec', 'revol_bal', 'revol_util', 'total_acc',\n",
       "       'mort_acc', 'pub_rec_bankruptcies', 'loan_repaid', 'sub_grade_A2',\n",
       "       'sub_grade_A3', 'sub_grade_A4', 'sub_grade_A5', 'sub_grade_B1',\n",
       "       'sub_grade_B2', 'sub_grade_B3', 'sub_grade_B4', 'sub_grade_B5',\n",
       "       'sub_grade_C1', 'sub_grade_C2', 'sub_grade_C3', 'sub_grade_C4',\n",
       "       'sub_grade_C5', 'sub_grade_D1', 'sub_grade_D2', 'sub_grade_D3',\n",
       "       'sub_grade_D4', 'sub_grade_D5', 'sub_grade_E1', 'sub_grade_E2',\n",
       "       'sub_grade_E3', 'sub_grade_E4', 'sub_grade_E5', 'sub_grade_F1',\n",
       "       'sub_grade_F2', 'sub_grade_F3', 'sub_grade_F4', 'sub_grade_F5',\n",
       "       'sub_grade_G1', 'sub_grade_G2', 'sub_grade_G3', 'sub_grade_G4',\n",
       "       'sub_grade_G5', 'verification_status_Source Verified',\n",
       "       'verification_status_Verified', 'purpose_credit_card',\n",
       "       'purpose_debt_consolidation', 'purpose_home_improvement',\n",
       "       'purpose_house', 'purpose_major_purchase', 'purpose_medical',\n",
       "       'purpose_moving', 'purpose_other', 'purpose_renewable_energy',\n",
       "       'purpose_small_business', 'purpose_vacation', 'purpose_wedding',\n",
       "       'initial_list_status_w', 'application_type_Joint App',\n",
       "       'home_ownership_OTHER', 'home_ownership_OWN', 'home_ownership_RENT'],\n",
       "      dtype='object')"
      ]
     },
     "execution_count": 69,
     "metadata": {},
     "output_type": "execute_result"
    }
   ],
   "source": [
    "df.columns"
   ]
  },
  {
   "cell_type": "markdown",
   "id": "027aa1d4-fe38-4748-9491-d4d2cc9bb51d",
   "metadata": {},
   "source": [
    "### issue_d\n",
    "This would be data leakage, we wouldn't know beforehand whether or not a loan would be issued when using our model, so we drop issue_date feature."
   ]
  },
  {
   "cell_type": "code",
   "execution_count": 70,
   "id": "c0c6e707-943d-4cd8-920b-a61d05120e12",
   "metadata": {},
   "outputs": [],
   "source": [
    "df = df.drop('issue_d',axis=1)"
   ]
  },
  {
   "cell_type": "markdown",
   "id": "8c5a9fd6-67ef-4872-ba15-bc78c585834b",
   "metadata": {},
   "source": [
    "### earliest_cr_line\n",
    "This appears to be a historical time stamp feature. Extract the year from this feature using a .apply function, then convert it to a numeric feature. Set this new data to a feature column called 'earliest_cr_year'.Then drop the earliest_cr_line feature."
   ]
  },
  {
   "cell_type": "code",
   "execution_count": 71,
   "id": "7da90adb-f51d-48c4-9014-5bd0172aaf1b",
   "metadata": {},
   "outputs": [],
   "source": [
    "df['earliest_cr_year'] = df['earliest_cr_line'].apply(lambda date:int(date[-4:]))\n",
    "df = df.drop('earliest_cr_line',axis=1)     "
   ]
  },
  {
   "cell_type": "code",
   "execution_count": 72,
   "id": "4daa342f-b5ea-4c1f-8fa5-2d5f73027c16",
   "metadata": {},
   "outputs": [
    {
     "data": {
      "text/html": [
       "<div>\n",
       "<style scoped>\n",
       "    .dataframe tbody tr th:only-of-type {\n",
       "        vertical-align: middle;\n",
       "    }\n",
       "\n",
       "    .dataframe tbody tr th {\n",
       "        vertical-align: top;\n",
       "    }\n",
       "\n",
       "    .dataframe thead th {\n",
       "        text-align: right;\n",
       "    }\n",
       "</style>\n",
       "<table border=\"1\" class=\"dataframe\">\n",
       "  <thead>\n",
       "    <tr style=\"text-align: right;\">\n",
       "      <th></th>\n",
       "      <th>loan_amnt</th>\n",
       "      <th>term</th>\n",
       "      <th>int_rate</th>\n",
       "      <th>installment</th>\n",
       "      <th>annual_inc</th>\n",
       "      <th>loan_status</th>\n",
       "      <th>zip_code</th>\n",
       "      <th>addr_state</th>\n",
       "      <th>dti</th>\n",
       "      <th>open_acc</th>\n",
       "      <th>...</th>\n",
       "      <th>purpose_renewable_energy</th>\n",
       "      <th>purpose_small_business</th>\n",
       "      <th>purpose_vacation</th>\n",
       "      <th>purpose_wedding</th>\n",
       "      <th>initial_list_status_w</th>\n",
       "      <th>application_type_Joint App</th>\n",
       "      <th>home_ownership_OTHER</th>\n",
       "      <th>home_ownership_OWN</th>\n",
       "      <th>home_ownership_RENT</th>\n",
       "      <th>earliest_cr_year</th>\n",
       "    </tr>\n",
       "  </thead>\n",
       "  <tbody>\n",
       "    <tr>\n",
       "      <th>0</th>\n",
       "      <td>35000</td>\n",
       "      <td>36</td>\n",
       "      <td>12.12</td>\n",
       "      <td>1164.51</td>\n",
       "      <td>90000.0</td>\n",
       "      <td>Fully Paid</td>\n",
       "      <td>775xx</td>\n",
       "      <td>TX</td>\n",
       "      <td>3.51</td>\n",
       "      <td>14.0</td>\n",
       "      <td>...</td>\n",
       "      <td>False</td>\n",
       "      <td>False</td>\n",
       "      <td>False</td>\n",
       "      <td>False</td>\n",
       "      <td>True</td>\n",
       "      <td>False</td>\n",
       "      <td>False</td>\n",
       "      <td>False</td>\n",
       "      <td>True</td>\n",
       "      <td>1997</td>\n",
       "    </tr>\n",
       "    <tr>\n",
       "      <th>2</th>\n",
       "      <td>15000</td>\n",
       "      <td>36</td>\n",
       "      <td>7.49</td>\n",
       "      <td>466.53</td>\n",
       "      <td>100000.0</td>\n",
       "      <td>Fully Paid</td>\n",
       "      <td>210xx</td>\n",
       "      <td>MD</td>\n",
       "      <td>6.71</td>\n",
       "      <td>16.0</td>\n",
       "      <td>...</td>\n",
       "      <td>False</td>\n",
       "      <td>True</td>\n",
       "      <td>False</td>\n",
       "      <td>False</td>\n",
       "      <td>True</td>\n",
       "      <td>False</td>\n",
       "      <td>False</td>\n",
       "      <td>True</td>\n",
       "      <td>False</td>\n",
       "      <td>1996</td>\n",
       "    </tr>\n",
       "    <tr>\n",
       "      <th>3</th>\n",
       "      <td>24000</td>\n",
       "      <td>60</td>\n",
       "      <td>21.15</td>\n",
       "      <td>651.31</td>\n",
       "      <td>58000.0</td>\n",
       "      <td>Fully Paid</td>\n",
       "      <td>282xx</td>\n",
       "      <td>NC</td>\n",
       "      <td>15.50</td>\n",
       "      <td>10.0</td>\n",
       "      <td>...</td>\n",
       "      <td>False</td>\n",
       "      <td>False</td>\n",
       "      <td>False</td>\n",
       "      <td>False</td>\n",
       "      <td>False</td>\n",
       "      <td>False</td>\n",
       "      <td>False</td>\n",
       "      <td>False</td>\n",
       "      <td>True</td>\n",
       "      <td>1998</td>\n",
       "    </tr>\n",
       "    <tr>\n",
       "      <th>5</th>\n",
       "      <td>5000</td>\n",
       "      <td>36</td>\n",
       "      <td>9.93</td>\n",
       "      <td>161.18</td>\n",
       "      <td>46750.0</td>\n",
       "      <td>Fully Paid</td>\n",
       "      <td>085xx</td>\n",
       "      <td>NJ</td>\n",
       "      <td>11.09</td>\n",
       "      <td>8.0</td>\n",
       "      <td>...</td>\n",
       "      <td>False</td>\n",
       "      <td>False</td>\n",
       "      <td>False</td>\n",
       "      <td>False</td>\n",
       "      <td>True</td>\n",
       "      <td>False</td>\n",
       "      <td>False</td>\n",
       "      <td>False</td>\n",
       "      <td>True</td>\n",
       "      <td>2000</td>\n",
       "    </tr>\n",
       "    <tr>\n",
       "      <th>7</th>\n",
       "      <td>6550</td>\n",
       "      <td>36</td>\n",
       "      <td>24.74</td>\n",
       "      <td>259.53</td>\n",
       "      <td>42000.0</td>\n",
       "      <td>Fully Paid</td>\n",
       "      <td>444xx</td>\n",
       "      <td>OH</td>\n",
       "      <td>18.71</td>\n",
       "      <td>3.0</td>\n",
       "      <td>...</td>\n",
       "      <td>False</td>\n",
       "      <td>False</td>\n",
       "      <td>False</td>\n",
       "      <td>False</td>\n",
       "      <td>False</td>\n",
       "      <td>False</td>\n",
       "      <td>False</td>\n",
       "      <td>False</td>\n",
       "      <td>False</td>\n",
       "      <td>2006</td>\n",
       "    </tr>\n",
       "  </tbody>\n",
       "</table>\n",
       "<p>5 rows × 71 columns</p>\n",
       "</div>"
      ],
      "text/plain": [
       "   loan_amnt  term  int_rate  installment  annual_inc loan_status zip_code  \\\n",
       "0      35000    36     12.12      1164.51     90000.0  Fully Paid    775xx   \n",
       "2      15000    36      7.49       466.53    100000.0  Fully Paid    210xx   \n",
       "3      24000    60     21.15       651.31     58000.0  Fully Paid    282xx   \n",
       "5       5000    36      9.93       161.18     46750.0  Fully Paid    085xx   \n",
       "7       6550    36     24.74       259.53     42000.0  Fully Paid    444xx   \n",
       "\n",
       "  addr_state    dti  open_acc  ...  purpose_renewable_energy  \\\n",
       "0         TX   3.51      14.0  ...                     False   \n",
       "2         MD   6.71      16.0  ...                     False   \n",
       "3         NC  15.50      10.0  ...                     False   \n",
       "5         NJ  11.09       8.0  ...                     False   \n",
       "7         OH  18.71       3.0  ...                     False   \n",
       "\n",
       "   purpose_small_business  purpose_vacation  purpose_wedding  \\\n",
       "0                   False             False            False   \n",
       "2                    True             False            False   \n",
       "3                   False             False            False   \n",
       "5                   False             False            False   \n",
       "7                   False             False            False   \n",
       "\n",
       "   initial_list_status_w  application_type_Joint App  home_ownership_OTHER  \\\n",
       "0                   True                       False                 False   \n",
       "2                   True                       False                 False   \n",
       "3                  False                       False                 False   \n",
       "5                   True                       False                 False   \n",
       "7                  False                       False                 False   \n",
       "\n",
       "   home_ownership_OWN  home_ownership_RENT  earliest_cr_year  \n",
       "0               False                 True              1997  \n",
       "2                True                False              1996  \n",
       "3               False                 True              1998  \n",
       "5               False                 True              2000  \n",
       "7               False                False              2006  \n",
       "\n",
       "[5 rows x 71 columns]"
      ]
     },
     "execution_count": 72,
     "metadata": {},
     "output_type": "execute_result"
    }
   ],
   "source": [
    "df.head(5)"
   ]
  },
  {
   "cell_type": "markdown",
   "id": "f2e938a6-85e9-428a-bd95-8eaaf96094ad",
   "metadata": {},
   "source": [
    "addtionnally, funded_amnt and funded_amnt_inv columns are dropped as well."
   ]
  },
  {
   "cell_type": "code",
   "execution_count": 73,
   "id": "76663805-e8ae-43ab-bb4f-88e656eec8c4",
   "metadata": {},
   "outputs": [
    {
     "data": {
      "text/html": [
       "<div>\n",
       "<style scoped>\n",
       "    .dataframe tbody tr th:only-of-type {\n",
       "        vertical-align: middle;\n",
       "    }\n",
       "\n",
       "    .dataframe tbody tr th {\n",
       "        vertical-align: top;\n",
       "    }\n",
       "\n",
       "    .dataframe thead th {\n",
       "        text-align: right;\n",
       "    }\n",
       "</style>\n",
       "<table border=\"1\" class=\"dataframe\">\n",
       "  <thead>\n",
       "    <tr style=\"text-align: right;\">\n",
       "      <th></th>\n",
       "      <th>loan_amnt</th>\n",
       "      <th>term</th>\n",
       "      <th>int_rate</th>\n",
       "      <th>installment</th>\n",
       "      <th>annual_inc</th>\n",
       "      <th>loan_status</th>\n",
       "      <th>zip_code</th>\n",
       "      <th>addr_state</th>\n",
       "      <th>dti</th>\n",
       "      <th>open_acc</th>\n",
       "      <th>...</th>\n",
       "      <th>purpose_renewable_energy</th>\n",
       "      <th>purpose_small_business</th>\n",
       "      <th>purpose_vacation</th>\n",
       "      <th>purpose_wedding</th>\n",
       "      <th>initial_list_status_w</th>\n",
       "      <th>application_type_Joint App</th>\n",
       "      <th>home_ownership_OTHER</th>\n",
       "      <th>home_ownership_OWN</th>\n",
       "      <th>home_ownership_RENT</th>\n",
       "      <th>earliest_cr_year</th>\n",
       "    </tr>\n",
       "  </thead>\n",
       "  <tbody>\n",
       "    <tr>\n",
       "      <th>0</th>\n",
       "      <td>35000</td>\n",
       "      <td>36</td>\n",
       "      <td>12.12</td>\n",
       "      <td>1164.51</td>\n",
       "      <td>90000.0</td>\n",
       "      <td>Fully Paid</td>\n",
       "      <td>775xx</td>\n",
       "      <td>TX</td>\n",
       "      <td>3.51</td>\n",
       "      <td>14.0</td>\n",
       "      <td>...</td>\n",
       "      <td>False</td>\n",
       "      <td>False</td>\n",
       "      <td>False</td>\n",
       "      <td>False</td>\n",
       "      <td>True</td>\n",
       "      <td>False</td>\n",
       "      <td>False</td>\n",
       "      <td>False</td>\n",
       "      <td>True</td>\n",
       "      <td>1997</td>\n",
       "    </tr>\n",
       "    <tr>\n",
       "      <th>2</th>\n",
       "      <td>15000</td>\n",
       "      <td>36</td>\n",
       "      <td>7.49</td>\n",
       "      <td>466.53</td>\n",
       "      <td>100000.0</td>\n",
       "      <td>Fully Paid</td>\n",
       "      <td>210xx</td>\n",
       "      <td>MD</td>\n",
       "      <td>6.71</td>\n",
       "      <td>16.0</td>\n",
       "      <td>...</td>\n",
       "      <td>False</td>\n",
       "      <td>True</td>\n",
       "      <td>False</td>\n",
       "      <td>False</td>\n",
       "      <td>True</td>\n",
       "      <td>False</td>\n",
       "      <td>False</td>\n",
       "      <td>True</td>\n",
       "      <td>False</td>\n",
       "      <td>1996</td>\n",
       "    </tr>\n",
       "    <tr>\n",
       "      <th>3</th>\n",
       "      <td>24000</td>\n",
       "      <td>60</td>\n",
       "      <td>21.15</td>\n",
       "      <td>651.31</td>\n",
       "      <td>58000.0</td>\n",
       "      <td>Fully Paid</td>\n",
       "      <td>282xx</td>\n",
       "      <td>NC</td>\n",
       "      <td>15.50</td>\n",
       "      <td>10.0</td>\n",
       "      <td>...</td>\n",
       "      <td>False</td>\n",
       "      <td>False</td>\n",
       "      <td>False</td>\n",
       "      <td>False</td>\n",
       "      <td>False</td>\n",
       "      <td>False</td>\n",
       "      <td>False</td>\n",
       "      <td>False</td>\n",
       "      <td>True</td>\n",
       "      <td>1998</td>\n",
       "    </tr>\n",
       "    <tr>\n",
       "      <th>5</th>\n",
       "      <td>5000</td>\n",
       "      <td>36</td>\n",
       "      <td>9.93</td>\n",
       "      <td>161.18</td>\n",
       "      <td>46750.0</td>\n",
       "      <td>Fully Paid</td>\n",
       "      <td>085xx</td>\n",
       "      <td>NJ</td>\n",
       "      <td>11.09</td>\n",
       "      <td>8.0</td>\n",
       "      <td>...</td>\n",
       "      <td>False</td>\n",
       "      <td>False</td>\n",
       "      <td>False</td>\n",
       "      <td>False</td>\n",
       "      <td>True</td>\n",
       "      <td>False</td>\n",
       "      <td>False</td>\n",
       "      <td>False</td>\n",
       "      <td>True</td>\n",
       "      <td>2000</td>\n",
       "    </tr>\n",
       "    <tr>\n",
       "      <th>7</th>\n",
       "      <td>6550</td>\n",
       "      <td>36</td>\n",
       "      <td>24.74</td>\n",
       "      <td>259.53</td>\n",
       "      <td>42000.0</td>\n",
       "      <td>Fully Paid</td>\n",
       "      <td>444xx</td>\n",
       "      <td>OH</td>\n",
       "      <td>18.71</td>\n",
       "      <td>3.0</td>\n",
       "      <td>...</td>\n",
       "      <td>False</td>\n",
       "      <td>False</td>\n",
       "      <td>False</td>\n",
       "      <td>False</td>\n",
       "      <td>False</td>\n",
       "      <td>False</td>\n",
       "      <td>False</td>\n",
       "      <td>False</td>\n",
       "      <td>False</td>\n",
       "      <td>2006</td>\n",
       "    </tr>\n",
       "  </tbody>\n",
       "</table>\n",
       "<p>5 rows × 71 columns</p>\n",
       "</div>"
      ],
      "text/plain": [
       "   loan_amnt  term  int_rate  installment  annual_inc loan_status zip_code  \\\n",
       "0      35000    36     12.12      1164.51     90000.0  Fully Paid    775xx   \n",
       "2      15000    36      7.49       466.53    100000.0  Fully Paid    210xx   \n",
       "3      24000    60     21.15       651.31     58000.0  Fully Paid    282xx   \n",
       "5       5000    36      9.93       161.18     46750.0  Fully Paid    085xx   \n",
       "7       6550    36     24.74       259.53     42000.0  Fully Paid    444xx   \n",
       "\n",
       "  addr_state    dti  open_acc  ...  purpose_renewable_energy  \\\n",
       "0         TX   3.51      14.0  ...                     False   \n",
       "2         MD   6.71      16.0  ...                     False   \n",
       "3         NC  15.50      10.0  ...                     False   \n",
       "5         NJ  11.09       8.0  ...                     False   \n",
       "7         OH  18.71       3.0  ...                     False   \n",
       "\n",
       "   purpose_small_business  purpose_vacation  purpose_wedding  \\\n",
       "0                   False             False            False   \n",
       "2                    True             False            False   \n",
       "3                   False             False            False   \n",
       "5                   False             False            False   \n",
       "7                   False             False            False   \n",
       "\n",
       "   initial_list_status_w  application_type_Joint App  home_ownership_OTHER  \\\n",
       "0                   True                       False                 False   \n",
       "2                   True                       False                 False   \n",
       "3                  False                       False                 False   \n",
       "5                   True                       False                 False   \n",
       "7                  False                       False                 False   \n",
       "\n",
       "   home_ownership_OWN  home_ownership_RENT  earliest_cr_year  \n",
       "0               False                 True              1997  \n",
       "2                True                False              1996  \n",
       "3               False                 True              1998  \n",
       "5               False                 True              2000  \n",
       "7               False                False              2006  \n",
       "\n",
       "[5 rows x 71 columns]"
      ]
     },
     "execution_count": 73,
     "metadata": {},
     "output_type": "execute_result"
    }
   ],
   "source": [
    "df.head(5)"
   ]
  },
  {
   "cell_type": "markdown",
   "id": "8af25c38-47a8-4e87-9265-5c01249a36bc",
   "metadata": {},
   "source": [
    "### address\n",
    "we feature engineer a zip code column from the address in the data set. Create a column called 'zip_code' that extracts the zip code from the address column."
   ]
  },
  {
   "cell_type": "code",
   "execution_count": 74,
   "id": "35796e22-b50f-4a75-97f8-c2bbf2ffd754",
   "metadata": {},
   "outputs": [],
   "source": [
    "df['zip_code'] = df['addr_state'].apply(lambda address:address[-5:])"
   ]
  },
  {
   "cell_type": "markdown",
   "id": "153c696a-2e39-4127-9764-471ee6843584",
   "metadata": {},
   "source": [
    "Now make this zip_code column into dummy variables using pandas. Concatenate the result and drop the original zip_code column along with dropping the address column."
   ]
  },
  {
   "cell_type": "code",
   "execution_count": 75,
   "id": "f655e176-9085-4780-9964-a03a6b46ad8d",
   "metadata": {},
   "outputs": [],
   "source": [
    "dummies = pd.get_dummies(df['zip_code'],drop_first=True)\n",
    "df = df.drop(['zip_code','addr_state'],axis=1)\n",
    "df = pd.concat([df,dummies],axis=1)"
   ]
  },
  {
   "cell_type": "code",
   "execution_count": 76,
   "id": "ed44650e-6e64-4f58-a556-dd5e6da1ec19",
   "metadata": {},
   "outputs": [
    {
     "data": {
      "text/plain": [
       "Index(['loan_amnt', 'term', 'int_rate', 'installment', 'annual_inc',\n",
       "       'loan_status', 'dti', 'open_acc', 'pub_rec', 'revol_bal',\n",
       "       ...\n",
       "       'SD', 'TN', 'TX', 'UT', 'VA', 'VT', 'WA', 'WI', 'WV', 'WY'],\n",
       "      dtype='object', length=118)"
      ]
     },
     "execution_count": 76,
     "metadata": {},
     "output_type": "execute_result"
    }
   ],
   "source": [
    "df.columns"
   ]
  },
  {
   "cell_type": "code",
   "execution_count": 77,
   "id": "7b882273-5dad-4545-86da-01f97f4a981d",
   "metadata": {},
   "outputs": [
    {
     "data": {
      "text/plain": [
       "Index(['loan_status'], dtype='object')"
      ]
     },
     "execution_count": 77,
     "metadata": {},
     "output_type": "execute_result"
    }
   ],
   "source": [
    "df.select_dtypes(['object']).columns"
   ]
  },
  {
   "cell_type": "markdown",
   "id": "f3bb21db-ab1e-4859-a541-f2921753b488",
   "metadata": {},
   "source": [
    "## 5. Train Test Split"
   ]
  },
  {
   "cell_type": "code",
   "execution_count": 78,
   "id": "f8676a93-4c9f-4ccd-9624-ccd956478ff6",
   "metadata": {},
   "outputs": [
    {
     "name": "stderr",
     "output_type": "stream",
     "text": [
      "/Users/auraw./Desktop/698/.venv/lib/python3.9/site-packages/urllib3/__init__.py:35: NotOpenSSLWarning: urllib3 v2 only supports OpenSSL 1.1.1+, currently the 'ssl' module is compiled with 'LibreSSL 2.8.3'. See: https://github.com/urllib3/urllib3/issues/3020\n",
      "  warnings.warn(\n"
     ]
    }
   ],
   "source": [
    "from sklearn.model_selection import train_test_split\n",
    "from sklearn.preprocessing import MinMaxScaler\n",
    "import tensorflow as tf\n",
    "from tensorflow.keras.models import Sequential\n",
    "from tensorflow.keras.layers import Dense, Activation,Dropout\n",
    "from tensorflow.keras.constraints import max_norm\n",
    "from tensorflow.keras.models import load_model\n",
    "from sklearn.metrics import classification_report,confusion_matrix\n",
    "from sklearn.metrics import roc_curve\n",
    "from sklearn.metrics import average_precision_score"
   ]
  },
  {
   "cell_type": "code",
   "execution_count": 79,
   "id": "721f7f21",
   "metadata": {},
   "outputs": [],
   "source": [
    "# Define KS Statistics function\n",
    "def ks_statistics(y_true, y_score):\n",
    "    fpr, tpr, _ = roc_curve(y_true, y_score)\n",
    "    return float(np.max(tpr - fpr))"
   ]
  },
  {
   "cell_type": "markdown",
   "id": "8b4b6117-0480-4cab-9582-e38466ed0128",
   "metadata": {},
   "source": [
    "drop the load_status column we created earlier, since its a duplicate of the loan_repaid column. We'll use the loan_repaid column since its already in 0s and 1s."
   ]
  },
  {
   "cell_type": "code",
   "execution_count": 80,
   "id": "739b99ef-a2c5-492a-9bef-fa437777add6",
   "metadata": {},
   "outputs": [],
   "source": [
    "df = df.drop('loan_status', axis =1)"
   ]
  },
  {
   "cell_type": "markdown",
   "id": "ba925ca4-e922-4f73-a4d8-35da9a25e4ef",
   "metadata": {},
   "source": [
    "## Normalizing the Data\n",
    "Using a MinMaxScaler to normalize the feature data X_train and X_test. Recall we don't want data leakge from the test set so we only fit on the X_train data."
   ]
  },
  {
   "cell_type": "code",
   "execution_count": 81,
   "id": "0cbba58c-9b42-4a3e-8120-c609a67c0399",
   "metadata": {},
   "outputs": [
    {
     "name": "stdout",
     "output_type": "stream",
     "text": [
      "Index([], dtype='object')\n"
     ]
    }
   ],
   "source": [
    "X = df.drop('loan_repaid', axis=1)\n",
    "y = df['loan_repaid']\n",
    "\n",
    "from sklearn.model_selection import train_test_split\n",
    "X_train, X_test, y_train, y_test = train_test_split(X, y.astype(int), test_size=0.2, random_state=42, stratify=y)\n",
    "\n",
    "\n",
    "# Drop or encode non-numeric features BEFORE scaling\n",
    "non_numeric_cols = X_train.select_dtypes(include=['object']).columns\n",
    "print(non_numeric_cols)\n",
    "\n",
    "# Drop them if already encoded\n",
    "X_train = pd.get_dummies(X_train, columns=non_numeric_cols, drop_first=True)\n",
    "X_test = pd.get_dummies(X_test, columns=non_numeric_cols, drop_first=True)\n",
    "\n",
    "X_train, X_test = X_train.align(X_test, join='left', axis=1, fill_value=0)\n",
    "\n",
    "# Scale\n",
    "from sklearn.preprocessing import MinMaxScaler\n",
    "scaler_mm = MinMaxScaler()\n",
    "X_train_scaled_mm = scaler_mm.fit_transform(X_train)\n",
    "X_test_scaled_mm = scaler_mm.transform(X_test)\n",
    "\n",
    "# Impletement Wide & Deep\n",
    "\n",
    "# Wide\n",
    "X_train_wide = X_train.values.astype(\"float32\")\n",
    "X_test_wide = X_test.values.astype(\"float32\")\n",
    "\n",
    "# Deep: use the result from scaler\n",
    "X_train_deep = X_train_scaled_mm.astype(\"float32\")\n",
    "X_test_deep = X_test_scaled_mm.astype(\"float32\")\n"
   ]
  },
  {
   "cell_type": "markdown",
   "id": "ad50af57-f911-4f0c-8ce8-33bc1c282288",
   "metadata": {},
   "source": [
    "### Creating the Model\n",
    "Building a sequential model to be trained on the data. We have unlimited options here, but here is what the solution uses: a model that goes 78 --> 39 --> 19--> 1 output neuron."
   ]
  },
  {
   "cell_type": "code",
   "execution_count": null,
   "id": "927a436b-4de6-4949-baac-6ce2f89d644e",
   "metadata": {},
   "outputs": [
    {
     "name": "stderr",
     "output_type": "stream",
     "text": [
      "/Users/auraw./Desktop/698/.venv/lib/python3.9/site-packages/keras/src/layers/core/dense.py:93: UserWarning: Do not pass an `input_shape`/`input_dim` argument to a layer. When using Sequential models, prefer using an `Input(shape)` object as the first layer in the model instead.\n",
      "  super().__init__(activity_regularizer=activity_regularizer, **kwargs)\n",
      "2025-09-27 16:14:36.140803: I metal_plugin/src/device/metal_device.cc:1154] Metal device set to: Apple M1 Pro\n",
      "2025-09-27 16:14:36.140848: I metal_plugin/src/device/metal_device.cc:296] systemMemory: 16.00 GB\n",
      "2025-09-27 16:14:36.140855: I metal_plugin/src/device/metal_device.cc:313] maxCacheSize: 5.33 GB\n",
      "2025-09-27 16:14:36.140872: I tensorflow/core/common_runtime/pluggable_device/pluggable_device_factory.cc:305] Could not identify NUMA node of platform GPU ID 0, defaulting to 0. Your kernel may not have been built with NUMA support.\n",
      "2025-09-27 16:14:36.140883: I tensorflow/core/common_runtime/pluggable_device/pluggable_device_factory.cc:271] Created TensorFlow device (/job:localhost/replica:0/task:0/device:GPU:0 with 0 MB memory) -> physical PluggableDevice (device: 0, name: METAL, pci bus id: <undefined>)\n"
     ]
    }
   ],
   "source": [
    "model = Sequential()\n",
    "\n",
    "\n",
    "# input layer\n",
    "model.add(Dense(78, activation='relu', input_shape=(X_train_scaled_mm.shape[1],)))\n",
    "model.add(Dropout(0.2))\n",
    "\n",
    "# hidden layer\n",
    "model.add(Dense(39, activation='relu'))\n",
    "model.add(Dropout(0.2))\n",
    "\n",
    "# hidden layer\n",
    "model.add(Dense(19, activation='relu'))\n",
    "model.add(Dropout(0.2))\n",
    "\n",
    "# output layer\n",
    "model.add(Dense(units=1,activation='sigmoid'))\n",
    "\n",
    "# Compile model\n",
    "model.compile(\n",
    "    loss='binary_crossentropy',\n",
    "    optimizer='adam',\n",
    "    metrics=[\n",
    "        tf.keras.metrics.AUC(name='roc_auc', curve='ROC'),\n",
    "        tf.keras.metrics.AUC(name='pr_auc',  curve='PR'),\n",
    "        tf.keras.metrics.Precision(name='precision'),\n",
    "        tf.keras.metrics.Recall(name='recall'),\n",
    "        tf.keras.metrics.BinaryAccuracy(name='accuracy')\n",
    "    ]\n",
    ")"
   ]
  },
  {
   "cell_type": "markdown",
   "id": "855eacec",
   "metadata": {},
   "source": [
    "### Create Wide & Deep Model"
   ]
  },
  {
   "cell_type": "code",
   "execution_count": 83,
   "id": "0568e999",
   "metadata": {},
   "outputs": [
    {
     "data": {
      "text/html": [
       "<pre style=\"white-space:pre;overflow-x:auto;line-height:normal;font-family:Menlo,'DejaVu Sans Mono',consolas,'Courier New',monospace\"><span style=\"font-weight: bold\">Model: \"WideAndDeep\"</span>\n",
       "</pre>\n"
      ],
      "text/plain": [
       "\u001b[1mModel: \"WideAndDeep\"\u001b[0m\n"
      ]
     },
     "metadata": {},
     "output_type": "display_data"
    },
    {
     "data": {
      "text/html": [
       "<pre style=\"white-space:pre;overflow-x:auto;line-height:normal;font-family:Menlo,'DejaVu Sans Mono',consolas,'Courier New',monospace\">┏━━━━━━━━━━━━━━━━━━━━━┳━━━━━━━━━━━━━━━━━━━┳━━━━━━━━━━━━┳━━━━━━━━━━━━━━━━━━━┓\n",
       "┃<span style=\"font-weight: bold\"> Layer (type)        </span>┃<span style=\"font-weight: bold\"> Output Shape      </span>┃<span style=\"font-weight: bold\">    Param # </span>┃<span style=\"font-weight: bold\"> Connected to      </span>┃\n",
       "┡━━━━━━━━━━━━━━━━━━━━━╇━━━━━━━━━━━━━━━━━━━╇━━━━━━━━━━━━╇━━━━━━━━━━━━━━━━━━━┩\n",
       "│ deep_input          │ (<span style=\"color: #00d7ff; text-decoration-color: #00d7ff\">None</span>, <span style=\"color: #00af00; text-decoration-color: #00af00\">116</span>)       │          <span style=\"color: #00af00; text-decoration-color: #00af00\">0</span> │ -                 │\n",
       "│ (<span style=\"color: #0087ff; text-decoration-color: #0087ff\">InputLayer</span>)        │                   │            │                   │\n",
       "├─────────────────────┼───────────────────┼────────────┼───────────────────┤\n",
       "│ dense_4 (<span style=\"color: #0087ff; text-decoration-color: #0087ff\">Dense</span>)     │ (<span style=\"color: #00d7ff; text-decoration-color: #00d7ff\">None</span>, <span style=\"color: #00af00; text-decoration-color: #00af00\">128</span>)       │     <span style=\"color: #00af00; text-decoration-color: #00af00\">14,976</span> │ deep_input[<span style=\"color: #00af00; text-decoration-color: #00af00\">0</span>][<span style=\"color: #00af00; text-decoration-color: #00af00\">0</span>]  │\n",
       "├─────────────────────┼───────────────────┼────────────┼───────────────────┤\n",
       "│ dropout_3 (<span style=\"color: #0087ff; text-decoration-color: #0087ff\">Dropout</span>) │ (<span style=\"color: #00d7ff; text-decoration-color: #00d7ff\">None</span>, <span style=\"color: #00af00; text-decoration-color: #00af00\">128</span>)       │          <span style=\"color: #00af00; text-decoration-color: #00af00\">0</span> │ dense_4[<span style=\"color: #00af00; text-decoration-color: #00af00\">0</span>][<span style=\"color: #00af00; text-decoration-color: #00af00\">0</span>]     │\n",
       "├─────────────────────┼───────────────────┼────────────┼───────────────────┤\n",
       "│ dense_5 (<span style=\"color: #0087ff; text-decoration-color: #0087ff\">Dense</span>)     │ (<span style=\"color: #00d7ff; text-decoration-color: #00d7ff\">None</span>, <span style=\"color: #00af00; text-decoration-color: #00af00\">64</span>)        │      <span style=\"color: #00af00; text-decoration-color: #00af00\">8,256</span> │ dropout_3[<span style=\"color: #00af00; text-decoration-color: #00af00\">0</span>][<span style=\"color: #00af00; text-decoration-color: #00af00\">0</span>]   │\n",
       "├─────────────────────┼───────────────────┼────────────┼───────────────────┤\n",
       "│ wide_input          │ (<span style=\"color: #00d7ff; text-decoration-color: #00d7ff\">None</span>, <span style=\"color: #00af00; text-decoration-color: #00af00\">116</span>)       │          <span style=\"color: #00af00; text-decoration-color: #00af00\">0</span> │ -                 │\n",
       "│ (<span style=\"color: #0087ff; text-decoration-color: #0087ff\">InputLayer</span>)        │                   │            │                   │\n",
       "├─────────────────────┼───────────────────┼────────────┼───────────────────┤\n",
       "│ dropout_4 (<span style=\"color: #0087ff; text-decoration-color: #0087ff\">Dropout</span>) │ (<span style=\"color: #00d7ff; text-decoration-color: #00d7ff\">None</span>, <span style=\"color: #00af00; text-decoration-color: #00af00\">64</span>)        │          <span style=\"color: #00af00; text-decoration-color: #00af00\">0</span> │ dense_5[<span style=\"color: #00af00; text-decoration-color: #00af00\">0</span>][<span style=\"color: #00af00; text-decoration-color: #00af00\">0</span>]     │\n",
       "├─────────────────────┼───────────────────┼────────────┼───────────────────┤\n",
       "│ wide_logit (<span style=\"color: #0087ff; text-decoration-color: #0087ff\">Dense</span>)  │ (<span style=\"color: #00d7ff; text-decoration-color: #00d7ff\">None</span>, <span style=\"color: #00af00; text-decoration-color: #00af00\">1</span>)         │        <span style=\"color: #00af00; text-decoration-color: #00af00\">117</span> │ wide_input[<span style=\"color: #00af00; text-decoration-color: #00af00\">0</span>][<span style=\"color: #00af00; text-decoration-color: #00af00\">0</span>]  │\n",
       "├─────────────────────┼───────────────────┼────────────┼───────────────────┤\n",
       "│ deep_logit (<span style=\"color: #0087ff; text-decoration-color: #0087ff\">Dense</span>)  │ (<span style=\"color: #00d7ff; text-decoration-color: #00d7ff\">None</span>, <span style=\"color: #00af00; text-decoration-color: #00af00\">1</span>)         │         <span style=\"color: #00af00; text-decoration-color: #00af00\">65</span> │ dropout_4[<span style=\"color: #00af00; text-decoration-color: #00af00\">0</span>][<span style=\"color: #00af00; text-decoration-color: #00af00\">0</span>]   │\n",
       "├─────────────────────┼───────────────────┼────────────┼───────────────────┤\n",
       "│ sum_logits (<span style=\"color: #0087ff; text-decoration-color: #0087ff\">Add</span>)    │ (<span style=\"color: #00d7ff; text-decoration-color: #00d7ff\">None</span>, <span style=\"color: #00af00; text-decoration-color: #00af00\">1</span>)         │          <span style=\"color: #00af00; text-decoration-color: #00af00\">0</span> │ wide_logit[<span style=\"color: #00af00; text-decoration-color: #00af00\">0</span>][<span style=\"color: #00af00; text-decoration-color: #00af00\">0</span>], │\n",
       "│                     │                   │            │ deep_logit[<span style=\"color: #00af00; text-decoration-color: #00af00\">0</span>][<span style=\"color: #00af00; text-decoration-color: #00af00\">0</span>]  │\n",
       "├─────────────────────┼───────────────────┼────────────┼───────────────────┤\n",
       "│ prob (<span style=\"color: #0087ff; text-decoration-color: #0087ff\">Activation</span>)   │ (<span style=\"color: #00d7ff; text-decoration-color: #00d7ff\">None</span>, <span style=\"color: #00af00; text-decoration-color: #00af00\">1</span>)         │          <span style=\"color: #00af00; text-decoration-color: #00af00\">0</span> │ sum_logits[<span style=\"color: #00af00; text-decoration-color: #00af00\">0</span>][<span style=\"color: #00af00; text-decoration-color: #00af00\">0</span>]  │\n",
       "└─────────────────────┴───────────────────┴────────────┴───────────────────┘\n",
       "</pre>\n"
      ],
      "text/plain": [
       "┏━━━━━━━━━━━━━━━━━━━━━┳━━━━━━━━━━━━━━━━━━━┳━━━━━━━━━━━━┳━━━━━━━━━━━━━━━━━━━┓\n",
       "┃\u001b[1m \u001b[0m\u001b[1mLayer (type)       \u001b[0m\u001b[1m \u001b[0m┃\u001b[1m \u001b[0m\u001b[1mOutput Shape     \u001b[0m\u001b[1m \u001b[0m┃\u001b[1m \u001b[0m\u001b[1m   Param #\u001b[0m\u001b[1m \u001b[0m┃\u001b[1m \u001b[0m\u001b[1mConnected to     \u001b[0m\u001b[1m \u001b[0m┃\n",
       "┡━━━━━━━━━━━━━━━━━━━━━╇━━━━━━━━━━━━━━━━━━━╇━━━━━━━━━━━━╇━━━━━━━━━━━━━━━━━━━┩\n",
       "│ deep_input          │ (\u001b[38;5;45mNone\u001b[0m, \u001b[38;5;34m116\u001b[0m)       │          \u001b[38;5;34m0\u001b[0m │ -                 │\n",
       "│ (\u001b[38;5;33mInputLayer\u001b[0m)        │                   │            │                   │\n",
       "├─────────────────────┼───────────────────┼────────────┼───────────────────┤\n",
       "│ dense_4 (\u001b[38;5;33mDense\u001b[0m)     │ (\u001b[38;5;45mNone\u001b[0m, \u001b[38;5;34m128\u001b[0m)       │     \u001b[38;5;34m14,976\u001b[0m │ deep_input[\u001b[38;5;34m0\u001b[0m][\u001b[38;5;34m0\u001b[0m]  │\n",
       "├─────────────────────┼───────────────────┼────────────┼───────────────────┤\n",
       "│ dropout_3 (\u001b[38;5;33mDropout\u001b[0m) │ (\u001b[38;5;45mNone\u001b[0m, \u001b[38;5;34m128\u001b[0m)       │          \u001b[38;5;34m0\u001b[0m │ dense_4[\u001b[38;5;34m0\u001b[0m][\u001b[38;5;34m0\u001b[0m]     │\n",
       "├─────────────────────┼───────────────────┼────────────┼───────────────────┤\n",
       "│ dense_5 (\u001b[38;5;33mDense\u001b[0m)     │ (\u001b[38;5;45mNone\u001b[0m, \u001b[38;5;34m64\u001b[0m)        │      \u001b[38;5;34m8,256\u001b[0m │ dropout_3[\u001b[38;5;34m0\u001b[0m][\u001b[38;5;34m0\u001b[0m]   │\n",
       "├─────────────────────┼───────────────────┼────────────┼───────────────────┤\n",
       "│ wide_input          │ (\u001b[38;5;45mNone\u001b[0m, \u001b[38;5;34m116\u001b[0m)       │          \u001b[38;5;34m0\u001b[0m │ -                 │\n",
       "│ (\u001b[38;5;33mInputLayer\u001b[0m)        │                   │            │                   │\n",
       "├─────────────────────┼───────────────────┼────────────┼───────────────────┤\n",
       "│ dropout_4 (\u001b[38;5;33mDropout\u001b[0m) │ (\u001b[38;5;45mNone\u001b[0m, \u001b[38;5;34m64\u001b[0m)        │          \u001b[38;5;34m0\u001b[0m │ dense_5[\u001b[38;5;34m0\u001b[0m][\u001b[38;5;34m0\u001b[0m]     │\n",
       "├─────────────────────┼───────────────────┼────────────┼───────────────────┤\n",
       "│ wide_logit (\u001b[38;5;33mDense\u001b[0m)  │ (\u001b[38;5;45mNone\u001b[0m, \u001b[38;5;34m1\u001b[0m)         │        \u001b[38;5;34m117\u001b[0m │ wide_input[\u001b[38;5;34m0\u001b[0m][\u001b[38;5;34m0\u001b[0m]  │\n",
       "├─────────────────────┼───────────────────┼────────────┼───────────────────┤\n",
       "│ deep_logit (\u001b[38;5;33mDense\u001b[0m)  │ (\u001b[38;5;45mNone\u001b[0m, \u001b[38;5;34m1\u001b[0m)         │         \u001b[38;5;34m65\u001b[0m │ dropout_4[\u001b[38;5;34m0\u001b[0m][\u001b[38;5;34m0\u001b[0m]   │\n",
       "├─────────────────────┼───────────────────┼────────────┼───────────────────┤\n",
       "│ sum_logits (\u001b[38;5;33mAdd\u001b[0m)    │ (\u001b[38;5;45mNone\u001b[0m, \u001b[38;5;34m1\u001b[0m)         │          \u001b[38;5;34m0\u001b[0m │ wide_logit[\u001b[38;5;34m0\u001b[0m][\u001b[38;5;34m0\u001b[0m], │\n",
       "│                     │                   │            │ deep_logit[\u001b[38;5;34m0\u001b[0m][\u001b[38;5;34m0\u001b[0m]  │\n",
       "├─────────────────────┼───────────────────┼────────────┼───────────────────┤\n",
       "│ prob (\u001b[38;5;33mActivation\u001b[0m)   │ (\u001b[38;5;45mNone\u001b[0m, \u001b[38;5;34m1\u001b[0m)         │          \u001b[38;5;34m0\u001b[0m │ sum_logits[\u001b[38;5;34m0\u001b[0m][\u001b[38;5;34m0\u001b[0m]  │\n",
       "└─────────────────────┴───────────────────┴────────────┴───────────────────┘\n"
      ]
     },
     "metadata": {},
     "output_type": "display_data"
    },
    {
     "data": {
      "text/html": [
       "<pre style=\"white-space:pre;overflow-x:auto;line-height:normal;font-family:Menlo,'DejaVu Sans Mono',consolas,'Courier New',monospace\"><span style=\"font-weight: bold\"> Total params: </span><span style=\"color: #00af00; text-decoration-color: #00af00\">23,414</span> (91.46 KB)\n",
       "</pre>\n"
      ],
      "text/plain": [
       "\u001b[1m Total params: \u001b[0m\u001b[38;5;34m23,414\u001b[0m (91.46 KB)\n"
      ]
     },
     "metadata": {},
     "output_type": "display_data"
    },
    {
     "data": {
      "text/html": [
       "<pre style=\"white-space:pre;overflow-x:auto;line-height:normal;font-family:Menlo,'DejaVu Sans Mono',consolas,'Courier New',monospace\"><span style=\"font-weight: bold\"> Trainable params: </span><span style=\"color: #00af00; text-decoration-color: #00af00\">23,414</span> (91.46 KB)\n",
       "</pre>\n"
      ],
      "text/plain": [
       "\u001b[1m Trainable params: \u001b[0m\u001b[38;5;34m23,414\u001b[0m (91.46 KB)\n"
      ]
     },
     "metadata": {},
     "output_type": "display_data"
    },
    {
     "data": {
      "text/html": [
       "<pre style=\"white-space:pre;overflow-x:auto;line-height:normal;font-family:Menlo,'DejaVu Sans Mono',consolas,'Courier New',monospace\"><span style=\"font-weight: bold\"> Non-trainable params: </span><span style=\"color: #00af00; text-decoration-color: #00af00\">0</span> (0.00 B)\n",
       "</pre>\n"
      ],
      "text/plain": [
       "\u001b[1m Non-trainable params: \u001b[0m\u001b[38;5;34m0\u001b[0m (0.00 B)\n"
      ]
     },
     "metadata": {},
     "output_type": "display_data"
    }
   ],
   "source": [
    "# Use Tensorflow\n",
    "import tensorflow as tf\n",
    "from tensorflow.keras import Input, Model\n",
    "from tensorflow.keras.layers import Dense, Dropout, Activation, Add\n",
    "\n",
    "# Define 2 inputs\n",
    "wide_in = Input(shape=(X_train_wide.shape[1],), name=\"wide_input\")\n",
    "deep_in = Input(shape=(X_train_deep.shape[1],), name=\"deep_input\")\n",
    "\n",
    "# Wide branch： liner logit\n",
    "wide_logit = Dense(1, activation=None, name=\"wide_logit\")(wide_in)\n",
    "\n",
    "# Deep Branch: MLP\n",
    "x = Dense(128, activation=\"relu\")(deep_in)\n",
    "x = Dropout(0.2)(x)\n",
    "x = Dense(64, activation=\"relu\")(x)\n",
    "x = Dropout(0.2)(x)\n",
    "deep_logit = Dense(1, activation=None, name=\"deep_logit\")(x)\n",
    "\n",
    "# Add logits, apply signmoid to get probabilities\n",
    "sum_logit = Add(name=\"sum_logits\")([wide_logit, deep_logit])\n",
    "prob = Activation(\"sigmoid\", name=\"prob\")(sum_logit)\n",
    "\n",
    "wd_model = Model(inputs=[wide_in, deep_in], outputs=prob, name=\"WideAndDeep\")\n",
    "\n",
    "# Complie model\n",
    "wd_model.compile(\n",
    "    optimizer=\"adam\",\n",
    "    loss=\"binary_crossentropy\",\n",
    "    metrics=[\n",
    "        tf.keras.metrics.AUC(name=\"roc_auc\", curve=\"ROC\"),\n",
    "        tf.keras.metrics.AUC(name=\"pr_auc\", curve=\"PR\"),\n",
    "        tf.keras.metrics.Precision(name=\"precision\"),\n",
    "        tf.keras.metrics.Recall(name=\"recall\"),\n",
    "        tf.keras.metrics.BinaryAccuracy(name=\"accuracy\")\n",
    "    ],\n",
    ")\n",
    "\n",
    "\n",
    "# get model summary\n",
    "wd_model.summary()\n"
   ]
  },
  {
   "cell_type": "markdown",
   "id": "321112ea-290c-469e-bf05-d7846f04ca43",
   "metadata": {},
   "source": [
    "Fit the model to the training data for at least 25 epochs. Also add in the validation data for later plotting. add in a batch_size of 256."
   ]
  },
  {
   "cell_type": "code",
   "execution_count": 84,
   "id": "d6af2a11-b651-4f76-a72b-b61aad40749d",
   "metadata": {},
   "outputs": [
    {
     "name": "stdout",
     "output_type": "stream",
     "text": [
      "Epoch 1/25\n"
     ]
    },
    {
     "name": "stderr",
     "output_type": "stream",
     "text": [
      "2025-09-27 16:14:37.061843: I tensorflow/core/grappler/optimizers/custom_graph_optimizer_registry.cc:117] Plugin optimizer for device_type GPU is enabled.\n"
     ]
    },
    {
     "name": "stdout",
     "output_type": "stream",
     "text": [
      "\u001b[1m364/364\u001b[0m \u001b[32m━━━━━━━━━━━━━━━━━━━━\u001b[0m\u001b[37m\u001b[0m \u001b[1m14s\u001b[0m 33ms/step - accuracy: 0.5462 - loss: 0.6954 - pr_auc: 0.8541 - precision: 0.8505 - recall: 0.5280 - roc_auc: 0.6042 - val_accuracy: 0.6365 - val_loss: 0.6261 - val_pr_auc: 0.8966 - val_precision: 0.8809 - val_recall: 0.6332 - val_roc_auc: 0.6968\n",
      "Epoch 2/25\n",
      "\u001b[1m364/364\u001b[0m \u001b[32m━━━━━━━━━━━━━━━━━━━━\u001b[0m\u001b[37m\u001b[0m \u001b[1m10s\u001b[0m 26ms/step - accuracy: 0.6086 - loss: 0.6543 - pr_auc: 0.8840 - precision: 0.8733 - recall: 0.5993 - roc_auc: 0.6661 - val_accuracy: 0.5963 - val_loss: 0.6529 - val_pr_auc: 0.8986 - val_precision: 0.8899 - val_recall: 0.5679 - val_roc_auc: 0.7003\n",
      "Epoch 3/25\n",
      "\u001b[1m364/364\u001b[0m \u001b[32m━━━━━━━━━━━━━━━━━━━━\u001b[0m\u001b[37m\u001b[0m \u001b[1m10s\u001b[0m 27ms/step - accuracy: 0.6196 - loss: 0.6422 - pr_auc: 0.8906 - precision: 0.8779 - recall: 0.6124 - roc_auc: 0.6785 - val_accuracy: 0.6120 - val_loss: 0.6419 - val_pr_auc: 0.8991 - val_precision: 0.8865 - val_recall: 0.5930 - val_roc_auc: 0.7011\n",
      "Epoch 4/25\n",
      "\u001b[1m364/364\u001b[0m \u001b[32m━━━━━━━━━━━━━━━━━━━━\u001b[0m\u001b[37m\u001b[0m \u001b[1m10s\u001b[0m 26ms/step - accuracy: 0.6255 - loss: 0.6337 - pr_auc: 0.8967 - precision: 0.8827 - recall: 0.6174 - roc_auc: 0.6904 - val_accuracy: 0.6200 - val_loss: 0.6304 - val_pr_auc: 0.8997 - val_precision: 0.8845 - val_recall: 0.6063 - val_roc_auc: 0.7027\n",
      "Epoch 5/25\n",
      "\u001b[1m364/364\u001b[0m \u001b[32m━━━━━━━━━━━━━━━━━━━━\u001b[0m\u001b[37m\u001b[0m \u001b[1m10s\u001b[0m 27ms/step - accuracy: 0.6271 - loss: 0.6365 - pr_auc: 0.8950 - precision: 0.8827 - recall: 0.6172 - roc_auc: 0.6923 - val_accuracy: 0.6277 - val_loss: 0.6292 - val_pr_auc: 0.9001 - val_precision: 0.8849 - val_recall: 0.6169 - val_roc_auc: 0.7034\n",
      "Epoch 6/25\n",
      "\u001b[1m364/364\u001b[0m \u001b[32m━━━━━━━━━━━━━━━━━━━━\u001b[0m\u001b[37m\u001b[0m \u001b[1m10s\u001b[0m 27ms/step - accuracy: 0.6279 - loss: 0.6330 - pr_auc: 0.8971 - precision: 0.8834 - recall: 0.6197 - roc_auc: 0.6922 - val_accuracy: 0.6564 - val_loss: 0.6074 - val_pr_auc: 0.9002 - val_precision: 0.8769 - val_recall: 0.6659 - val_roc_auc: 0.7033\n",
      "Epoch 7/25\n",
      "\u001b[1m364/364\u001b[0m \u001b[32m━━━━━━━━━━━━━━━━━━━━\u001b[0m\u001b[37m\u001b[0m \u001b[1m10s\u001b[0m 27ms/step - accuracy: 0.6395 - loss: 0.6293 - pr_auc: 0.8990 - precision: 0.8842 - recall: 0.6365 - roc_auc: 0.6958 - val_accuracy: 0.6045 - val_loss: 0.6464 - val_pr_auc: 0.9005 - val_precision: 0.8899 - val_recall: 0.5795 - val_roc_auc: 0.7034\n",
      "Epoch 8/25\n",
      "\u001b[1m364/364\u001b[0m \u001b[32m━━━━━━━━━━━━━━━━━━━━\u001b[0m\u001b[37m\u001b[0m \u001b[1m10s\u001b[0m 27ms/step - accuracy: 0.6272 - loss: 0.6321 - pr_auc: 0.8980 - precision: 0.8820 - recall: 0.6202 - roc_auc: 0.6914 - val_accuracy: 0.6298 - val_loss: 0.6237 - val_pr_auc: 0.9003 - val_precision: 0.8845 - val_recall: 0.6203 - val_roc_auc: 0.7033\n",
      "Epoch 9/25\n",
      "\u001b[1m364/364\u001b[0m \u001b[32m━━━━━━━━━━━━━━━━━━━━\u001b[0m\u001b[37m\u001b[0m \u001b[1m10s\u001b[0m 26ms/step - accuracy: 0.6343 - loss: 0.6319 - pr_auc: 0.8983 - precision: 0.8810 - recall: 0.6304 - roc_auc: 0.6947 - val_accuracy: 0.6308 - val_loss: 0.6232 - val_pr_auc: 0.9006 - val_precision: 0.8836 - val_recall: 0.6225 - val_roc_auc: 0.7039\n",
      "Epoch 10/25\n",
      "\u001b[1m364/364\u001b[0m \u001b[32m━━━━━━━━━━━━━━━━━━━━\u001b[0m\u001b[37m\u001b[0m \u001b[1m10s\u001b[0m 27ms/step - accuracy: 0.6387 - loss: 0.6315 - pr_auc: 0.8974 - precision: 0.8835 - recall: 0.6336 - roc_auc: 0.6995 - val_accuracy: 0.6277 - val_loss: 0.6255 - val_pr_auc: 0.9005 - val_precision: 0.8854 - val_recall: 0.6165 - val_roc_auc: 0.7038\n",
      "Epoch 11/25\n",
      "\u001b[1m364/364\u001b[0m \u001b[32m━━━━━━━━━━━━━━━━━━━━\u001b[0m\u001b[37m\u001b[0m \u001b[1m12s\u001b[0m 32ms/step - accuracy: 0.6334 - loss: 0.6333 - pr_auc: 0.8974 - precision: 0.8839 - recall: 0.6252 - roc_auc: 0.6981 - val_accuracy: 0.6417 - val_loss: 0.6222 - val_pr_auc: 0.9008 - val_precision: 0.8820 - val_recall: 0.6397 - val_roc_auc: 0.7055\n",
      "Epoch 12/25\n",
      "\u001b[1m364/364\u001b[0m \u001b[32m━━━━━━━━━━━━━━━━━━━━\u001b[0m\u001b[37m\u001b[0m \u001b[1m12s\u001b[0m 32ms/step - accuracy: 0.6365 - loss: 0.6290 - pr_auc: 0.8997 - precision: 0.8850 - recall: 0.6296 - roc_auc: 0.7010 - val_accuracy: 0.6173 - val_loss: 0.6408 - val_pr_auc: 0.9009 - val_precision: 0.8867 - val_recall: 0.6005 - val_roc_auc: 0.7054\n",
      "Epoch 13/25\n",
      "\u001b[1m364/364\u001b[0m \u001b[32m━━━━━━━━━━━━━━━━━━━━\u001b[0m\u001b[37m\u001b[0m \u001b[1m10s\u001b[0m 26ms/step - accuracy: 0.6243 - loss: 0.6338 - pr_auc: 0.8972 - precision: 0.8832 - recall: 0.6132 - roc_auc: 0.6944 - val_accuracy: 0.6277 - val_loss: 0.6357 - val_pr_auc: 0.9007 - val_precision: 0.8847 - val_recall: 0.6170 - val_roc_auc: 0.7052\n",
      "Epoch 14/25\n",
      "\u001b[1m364/364\u001b[0m \u001b[32m━━━━━━━━━━━━━━━━━━━━\u001b[0m\u001b[37m\u001b[0m \u001b[1m10s\u001b[0m 26ms/step - accuracy: 0.6362 - loss: 0.6312 - pr_auc: 0.8971 - precision: 0.8825 - recall: 0.6324 - roc_auc: 0.6944 - val_accuracy: 0.6331 - val_loss: 0.6255 - val_pr_auc: 0.9008 - val_precision: 0.8836 - val_recall: 0.6258 - val_roc_auc: 0.7053\n",
      "Epoch 15/25\n",
      "\u001b[1m364/364\u001b[0m \u001b[32m━━━━━━━━━━━━━━━━━━━━\u001b[0m\u001b[37m\u001b[0m \u001b[1m10s\u001b[0m 27ms/step - accuracy: 0.6419 - loss: 0.6313 - pr_auc: 0.8976 - precision: 0.8823 - recall: 0.6399 - roc_auc: 0.6977 - val_accuracy: 0.6213 - val_loss: 0.6310 - val_pr_auc: 0.9001 - val_precision: 0.8878 - val_recall: 0.6052 - val_roc_auc: 0.7027\n",
      "Epoch 16/25\n",
      "\u001b[1m364/364\u001b[0m \u001b[32m━━━━━━━━━━━━━━━━━━━━\u001b[0m\u001b[37m\u001b[0m \u001b[1m10s\u001b[0m 26ms/step - accuracy: 0.6324 - loss: 0.6319 - pr_auc: 0.8978 - precision: 0.8852 - recall: 0.6236 - roc_auc: 0.6971 - val_accuracy: 0.6472 - val_loss: 0.6260 - val_pr_auc: 0.9000 - val_precision: 0.8820 - val_recall: 0.6475 - val_roc_auc: 0.7045\n",
      "Epoch 17/25\n",
      "\u001b[1m364/364\u001b[0m \u001b[32m━━━━━━━━━━━━━━━━━━━━\u001b[0m\u001b[37m\u001b[0m \u001b[1m9s\u001b[0m 26ms/step - accuracy: 0.6355 - loss: 0.6329 - pr_auc: 0.8977 - precision: 0.8827 - recall: 0.6295 - roc_auc: 0.6977 - val_accuracy: 0.6409 - val_loss: 0.6269 - val_pr_auc: 0.9007 - val_precision: 0.8827 - val_recall: 0.6379 - val_roc_auc: 0.7055\n",
      "Epoch 18/25\n",
      "\u001b[1m364/364\u001b[0m \u001b[32m━━━━━━━━━━━━━━━━━━━━\u001b[0m\u001b[37m\u001b[0m \u001b[1m10s\u001b[0m 26ms/step - accuracy: 0.6390 - loss: 0.6325 - pr_auc: 0.8970 - precision: 0.8823 - recall: 0.6360 - roc_auc: 0.6962 - val_accuracy: 0.6185 - val_loss: 0.6405 - val_pr_auc: 0.9009 - val_precision: 0.8866 - val_recall: 0.6024 - val_roc_auc: 0.7055\n",
      "Epoch 19/25\n",
      "\u001b[1m364/364\u001b[0m \u001b[32m━━━━━━━━━━━━━━━━━━━━\u001b[0m\u001b[37m\u001b[0m \u001b[1m10s\u001b[0m 27ms/step - accuracy: 0.6388 - loss: 0.6352 - pr_auc: 0.8950 - precision: 0.8809 - recall: 0.6368 - roc_auc: 0.6930 - val_accuracy: 0.6706 - val_loss: 0.6123 - val_pr_auc: 0.8995 - val_precision: 0.8749 - val_recall: 0.6885 - val_roc_auc: 0.7031\n",
      "Epoch 20/25\n",
      "\u001b[1m364/364\u001b[0m \u001b[32m━━━━━━━━━━━━━━━━━━━━\u001b[0m\u001b[37m\u001b[0m \u001b[1m11s\u001b[0m 30ms/step - accuracy: 0.6379 - loss: 0.6356 - pr_auc: 0.8958 - precision: 0.8794 - recall: 0.6356 - roc_auc: 0.6959 - val_accuracy: 0.5730 - val_loss: 0.6969 - val_pr_auc: 0.8969 - val_precision: 0.8922 - val_recall: 0.5330 - val_roc_auc: 0.6920\n",
      "Epoch 21/25\n",
      "\u001b[1m364/364\u001b[0m \u001b[32m━━━━━━━━━━━━━━━━━━━━\u001b[0m\u001b[37m\u001b[0m \u001b[1m10s\u001b[0m 27ms/step - accuracy: 0.6374 - loss: 0.6347 - pr_auc: 0.8965 - precision: 0.8822 - recall: 0.6317 - roc_auc: 0.6980 - val_accuracy: 0.6303 - val_loss: 0.6264 - val_pr_auc: 0.9006 - val_precision: 0.8859 - val_recall: 0.6197 - val_roc_auc: 0.7045\n",
      "Epoch 22/25\n",
      "\u001b[1m364/364\u001b[0m \u001b[32m━━━━━━━━━━━━━━━━━━━━\u001b[0m\u001b[37m\u001b[0m \u001b[1m10s\u001b[0m 28ms/step - accuracy: 0.6400 - loss: 0.6360 - pr_auc: 0.8957 - precision: 0.8815 - recall: 0.6378 - roc_auc: 0.6937 - val_accuracy: 0.6401 - val_loss: 0.6297 - val_pr_auc: 0.9003 - val_precision: 0.8820 - val_recall: 0.6374 - val_roc_auc: 0.7046\n",
      "Epoch 23/25\n",
      "\u001b[1m364/364\u001b[0m \u001b[32m━━━━━━━━━━━━━━━━━━━━\u001b[0m\u001b[37m\u001b[0m \u001b[1m10s\u001b[0m 27ms/step - accuracy: 0.6294 - loss: 0.6375 - pr_auc: 0.8945 - precision: 0.8808 - recall: 0.6224 - roc_auc: 0.6922 - val_accuracy: 0.6267 - val_loss: 0.6299 - val_pr_auc: 0.9008 - val_precision: 0.8863 - val_recall: 0.6142 - val_roc_auc: 0.7052\n",
      "Epoch 24/25\n",
      "\u001b[1m364/364\u001b[0m \u001b[32m━━━━━━━━━━━━━━━━━━━━\u001b[0m\u001b[37m\u001b[0m \u001b[1m11s\u001b[0m 30ms/step - accuracy: 0.6351 - loss: 0.6346 - pr_auc: 0.8967 - precision: 0.8814 - recall: 0.6302 - roc_auc: 0.6953 - val_accuracy: 0.5726 - val_loss: 0.6888 - val_pr_auc: 0.8973 - val_precision: 0.8928 - val_recall: 0.5320 - val_roc_auc: 0.6931\n",
      "Epoch 25/25\n",
      "\u001b[1m364/364\u001b[0m \u001b[32m━━━━━━━━━━━━━━━━━━━━\u001b[0m\u001b[37m\u001b[0m \u001b[1m10s\u001b[0m 29ms/step - accuracy: 0.6383 - loss: 0.6373 - pr_auc: 0.8952 - precision: 0.8822 - recall: 0.6347 - roc_auc: 0.6914 - val_accuracy: 0.6389 - val_loss: 0.6272 - val_pr_auc: 0.9005 - val_precision: 0.8831 - val_recall: 0.6346 - val_roc_auc: 0.7053\n"
     ]
    },
    {
     "data": {
      "text/plain": [
       "<keras.src.callbacks.history.History at 0x32e2eefa0>"
      ]
     },
     "execution_count": 84,
     "metadata": {},
     "output_type": "execute_result"
    }
   ],
   "source": [
    "from sklearn.utils.class_weight import compute_class_weight\n",
    "\n",
    "classes = np.unique(y_train)\n",
    "cw = compute_class_weight(class_weight='balanced', classes=classes, y=y_train)\n",
    "class_weight_dict = {int (c): w for c, w in zip(classes, cw)}\n",
    "\n",
    "model.fit(\n",
    "    x=X_train_scaled_mm,\n",
    "    y=y_train,\n",
    "    epochs=25,\n",
    "    batch_size=256,\n",
    "    validation_data=(X_test_scaled_mm, y_test),\n",
    "    class_weight = class_weight_dict\n",
    ")\n"
   ]
  },
  {
   "cell_type": "code",
   "execution_count": 85,
   "id": "d323d797",
   "metadata": {},
   "outputs": [
    {
     "name": "stdout",
     "output_type": "stream",
     "text": [
      "Epoch 1/25\n",
      "\u001b[1m364/364\u001b[0m \u001b[32m━━━━━━━━━━━━━━━━━━━━\u001b[0m\u001b[37m\u001b[0m \u001b[1m13s\u001b[0m 31ms/step - accuracy: 0.2406 - loss: 7263.8193 - pr_auc: 0.7974 - precision: 0.3868 - recall: 0.0769 - roc_auc: 0.4917 - val_accuracy: 0.5996 - val_loss: 57.3204 - val_pr_auc: 0.8033 - val_precision: 0.8029 - val_recall: 0.6649 - val_roc_auc: 0.4993\n",
      "Epoch 2/25\n",
      "\u001b[1m364/364\u001b[0m \u001b[32m━━━━━━━━━━━━━━━━━━━━\u001b[0m\u001b[37m\u001b[0m \u001b[1m10s\u001b[0m 27ms/step - accuracy: 0.5709 - loss: 35.4397 - pr_auc: 0.8109 - precision: 0.8130 - recall: 0.6063 - roc_auc: 0.5162 - val_accuracy: 0.4602 - val_loss: 8.6728 - val_pr_auc: 0.8600 - val_precision: 0.8875 - val_recall: 0.3759 - val_roc_auc: 0.6050\n",
      "Epoch 3/25\n",
      "\u001b[1m364/364\u001b[0m \u001b[32m━━━━━━━━━━━━━━━━━━━━\u001b[0m\u001b[37m\u001b[0m \u001b[1m10s\u001b[0m 26ms/step - accuracy: 0.5399 - loss: 9.2491 - pr_auc: 0.8293 - precision: 0.8333 - recall: 0.5362 - roc_auc: 0.5536 - val_accuracy: 0.5276 - val_loss: 4.8113 - val_pr_auc: 0.8705 - val_precision: 0.8849 - val_recall: 0.4737 - val_roc_auc: 0.6351\n",
      "Epoch 4/25\n",
      "\u001b[1m364/364\u001b[0m \u001b[32m━━━━━━━━━━━━━━━━━━━━\u001b[0m\u001b[37m\u001b[0m \u001b[1m10s\u001b[0m 28ms/step - accuracy: 0.5544 - loss: 5.6166 - pr_auc: 0.8372 - precision: 0.8405 - recall: 0.5520 - roc_auc: 0.5699 - val_accuracy: 0.4526 - val_loss: 4.0357 - val_pr_auc: 0.8749 - val_precision: 0.9038 - val_recall: 0.3568 - val_roc_auc: 0.6348\n",
      "Epoch 5/25\n",
      "\u001b[1m364/364\u001b[0m \u001b[32m━━━━━━━━━━━━━━━━━━━━\u001b[0m\u001b[37m\u001b[0m \u001b[1m10s\u001b[0m 29ms/step - accuracy: 0.5547 - loss: 4.3911 - pr_auc: 0.8386 - precision: 0.8405 - recall: 0.5504 - roc_auc: 0.5754 - val_accuracy: 0.3988 - val_loss: 3.7506 - val_pr_auc: 0.8810 - val_precision: 0.9194 - val_recall: 0.2760 - val_roc_auc: 0.6471\n",
      "Epoch 6/25\n",
      "\u001b[1m364/364\u001b[0m \u001b[32m━━━━━━━━━━━━━━━━━━━━\u001b[0m\u001b[37m\u001b[0m \u001b[1m10s\u001b[0m 26ms/step - accuracy: 0.5518 - loss: 3.7207 - pr_auc: 0.8396 - precision: 0.8397 - recall: 0.5475 - roc_auc: 0.5781 - val_accuracy: 0.7296 - val_loss: 1.1447 - val_pr_auc: 0.8641 - val_precision: 0.8410 - val_recall: 0.8182 - val_roc_auc: 0.6448\n",
      "Epoch 7/25\n",
      "\u001b[1m364/364\u001b[0m \u001b[32m━━━━━━━━━━━━━━━━━━━━\u001b[0m\u001b[37m\u001b[0m \u001b[1m10s\u001b[0m 26ms/step - accuracy: 0.5518 - loss: 3.4968 - pr_auc: 0.8372 - precision: 0.8348 - recall: 0.5522 - roc_auc: 0.5694 - val_accuracy: 0.4085 - val_loss: 2.3520 - val_pr_auc: 0.8786 - val_precision: 0.9053 - val_recall: 0.2948 - val_roc_auc: 0.6462\n",
      "Epoch 8/25\n",
      "\u001b[1m364/364\u001b[0m \u001b[32m━━━━━━━━━━━━━━━━━━━━\u001b[0m\u001b[37m\u001b[0m \u001b[1m9s\u001b[0m 26ms/step - accuracy: 0.5583 - loss: 3.2616 - pr_auc: 0.8387 - precision: 0.8396 - recall: 0.5571 - roc_auc: 0.5756 - val_accuracy: 0.3788 - val_loss: 2.4749 - val_pr_auc: 0.8794 - val_precision: 0.9098 - val_recall: 0.2520 - val_roc_auc: 0.6478\n",
      "Epoch 9/25\n",
      "\u001b[1m364/364\u001b[0m \u001b[32m━━━━━━━━━━━━━━━━━━━━\u001b[0m\u001b[37m\u001b[0m \u001b[1m10s\u001b[0m 28ms/step - accuracy: 0.5497 - loss: 3.3347 - pr_auc: 0.8369 - precision: 0.8344 - recall: 0.5496 - roc_auc: 0.5689 - val_accuracy: 0.3591 - val_loss: 3.2150 - val_pr_auc: 0.8591 - val_precision: 0.8920 - val_recall: 0.2303 - val_roc_auc: 0.5968\n",
      "Epoch 10/25\n",
      "\u001b[1m364/364\u001b[0m \u001b[32m━━━━━━━━━━━━━━━━━━━━\u001b[0m\u001b[37m\u001b[0m \u001b[1m10s\u001b[0m 28ms/step - accuracy: 0.5607 - loss: 2.7750 - pr_auc: 0.8441 - precision: 0.8403 - recall: 0.5602 - roc_auc: 0.5846 - val_accuracy: 0.7747 - val_loss: 1.1738 - val_pr_auc: 0.8554 - val_precision: 0.8242 - val_recall: 0.9149 - val_roc_auc: 0.6307\n",
      "Epoch 11/25\n",
      "\u001b[1m364/364\u001b[0m \u001b[32m━━━━━━━━━━━━━━━━━━━━\u001b[0m\u001b[37m\u001b[0m \u001b[1m11s\u001b[0m 29ms/step - accuracy: 0.5687 - loss: 2.8151 - pr_auc: 0.8449 - precision: 0.8428 - recall: 0.5702 - roc_auc: 0.5870 - val_accuracy: 0.2323 - val_loss: 6.2451 - val_pr_auc: 0.8635 - val_precision: 0.9533 - val_recall: 0.0469 - val_roc_auc: 0.5942\n",
      "Epoch 12/25\n",
      "\u001b[1m364/364\u001b[0m \u001b[32m━━━━━━━━━━━━━━━━━━━━\u001b[0m\u001b[37m\u001b[0m \u001b[1m10s\u001b[0m 27ms/step - accuracy: 0.5675 - loss: 2.3520 - pr_auc: 0.8485 - precision: 0.8463 - recall: 0.5650 - roc_auc: 0.5948 - val_accuracy: 0.2773 - val_loss: 6.4975 - val_pr_auc: 0.8669 - val_precision: 0.9360 - val_recall: 0.1080 - val_roc_auc: 0.6037\n",
      "Epoch 13/25\n",
      "\u001b[1m364/364\u001b[0m \u001b[32m━━━━━━━━━━━━━━━━━━━━\u001b[0m\u001b[37m\u001b[0m \u001b[1m11s\u001b[0m 30ms/step - accuracy: 0.5555 - loss: 2.9351 - pr_auc: 0.8407 - precision: 0.8400 - recall: 0.5529 - roc_auc: 0.5793 - val_accuracy: 0.7946 - val_loss: 2.5464 - val_pr_auc: 0.8334 - val_precision: 0.8154 - val_recall: 0.9621 - val_roc_auc: 0.5851\n",
      "Epoch 14/25\n",
      "\u001b[1m364/364\u001b[0m \u001b[32m━━━━━━━━━━━━━━━━━━━━\u001b[0m\u001b[37m\u001b[0m \u001b[1m11s\u001b[0m 31ms/step - accuracy: 0.5581 - loss: 3.8612 - pr_auc: 0.8375 - precision: 0.8358 - recall: 0.5614 - roc_auc: 0.5697 - val_accuracy: 0.7953 - val_loss: 1.4035 - val_pr_auc: 0.8510 - val_precision: 0.8160 - val_recall: 0.9622 - val_roc_auc: 0.6263\n",
      "Epoch 15/25\n",
      "\u001b[1m364/364\u001b[0m \u001b[32m━━━━━━━━━━━━━━━━━━━━\u001b[0m\u001b[37m\u001b[0m \u001b[1m10s\u001b[0m 27ms/step - accuracy: 0.5722 - loss: 2.7024 - pr_auc: 0.8474 - precision: 0.8450 - recall: 0.5734 - roc_auc: 0.5925 - val_accuracy: 0.6918 - val_loss: 0.7273 - val_pr_auc: 0.8948 - val_precision: 0.8650 - val_recall: 0.7305 - val_roc_auc: 0.6950\n",
      "Epoch 16/25\n",
      "\u001b[1m364/364\u001b[0m \u001b[32m━━━━━━━━━━━━━━━━━━━━\u001b[0m\u001b[37m\u001b[0m \u001b[1m10s\u001b[0m 27ms/step - accuracy: 0.5603 - loss: 3.2709 - pr_auc: 0.8389 - precision: 0.8392 - recall: 0.5602 - roc_auc: 0.5777 - val_accuracy: 0.5952 - val_loss: 1.3640 - val_pr_auc: 0.8868 - val_precision: 0.8840 - val_recall: 0.5712 - val_roc_auc: 0.6831\n",
      "Epoch 17/25\n",
      "\u001b[1m364/364\u001b[0m \u001b[32m━━━━━━━━━━━━━━━━━━━━\u001b[0m\u001b[37m\u001b[0m \u001b[1m10s\u001b[0m 27ms/step - accuracy: 0.5517 - loss: 3.2056 - pr_auc: 0.8370 - precision: 0.8362 - recall: 0.5492 - roc_auc: 0.5740 - val_accuracy: 0.2386 - val_loss: 4.8902 - val_pr_auc: 0.8723 - val_precision: 0.9562 - val_recall: 0.0550 - val_roc_auc: 0.6203\n",
      "Epoch 18/25\n",
      "\u001b[1m364/364\u001b[0m \u001b[32m━━━━━━━━━━━━━━━━━━━━\u001b[0m\u001b[37m\u001b[0m \u001b[1m10s\u001b[0m 27ms/step - accuracy: 0.5578 - loss: 2.7515 - pr_auc: 0.8415 - precision: 0.8396 - recall: 0.5571 - roc_auc: 0.5797 - val_accuracy: 0.6221 - val_loss: 1.0308 - val_pr_auc: 0.8779 - val_precision: 0.8613 - val_recall: 0.6313 - val_roc_auc: 0.6490\n",
      "Epoch 19/25\n",
      "\u001b[1m364/364\u001b[0m \u001b[32m━━━━━━━━━━━━━━━━━━━━\u001b[0m\u001b[37m\u001b[0m \u001b[1m10s\u001b[0m 29ms/step - accuracy: 0.5695 - loss: 2.6359 - pr_auc: 0.8440 - precision: 0.8425 - recall: 0.5697 - roc_auc: 0.5891 - val_accuracy: 0.7973 - val_loss: 1.5512 - val_pr_auc: 0.8307 - val_precision: 0.8055 - val_recall: 0.9857 - val_roc_auc: 0.5736\n",
      "Epoch 20/25\n",
      "\u001b[1m364/364\u001b[0m \u001b[32m━━━━━━━━━━━━━━━━━━━━\u001b[0m\u001b[37m\u001b[0m \u001b[1m10s\u001b[0m 27ms/step - accuracy: 0.5546 - loss: 3.6469 - pr_auc: 0.8363 - precision: 0.8370 - recall: 0.5550 - roc_auc: 0.5693 - val_accuracy: 0.2341 - val_loss: 6.2684 - val_pr_auc: 0.8627 - val_precision: 0.9488 - val_recall: 0.0496 - val_roc_auc: 0.5942\n",
      "Epoch 21/25\n",
      "\u001b[1m364/364\u001b[0m \u001b[32m━━━━━━━━━━━━━━━━━━━━\u001b[0m\u001b[37m\u001b[0m \u001b[1m10s\u001b[0m 26ms/step - accuracy: 0.5627 - loss: 2.8183 - pr_auc: 0.8430 - precision: 0.8426 - recall: 0.5609 - roc_auc: 0.5846 - val_accuracy: 0.5907 - val_loss: 1.0632 - val_pr_auc: 0.8969 - val_precision: 0.8911 - val_recall: 0.5590 - val_roc_auc: 0.6981\n",
      "Epoch 22/25\n",
      "\u001b[1m364/364\u001b[0m \u001b[32m━━━━━━━━━━━━━━━━━━━━\u001b[0m\u001b[37m\u001b[0m \u001b[1m10s\u001b[0m 27ms/step - accuracy: 0.5648 - loss: 2.2133 - pr_auc: 0.8440 - precision: 0.8424 - recall: 0.5629 - roc_auc: 0.5888 - val_accuracy: 0.6004 - val_loss: 1.2601 - val_pr_auc: 0.8919 - val_precision: 0.8873 - val_recall: 0.5759 - val_roc_auc: 0.6915\n",
      "Epoch 23/25\n",
      "\u001b[1m364/364\u001b[0m \u001b[32m━━━━━━━━━━━━━━━━━━━━\u001b[0m\u001b[37m\u001b[0m \u001b[1m10s\u001b[0m 27ms/step - accuracy: 0.5583 - loss: 3.1944 - pr_auc: 0.8395 - precision: 0.8404 - recall: 0.5545 - roc_auc: 0.5791 - val_accuracy: 0.7980 - val_loss: 1.1609 - val_pr_auc: 0.8542 - val_precision: 0.8098 - val_recall: 0.9785 - val_roc_auc: 0.6300\n",
      "Epoch 24/25\n",
      "\u001b[1m364/364\u001b[0m \u001b[32m━━━━━━━━━━━━━━━━━━━━\u001b[0m\u001b[37m\u001b[0m \u001b[1m10s\u001b[0m 27ms/step - accuracy: 0.5514 - loss: 3.4881 - pr_auc: 0.8356 - precision: 0.8336 - recall: 0.5517 - roc_auc: 0.5720 - val_accuracy: 0.3800 - val_loss: 2.9933 - val_pr_auc: 0.8897 - val_precision: 0.9287 - val_recall: 0.2474 - val_roc_auc: 0.6687\n",
      "Epoch 25/25\n",
      "\u001b[1m364/364\u001b[0m \u001b[32m━━━━━━━━━━━━━━━━━━━━\u001b[0m\u001b[37m\u001b[0m \u001b[1m10s\u001b[0m 26ms/step - accuracy: 0.5664 - loss: 2.6522 - pr_auc: 0.8476 - precision: 0.8466 - recall: 0.5620 - roc_auc: 0.5941 - val_accuracy: 0.6915 - val_loss: 0.7504 - val_pr_auc: 0.8922 - val_precision: 0.8656 - val_recall: 0.7293 - val_roc_auc: 0.6939\n"
     ]
    }
   ],
   "source": [
    "# training: algin with the existing class_weight\n",
    "\n",
    "history_wd = wd_model.fit(\n",
    "    x=[X_train_wide, X_train_deep],\n",
    "    y=y_train,\n",
    "    epochs=25,\n",
    "    batch_size=256,\n",
    "    validation_data=([X_test_wide, X_test_deep], y_test),\n",
    "    class_weight=class_weight_dict,\n",
    "    verbose=1\n",
    ")"
   ]
  },
  {
   "cell_type": "markdown",
   "id": "5c86b346-5e30-4283-ab9a-d18ae8f99ea9",
   "metadata": {},
   "source": [
    "## Evaluating Model Performance.\n",
    "Plot out the validation loss versus the training loss."
   ]
  },
  {
   "cell_type": "code",
   "execution_count": 86,
   "id": "6886ba9f",
   "metadata": {},
   "outputs": [],
   "source": [
    "feature_cols = X_train.columns.tolist()"
   ]
  },
  {
   "cell_type": "code",
   "execution_count": 87,
   "id": "088c79f2-827e-4aa6-9633-1228003da611",
   "metadata": {},
   "outputs": [
    {
     "data": {
      "image/png": "[encoded data removed]",
      "text/plain": [
       "<Figure size 1200x700 with 1 Axes>"
      ]
     },
     "metadata": {},
     "output_type": "display_data"
    }
   ],
   "source": [
    "losses = pd.DataFrame(model.history.history)\n",
    "losses[['loss','val_loss']].plot(figsize=(12,7))\n",
    "plt.title('Training vs Validation Loss')\n",
    "plt.grid(True)\n",
    "plt.show()"
   ]
  },
  {
   "cell_type": "markdown",
   "id": "e001316a-9a03-43fd-a386-98de3a3e1acc",
   "metadata": {},
   "source": [
    "Creating predictions from the X_test set and display a classification report and confusion matrix for the X_test set."
   ]
  },
  {
   "cell_type": "code",
   "execution_count": 88,
   "id": "42f0a3e9-c311-4889-a325-c11f354ad5e0",
   "metadata": {},
   "outputs": [
    {
     "name": "stdout",
     "output_type": "stream",
     "text": [
      "\u001b[1m727/727\u001b[0m \u001b[32m━━━━━━━━━━━━━━━━━━━━\u001b[0m\u001b[37m\u001b[0m \u001b[1m1s\u001b[0m 2ms/step\n"
     ]
    }
   ],
   "source": [
    "pred_prob = model.predict(X_test_scaled_mm).ravel()\n",
    "pred_cls  = (pred_prob > 0.5).astype(int)"
   ]
  },
  {
   "cell_type": "code",
   "execution_count": 89,
   "id": "42b95858-3a76-49a1-94de-27b916b15537",
   "metadata": {
    "scrolled": true
   },
   "outputs": [
    {
     "name": "stdout",
     "output_type": "stream",
     "text": [
      "              precision    recall  f1-score   support\n",
      "\n",
      "           0       0.31      0.66      0.42      4568\n",
      "           1       0.88      0.63      0.74     18685\n",
      "\n",
      "    accuracy                           0.64     23253\n",
      "   macro avg       0.59      0.65      0.58     23253\n",
      "weighted avg       0.77      0.64      0.68     23253\n",
      "\n"
     ]
    }
   ],
   "source": [
    "from sklearn.metrics import classification_report\n",
    "print(classification_report(y_test, pred_cls))"
   ]
  },
  {
   "cell_type": "code",
   "execution_count": 90,
   "id": "3d474bac-5c63-448d-86ea-6497606ca8c6",
   "metadata": {},
   "outputs": [
    {
     "data": {
      "text/plain": [
       "array([[ 2999,  1569],\n",
       "       [ 6827, 11858]])"
      ]
     },
     "execution_count": 90,
     "metadata": {},
     "output_type": "execute_result"
    }
   ],
   "source": [
    "from sklearn.metrics import confusion_matrix\n",
    "confusion_matrix(y_test, pred_cls)"
   ]
  },
  {
   "cell_type": "code",
   "execution_count": 91,
   "id": "d5556fe2",
   "metadata": {},
   "outputs": [],
   "source": [
    "random_index = np.random.randint(0, len(df))\n",
    "new_customer = df.drop(['loan_repaid','loan_status'], axis=1, errors='ignore').iloc[[random_index]]"
   ]
  },
  {
   "cell_type": "code",
   "execution_count": 92,
   "id": "172b4eb4",
   "metadata": {},
   "outputs": [
    {
     "name": "stdout",
     "output_type": "stream",
     "text": [
      "\u001b[1m1/1\u001b[0m \u001b[32m━━━━━━━━━━━━━━━━━━━━\u001b[0m\u001b[37m\u001b[0m \u001b[1m0s\u001b[0m 42ms/step\n",
      "Predicted class: 0\n"
     ]
    }
   ],
   "source": [
    "new_customer_encoded = pd.get_dummies(new_customer, drop_first=True)\n",
    "\n",
    "if new_customer_encoded.columns.duplicated().any():\n",
    "    new_customer_encoded = new_customer_encoded.loc[:, ~new_customer_encoded.columns.duplicated()]\n",
    "\n",
    "train_cols = list(getattr(scaler_mm, \"feature_names_in_\", pd.Index(feature_cols).drop_duplicates()))\n",
    "\n",
    "new_customer_aligned = new_customer_encoded.reindex(columns=train_cols, fill_value=0)\n",
    "\n",
    "new_customer_scaled = scaler_mm.transform(new_customer_aligned)\n",
    "\n",
    "pred_prob_one = model.predict(new_customer_scaled).ravel()[0]\n",
    "pred_cls_one  = int(pred_prob_one > 0.5)\n",
    "print(\"Predicted class:\", pred_cls_one)\n"
   ]
  },
  {
   "cell_type": "code",
   "execution_count": 93,
   "id": "96031b7b-405d-4d82-ab5e-cf8803d4f60d",
   "metadata": {},
   "outputs": [],
   "source": [
    "# Now check, did this person actually end up paying back their loan?\n",
    "actual = df.iloc[random_index]['loan_repaid']"
   ]
  },
  {
   "cell_type": "code",
   "execution_count": 94,
   "id": "27c1eb7b-a1ed-4357-a707-8efed407beca",
   "metadata": {},
   "outputs": [
    {
     "name": "stdout",
     "output_type": "stream",
     "text": [
      "\u001b[1m727/727\u001b[0m \u001b[32m━━━━━━━━━━━━━━━━━━━━\u001b[0m\u001b[37m\u001b[0m \u001b[1m1s\u001b[0m 2ms/step\n"
     ]
    },
    {
     "data": {
      "image/png": "[encoded data removed]",
      "text/plain": [
       "<Figure size 640x480 with 1 Axes>"
      ]
     },
     "metadata": {},
     "output_type": "display_data"
    },
    {
     "name": "stdout",
     "output_type": "stream",
     "text": [
      "ROC-AUC Score: 0.7053065689017901\n"
     ]
    }
   ],
   "source": [
    "from sklearn.metrics import roc_auc_score, RocCurveDisplay\n",
    "pred_prob = model.predict(X_test_scaled_mm).ravel()\n",
    "ks = ks_statistics(y_test, pred_prob)\n",
    "auc = roc_auc_score(y_test, pred_prob)\n",
    "pr_auc = average_precision_score(y_test, pred_prob) \n",
    "RocCurveDisplay.from_predictions(y_test, pred_prob)\n",
    "plt.title(f'ROC Curve (AUC={auc:.3f})')\n",
    "plt.grid(True); plt.show()\n",
    "print(\"ROC-AUC Score:\", auc)"
   ]
  },
  {
   "cell_type": "code",
   "execution_count": 95,
   "id": "f2046d38",
   "metadata": {},
   "outputs": [
    {
     "name": "stdout",
     "output_type": "stream",
     "text": [
      "\u001b[1m727/727\u001b[0m \u001b[32m━━━━━━━━━━━━━━━━━━━━\u001b[0m\u001b[37m\u001b[0m \u001b[1m1s\u001b[0m 2ms/step\n"
     ]
    }
   ],
   "source": [
    "# Save Keras MLP result into results dict\n",
    "results = {}\n",
    "\n",
    "keras_probs = model.predict(X_test_scaled_mm).ravel()\n",
    "keras_preds = (keras_probs > 0.5).astype(int)\n",
    "\n",
    "results['Keras MLP (Class Weight)'] = {\n",
    "    \"report\": classification_report(y_test, keras_preds, output_dict=True),\n",
    "    \"roc_auc\": roc_auc_score(y_test, keras_probs),\n",
    "    \"pr_auc\":  average_precision_score(y_test, keras_probs),\n",
    "    \"ks\":      ks_statistics(y_test, keras_probs)\n",
    "}"
   ]
  },
  {
   "cell_type": "code",
   "execution_count": 96,
   "id": "a5e3dce3-c0f3-4fb6-ab81-7a3d1cae65b0",
   "metadata": {},
   "outputs": [
    {
     "data": {
      "image/png": "[encoded data removed]",
      "text/plain": [
       "<Figure size 800x600 with 1 Axes>"
      ]
     },
     "metadata": {},
     "output_type": "display_data"
    }
   ],
   "source": [
    "from sklearn.metrics import roc_curve\n",
    "fpr, tpr, thresholds = roc_curve(y_test, pred_prob)\n",
    "\n",
    "plt.figure(figsize=(8,6))\n",
    "plt.plot(fpr, tpr, label=f\"AUC = {auc:.3f}\")\n",
    "plt.plot([0,1], [0,1], 'k--', label=\"Random Guessing\")\n",
    "plt.xlabel('False Positive Rate')\n",
    "plt.ylabel('True Positive Rate')\n",
    "plt.title('Receiver Operating Characteristic (ROC) Curve')\n",
    "plt.legend()\n",
    "plt.grid()\n",
    "plt.tight_layout()\n",
    "plt.show()\n"
   ]
  },
  {
   "cell_type": "code",
   "execution_count": null,
   "id": "6a0f213f-9672-4ba1-8b8e-de1142b276ec",
   "metadata": {},
   "outputs": [
    {
     "name": "stdout",
     "output_type": "stream",
     "text": [
      "== Logistic Regression Report ==\n",
      "{'0': {'f1-score': 0.4168887067021931,\n",
      "       'precision': 0.3030092362697388,\n",
      "       'recall': 0.667907180385289,\n",
      "       'support': 4568.0},\n",
      " '1': {'f1-score': 0.7321848818601149,\n",
      "       'precision': 0.884936286407767,\n",
      "       'recall': 0.6244046026224244,\n",
      "       'support': 18685.0},\n",
      " 'accuracy': 0.6329505870210296,\n",
      " 'macro avg': {'f1-score': 0.574536794281154,\n",
      "               'precision': 0.5939727613387529,\n",
      "               'recall': 0.6461558915038567,\n",
      "               'support': 23253.0},\n",
      " 'weighted avg': {'f1-score': 0.6702456513039979,\n",
      "                  'precision': 0.7706180150006148,\n",
      "                  'recall': 0.6329505870210296,\n",
      "                  'support': 23253.0}}\n",
      "ROC-AUC Score: 0.7115653354278486\n",
      "Quick AUC: 0.7115653354278486\n"
     ]
    }
   ],
   "source": [
    "from sklearn.preprocessing import StandardScaler\n",
    "from sklearn.linear_model import LogisticRegression\n",
    "from sklearn.metrics import classification_report, roc_auc_score\n",
    "from pprint import pprint\n",
    "\n",
    "\n",
    "# 1. Logistic Regression Model\n",
    "\n",
    "# Standardize the data\n",
    "scaler_std = StandardScaler()\n",
    "X_train_scaled_std = scaler_std.fit_transform(X_train)\n",
    "X_test_scaled_std = scaler_std.transform(X_test)\n",
    "\n",
    "# Logistic Regression\n",
    "lr_model = LogisticRegression(max_iter=2000, solver='lbfgs', random_state=42, class_weight='balanced') # add class_weight\n",
    "lr_model.fit(X_train_scaled_std, y_train)\n",
    "lr_preds = lr_model.predict(X_test_scaled_std)\n",
    "lr_probs = lr_model.predict_proba(X_test_scaled_std)[:, 1]\n",
    "pr_auc = average_precision_score(y_test, lr_probs)\n",
    "\n",
    "# Calculte KS\n",
    "ks = ks_statistics(y_test, lr_probs)\n",
    "\n",
    "# Store results\n",
    "results['Logistic Regression (Class Weight)'] = {\n",
    "    \"report\": classification_report(y_test, lr_preds, output_dict=True),\n",
    "    \"roc_auc\": roc_auc_score(y_test, lr_probs),\n",
    "    \"pr_auc\": average_precision_score(y_test, lr_probs),\n",
    "    \"ks\": ks  #save ks\n",
    "}\n",
    "\n",
    "# Print results\n",
    "print(\"== Logistic Regression Report ==\")\n",
    "pprint(results['Logistic Regression (Class Weight)']['report'])\n",
    "print(\"ROC-AUC Score:\", results['Logistic Regression (Class Weight)']['roc_auc'])\n",
    "\n",
    "# Quick AUC print\n",
    "print(\"Quick AUC:\", roc_auc_score(y_test, lr_probs))\n"
   ]
  },
  {
   "cell_type": "code",
   "execution_count": null,
   "id": "8118bd05-f648-49ee-b41d-c9e94bee9d5a",
   "metadata": {},
   "outputs": [
    {
     "name": "stdout",
     "output_type": "stream",
     "text": [
      "== Random Forest Report ==\n",
      "{'0': {'f1-score': 0.08827641302176953,\n",
      "       'precision': 0.5034168564920274,\n",
      "       'recall': 0.048380035026269703,\n",
      "       'support': 4568.0},\n",
      " '1': {'f1-score': 0.8899973493337189,\n",
      "       'precision': 0.8094591040589112,\n",
      "       'recall': 0.9883328873427883,\n",
      "       'support': 18685.0},\n",
      " 'accuracy': 0.8036812454306971,\n",
      " 'macro avg': {'f1-score': 0.48913688117774423,\n",
      "               'precision': 0.6564379802754693,\n",
      "               'recall': 0.518356461184529,\n",
      "               'support': 23253.0},\n",
      " 'weighted avg': {'f1-score': 0.732501059088461,\n",
      "                  'precision': 0.7493377869434625,\n",
      "                  'recall': 0.8036812454306971,\n",
      "                  'support': 23253.0}}\n",
      "ROC-AUC Score: 0.700269369306884\n"
     ]
    }
   ],
   "source": [
    "#2. Random Forest Model\n",
    "\n",
    "from sklearn.ensemble import RandomForestClassifier\n",
    "from sklearn.metrics import classification_report, roc_auc_score\n",
    "from pprint import pprint\n",
    "\n",
    "# Initialize the Random Forest model\n",
    "rf_model = RandomForestClassifier(n_estimators=100, random_state=42, class_weight='balanced')\n",
    "rf_model.fit(X_train, y_train)\n",
    "\n",
    "# Predict class labels and probabilities\n",
    "rf_preds = rf_model.predict(X_test)\n",
    "rf_probs = rf_model.predict_proba(X_test)[:, 1]\n",
    "pr_auc = average_precision_score(y_test, rf_probs)\n",
    "\n",
    "ks = ks_statistics(y_test, rf_probs)\n",
    "\n",
    "# Save evaluation results into the `results` dictionary\n",
    "results['Random Forest (Class Weight)'] = {\n",
    "    \"report\": classification_report(y_test, rf_preds, output_dict=True),\n",
    "    \"roc_auc\": roc_auc_score(y_test, rf_probs),\n",
    "    \"pr_auc\": average_precision_score(y_test, rf_probs),\n",
    "    \"ks\": ks\n",
    "}\n",
    "\n",
    "# Print the results\n",
    "print(\"== Random Forest Report ==\")\n",
    "pprint(results['Random Forest (Class Weight)']['report'])\n",
    "print(\"ROC-AUC Score:\", results['Random Forest (Class Weight)']['roc_auc'])\n"
   ]
  },
  {
   "cell_type": "code",
   "execution_count": null,
   "id": "514f21d2-3953-442e-ad9d-72e2ea6bdd2e",
   "metadata": {},
   "outputs": [
    {
     "name": "stdout",
     "output_type": "stream",
     "text": [
      "== Naive Bayes Report ==\n",
      "{'0': {'precision': 0.2824481181850158, 'recall': 0.7031523642732049, 'f1-score': 0.4030112923462986, 'support': 4568.0}, '1': {'precision': 0.8858681929130544, 'recall': 0.5632860583355633, 'f1-score': 0.6886736897206046, 'support': 18685.0}, 'accuracy': 0.5907624822603535, 'macro avg': {'precision': 0.5841581555490352, 'recall': 0.6332192113043842, 'f1-score': 0.5458424910334516, 'support': 23253.0}, 'weighted avg': {'precision': 0.7673276647507665, 'recall': 0.5907624822603535, 'f1-score': 0.6325559487320943, 'support': 23253.0}}\n",
      "ROC-AUC Score: 0.6872293653609219\n"
     ]
    }
   ],
   "source": [
    "\n",
    "# 3. Naive Bayes\n",
    "\n",
    "from sklearn.naive_bayes import GaussianNB\n",
    "from sklearn.utils.class_weight import compute_sample_weight\n",
    "\n",
    "# sample weight\n",
    "sw = compute_sample_weight(class_weight='balanced', y=y_train)\n",
    "\n",
    "# Initialize and train the Naive Bayes model\n",
    "nb_model = GaussianNB()\n",
    "nb_model.fit(X_train, y_train, sample_weight=sw)\n",
    "\n",
    "# Make predictions\n",
    "nb_preds = nb_model.predict(X_test)\n",
    "nb_probs = nb_model.predict_proba(X_test)[:, 1]\n",
    "pr_auc = average_precision_score(y_test, nb_probs)\n",
    "\n",
    "# Calculate ks\n",
    "ks = ks_statistics(y_test, nb_probs) \n",
    "\n",
    "# Save evaluation results\n",
    "results['Naive Bayes (Sample Weight)'] = {\n",
    "    \"report\": classification_report(y_test, nb_preds, output_dict=True),\n",
    "    \"roc_auc\": roc_auc_score(y_test, nb_probs),\n",
    "    \"pr_auc\": average_precision_score(y_test, nb_probs),\n",
    "    \"ks\": ks_statistics(y_test,nb_probs)\n",
    "}\n",
    "\n",
    "# Print the results\n",
    "print(\"== Naive Bayes Report ==\")\n",
    "print(results['Naive Bayes (Sample Weight)']['report'])\n",
    "print(\"ROC-AUC Score:\", results['Naive Bayes (Sample Weight)']['roc_auc'])\n"
   ]
  },
  {
   "cell_type": "code",
   "execution_count": null,
   "id": "b80db2d9-d257-40b2-ba91-a7ae2a5798ce",
   "metadata": {},
   "outputs": [
    {
     "name": "stdout",
     "output_type": "stream",
     "text": [
      "== Artificial Neural Network Report ==\n",
      "{'0': {'precision': 0.5060773480662983, 'recall': 0.10026269702276708, 'f1-score': 0.16736707473049517, 'support': 4568.0}, '1': {'precision': 0.8160909253624485, 'recall': 0.976077067166176, 'f1-score': 0.8889430458411522, 'support': 18685.0}, 'accuracy': 0.8040252870597342, 'macro avg': {'precision': 0.6610841367143734, 'recall': 0.5381698820944716, 'f1-score': 0.5281550602858237, 'support': 23253.0}, 'weighted avg': {'precision': 0.7551894493770354, 'recall': 0.8040252870597342, 'f1-score': 0.7471910553008572, 'support': 23253.0}}\n",
      "ROC-AUC Score: 0.7022178812996556\n",
      "KS: 0.2909455171389246\n"
     ]
    }
   ],
   "source": [
    "#4. Artificial Neural Network \n",
    "\n",
    "from sklearn.neural_network import MLPClassifier\n",
    "\n",
    "# Train ANN on the standardized data\n",
    "ann_model = MLPClassifier(hidden_layer_sizes=(100, 50), max_iter=500,\n",
    "                          early_stopping=True, random_state=42)\n",
    "\n",
    "ann_model.fit(X_train_scaled_std, y_train)\n",
    "\n",
    "# Predict labels and probabilities\n",
    "ann_preds = ann_model.predict(X_test_scaled_std)\n",
    "ann_probs = ann_model.predict_proba(X_test_scaled_std)[:, 1]\n",
    "pr_auc = average_precision_score(y_test, ann_probs)\n",
    "ks = ks_statistics(y_test, ann_probs)\n",
    "\n",
    "\n",
    "\n",
    "# Save evaluation results in the `results` dictionary\n",
    "results['ANN (Baseline)'] = {\n",
    "    \"report\": classification_report(y_test, ann_preds, output_dict=True),\n",
    "    \"roc_auc\": roc_auc_score(y_test, ann_probs),\n",
    "    \"pr_auc\": average_precision_score(y_test, ann_probs),\n",
    "    \"ks\": ks\n",
    "}\n",
    "\n",
    "# Display the results\n",
    "print(\"== Artificial Neural Network Report ==\")\n",
    "print(results['ANN (Baseline)']['report'])\n",
    "print(\"ROC-AUC Score:\", results['ANN (Baseline)']['roc_auc'])\n",
    "print(\"KS:\", results['ANN (Baseline)']['ks'])\n",
    "\n"
   ]
  },
  {
   "cell_type": "code",
   "execution_count": 104,
   "id": "18393b35",
   "metadata": {},
   "outputs": [
    {
     "name": "stderr",
     "output_type": "stream",
     "text": [
      "/Users/auraw./Desktop/698/.venv/lib/python3.9/site-packages/sklearn/base.py:474: FutureWarning: `BaseEstimator._validate_data` is deprecated in 1.6 and will be removed in 1.7. Use `sklearn.utils.validation.validate_data` instead. This function becomes public and is part of the scikit-learn developer API.\n",
      "  warnings.warn(\n"
     ]
    },
    {
     "name": "stdout",
     "output_type": "stream",
     "text": [
      "== Artificial Neural Network Report(SMOTE) ==\n",
      "{'0': {'precision': 0.3040212107821476, 'recall': 0.30122591943957966, 'f1-score': 0.30261711018253795, 'support': 4568.0}, '1': {'precision': 0.8295509157900358, 'recall': 0.8314155739898315, 'f1-score': 0.8304821982251684, 'support': 18685.0}, 'accuracy': 0.7272609985808283, 'macro avg': {'precision': 0.5667860632860917, 'recall': 0.5663207467147056, 'f1-score': 0.5665496542038532, 'support': 23253.0}, 'weighted avg': {'precision': 0.7263117770777823, 'recall': 0.7272609985808283, 'f1-score': 0.726784278723223, 'support': 23253.0}}\n",
      "ROC-AUC Score: 0.6245863886809943\n",
      "KS: 0.17985821952763748\n"
     ]
    }
   ],
   "source": [
    "from imblearn.over_sampling import SMOTE\n",
    "\n",
    "# ANN SMOTE\n",
    "sm = SMOTE(random_state=42)\n",
    "Xtr_sm,ytr_sm = sm.fit_resample(X_train_scaled_std, y_train)\n",
    "\n",
    "ann_model_sm = MLPClassifier(hidden_layer_sizes=(100, 50), max_iter=500,\n",
    "                          early_stopping=True, random_state=42)\n",
    "ann_model_sm.fit(Xtr_sm, ytr_sm)\n",
    "ann_preds_sm = ann_model_sm.predict(X_test_scaled_std)\n",
    "ann_probs_sm = ann_model_sm.predict_proba(X_test_scaled_std)[:, 1]\n",
    "ks_sm = ks_statistics(y_test, ann_probs_sm)\n",
    "\n",
    "results['Artificial Neural Network (SMOTE)'] = {\n",
    "    \"report\": classification_report(y_test, ann_preds_sm, output_dict=True),\n",
    "    \"roc_auc\": roc_auc_score(y_test, ann_probs_sm),\n",
    "    \"pr_auc\": average_precision_score(y_test, ann_probs_sm),\n",
    "    \"ks\": ks_sm\n",
    "}\n",
    "\n",
    "print(\"== Artificial Neural Network Report(SMOTE) ==\")\n",
    "print(results['Artificial Neural Network (SMOTE)']['report'])\n",
    "print(\"ROC-AUC Score:\", results['Artificial Neural Network (SMOTE)']['roc_auc'])\n",
    "print(\"KS:\", results['Artificial Neural Network (SMOTE)']['ks'])"
   ]
  },
  {
   "cell_type": "code",
   "execution_count": 106,
   "id": "089c8e58",
   "metadata": {},
   "outputs": [],
   "source": [
    "# Add wide and deep to result\n",
    "wd_pred_prob = wd_model.predict([X_test_wide, X_test_deep], verbose=0).ravel()\n",
    "wd_pred_cls = (wd_pred_prob > 0.5).astype(int)\n",
    "\n",
    "wd_report = classification_report(y_test, wd_pred_cls, output_dict=True)\n",
    "wd_roc_auc = roc_auc_score(y_test, wd_pred_prob)\n",
    "wd_pr_auc = average_precision_score(y_test, wd_pred_prob)\n",
    "wd_ks = ks_statistics(y_test, wd_pred_prob)\n",
    "\n",
    "# Add to result dict\n",
    "results['Wide & Deep (Class Weight)'] = {\n",
    "    \"report\": wd_report,\n",
    "    \"roc_auc\": wd_roc_auc,\n",
    "    \"pr_auc\": wd_pr_auc,\n",
    "    \"ks\": wd_ks\n",
    "}"
   ]
  },
  {
   "cell_type": "code",
   "execution_count": 107,
   "id": "ea476341-c0d6-47ca-b73a-57c63182b2a6",
   "metadata": {},
   "outputs": [
    {
     "data": {
      "text/html": [
       "<div>\n",
       "<style scoped>\n",
       "    .dataframe tbody tr th:only-of-type {\n",
       "        vertical-align: middle;\n",
       "    }\n",
       "\n",
       "    .dataframe tbody tr th {\n",
       "        vertical-align: top;\n",
       "    }\n",
       "\n",
       "    .dataframe thead th {\n",
       "        text-align: right;\n",
       "    }\n",
       "</style>\n",
       "<table border=\"1\" class=\"dataframe\">\n",
       "  <thead>\n",
       "    <tr style=\"text-align: right;\">\n",
       "      <th></th>\n",
       "      <th>Model</th>\n",
       "      <th>Accuracy</th>\n",
       "      <th>Precision</th>\n",
       "      <th>Recall</th>\n",
       "      <th>F1-Score</th>\n",
       "      <th>ROC-AUC</th>\n",
       "      <th>PR-AUC</th>\n",
       "      <th>KS</th>\n",
       "    </tr>\n",
       "  </thead>\n",
       "  <tbody>\n",
       "    <tr>\n",
       "      <th>0</th>\n",
       "      <td>Logistic Regression (Class Weight)</td>\n",
       "      <td>0.63295</td>\n",
       "      <td>0.88494</td>\n",
       "      <td>0.62440</td>\n",
       "      <td>0.73218</td>\n",
       "      <td>0.7116</td>\n",
       "      <td>0.9044</td>\n",
       "      <td>0.3011</td>\n",
       "    </tr>\n",
       "    <tr>\n",
       "      <th>1</th>\n",
       "      <td>Keras MLP (Class Weight)</td>\n",
       "      <td>0.63893</td>\n",
       "      <td>0.88315</td>\n",
       "      <td>0.63463</td>\n",
       "      <td>0.73854</td>\n",
       "      <td>0.7053</td>\n",
       "      <td>0.9006</td>\n",
       "      <td>0.2929</td>\n",
       "    </tr>\n",
       "    <tr>\n",
       "      <th>2</th>\n",
       "      <td>ANN (Baseline)</td>\n",
       "      <td>0.80403</td>\n",
       "      <td>0.81609</td>\n",
       "      <td>0.97608</td>\n",
       "      <td>0.88894</td>\n",
       "      <td>0.7022</td>\n",
       "      <td>0.8997</td>\n",
       "      <td>0.2909</td>\n",
       "    </tr>\n",
       "    <tr>\n",
       "      <th>3</th>\n",
       "      <td>Random Forest (Class Weight)</td>\n",
       "      <td>0.80368</td>\n",
       "      <td>0.80946</td>\n",
       "      <td>0.98833</td>\n",
       "      <td>0.89000</td>\n",
       "      <td>0.7003</td>\n",
       "      <td>0.8959</td>\n",
       "      <td>0.2885</td>\n",
       "    </tr>\n",
       "    <tr>\n",
       "      <th>4</th>\n",
       "      <td>Wide &amp; Deep (Class Weight)</td>\n",
       "      <td>0.69148</td>\n",
       "      <td>0.86559</td>\n",
       "      <td>0.72930</td>\n",
       "      <td>0.79162</td>\n",
       "      <td>0.6940</td>\n",
       "      <td>0.8922</td>\n",
       "      <td>0.2837</td>\n",
       "    </tr>\n",
       "    <tr>\n",
       "      <th>5</th>\n",
       "      <td>Naive Bayes (Sample Weight)</td>\n",
       "      <td>0.59076</td>\n",
       "      <td>0.88587</td>\n",
       "      <td>0.56329</td>\n",
       "      <td>0.68867</td>\n",
       "      <td>0.6872</td>\n",
       "      <td>0.8868</td>\n",
       "      <td>0.2686</td>\n",
       "    </tr>\n",
       "    <tr>\n",
       "      <th>6</th>\n",
       "      <td>Artificial Neural Network (SMOTE)</td>\n",
       "      <td>0.72726</td>\n",
       "      <td>0.82955</td>\n",
       "      <td>0.83142</td>\n",
       "      <td>0.83048</td>\n",
       "      <td>0.6246</td>\n",
       "      <td>0.8654</td>\n",
       "      <td>0.1799</td>\n",
       "    </tr>\n",
       "  </tbody>\n",
       "</table>\n",
       "</div>"
      ],
      "text/plain": [
       "                                Model  Accuracy  Precision   Recall  F1-Score  \\\n",
       "0  Logistic Regression (Class Weight)   0.63295    0.88494  0.62440   0.73218   \n",
       "1            Keras MLP (Class Weight)   0.63893    0.88315  0.63463   0.73854   \n",
       "2                      ANN (Baseline)   0.80403    0.81609  0.97608   0.88894   \n",
       "3        Random Forest (Class Weight)   0.80368    0.80946  0.98833   0.89000   \n",
       "4          Wide & Deep (Class Weight)   0.69148    0.86559  0.72930   0.79162   \n",
       "5         Naive Bayes (Sample Weight)   0.59076    0.88587  0.56329   0.68867   \n",
       "6   Artificial Neural Network (SMOTE)   0.72726    0.82955  0.83142   0.83048   \n",
       "\n",
       "   ROC-AUC  PR-AUC      KS  \n",
       "0   0.7116  0.9044  0.3011  \n",
       "1   0.7053  0.9006  0.2929  \n",
       "2   0.7022  0.8997  0.2909  \n",
       "3   0.7003  0.8959  0.2885  \n",
       "4   0.6940  0.8922  0.2837  \n",
       "5   0.6872  0.8868  0.2686  \n",
       "6   0.6246  0.8654  0.1799  "
      ]
     },
     "metadata": {},
     "output_type": "display_data"
    }
   ],
   "source": [
    "\n",
    "# Create a list to store evaluation results\n",
    "summary_data = []\n",
    "\n",
    "def safe_round(val, n=2):\n",
    "    return round(val, n) if val is not None else None\n",
    "\n",
    "# Iterate through all saved models in the 'results' dictionary\n",
    "for model_name, metrics in results.items():\n",
    "    report = metrics.get(\"report\")\n",
    "    roc_auc = metrics.get(\"roc_auc\")\n",
    "    pr_auc = metrics.get(\"pr_auc\")\n",
    "    ks_val =metrics.get(\"ks\") \n",
    "\n",
    "    summary_data.append({\n",
    "        \"Model\": model_name,\n",
    "        \"Accuracy\": safe_round(report[\"accuracy\"], 5),\n",
    "        \"Precision\": safe_round(report[\"1\"][\"precision\"], 5),\n",
    "        \"Recall\": safe_round(report[\"1\"][\"recall\"], 5),\n",
    "        \"F1-Score\": safe_round(report[\"1\"][\"f1-score\"], 5),\n",
    "        \"ROC-AUC\": safe_round(roc_auc, 4),\n",
    "        \"PR-AUC\": safe_round(pr_auc, 4),\n",
    "        \"KS\": safe_round(ks_val, 4)\n",
    "    })\n",
    "\n",
    "# Create a DataFrame from the summary list\n",
    "summary_table = pd.DataFrame(summary_data)\n",
    "\n",
    "# Sort the table by ROC-AUC in descending order\n",
    "summary_table = summary_table.sort_values(by=[\"PR-AUC\", \"ROC-AUC\"], ascending=False).reset_index(drop=True)\n",
    "\n",
    "\n",
    "\n",
    "# Display the summary table\n",
    "from IPython.display import display\n",
    "display(summary_table)\n"
   ]
  }
 ],
 "metadata": {
  "kernelspec": {
   "display_name": ".venv",
   "language": "python",
   "name": "python3"
  },
  "language_info": {
   "codemirror_mode": {
    "name": "ipython",
    "version": 3
   },
   "file_extension": ".py",
   "mimetype": "text/x-python",
   "name": "python",
   "nbconvert_exporter": "python",
   "pygments_lexer": "ipython3",
   "version": "3.9.6"
  }
 },
 "nbformat": 4,
 "nbformat_minor": 5
}
